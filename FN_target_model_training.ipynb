{
 "cells": [
  {
   "cell_type": "code",
   "execution_count": 1,
   "metadata": {},
   "outputs": [],
   "source": [
    "from xgboost import XGBRegressor\n",
    "import os\n",
    "os.environ['NUMEXPR_MAX_THREADS'] = '10' #<---- set your max threads to your computer's specifications\n",
    "os.environ['NUMEXPR_NUM_THREADS'] = '10'\n",
    "import pandas as pd\n",
    "import numpy as np\n",
    "import matplotlib.pyplot as plt\n",
    "from sklearn.preprocessing import minmax_scale\n",
    "from joblib import dump, load\n",
    "\n",
    "df_train = pd.read_feather('df_neut_training_compressed_nomi80.feather')\n",
    "features = [c for c in df_train if c.startswith(\"feature\")]\n",
    "df_train['era'] = df_train.loc[:, 'era'].str[3:].astype(int)"
   ]
  },
  {
   "cell_type": "code",
   "execution_count": 3,
   "metadata": {},
   "outputs": [
    {
     "name": "stdout",
     "output_type": "stream",
     "text": [
      "<class 'pandas.core.frame.DataFrame'>\n",
      "RangeIndex: 501808 entries, 0 to 501807\n",
      "Columns: 315 entries, id to neutralized_target\n",
      "dtypes: float32(310), float64(2), int32(1), object(2)\n",
      "memory usage: 610.6+ MB\n"
     ]
    }
   ],
   "source": [
    "df_train.info()"
   ]
  },
  {
   "cell_type": "code",
   "execution_count": 4,
   "metadata": {},
   "outputs": [
    {
     "data": {
      "text/plain": [
       "XGBRegressor(base_score=0.5, booster='gbtree', colsample_bylevel=1,\n",
       "             colsample_bynode=1, colsample_bytree=0.1, gamma=0, gpu_id=-1,\n",
       "             importance_type='gain', interaction_constraints='',\n",
       "             learning_rate=0.01, max_delta_step=0, max_depth=5,\n",
       "             min_child_weight=1, missing=nan, monotone_constraints='()',\n",
       "             n_estimators=2000, n_jobs=-1, num_parallel_tree=1, random_state=0,\n",
       "             reg_alpha=0, reg_lambda=1, scale_pos_weight=1, subsample=1,\n",
       "             tree_method='exact', validate_parameters=1, verbosity=None)"
      ]
     },
     "execution_count": 4,
     "metadata": {},
     "output_type": "execute_result"
    }
   ],
   "source": [
    "model = XGBRegressor(max_depth = 5, learning_rate = 0.01, n_estimators = 2000, n_jobs = -1, colsample_bytree = 0.1)#, tree_method = 'gpu_hist')\n",
    "\n",
    "y = df_train.neutralized_target.values\n",
    "\n",
    "features = [c for c in df_train if c.startswith(\"feature\")]\n",
    "\n",
    "X = df_train[features].values\n",
    "\n",
    "model.fit(X, y)"
   ]
  },
  {
   "cell_type": "code",
   "execution_count": 23,
   "metadata": {},
   "outputs": [],
   "source": [
    "df_val = pd.read_feather('validation_compressed_nomi.feather')\n",
    "df_val['era'] = df_val.loc[:, 'era'].str[3:].astype(int)\n",
    "preds = model.predict(df_val[features].values)\n",
    "df_val['preds'] = preds"
   ]
  },
  {
   "cell_type": "code",
   "execution_count": 24,
   "metadata": {},
   "outputs": [
    {
     "name": "stderr",
     "output_type": "stream",
     "text": [
      "C:\\Users\\jtaylo98\\Anaconda3\\envs\\main\\lib\\site-packages\\ipykernel_launcher.py:29: DeprecationWarning: The default dtype for empty Series will be 'object' instead of 'float64' in a future version. Specify a dtype explicitly to silence this warning.\n"
     ]
    },
    {
     "name": "stdout",
     "output_type": "stream",
     "text": [
      "getting per era scores\n",
      "performance over time\n"
     ]
    },
    {
     "data": {
      "image/png": "[encoded data removed]",
      "text/plain": [
       "<Figure size 432x288 with 1 Axes>"
      ]
     },
     "metadata": {
      "needs_background": "light"
     },
     "output_type": "display_data"
    },
    {
     "name": "stdout",
     "output_type": "stream",
     "text": [
      "Maximum Drawdown (Minimum Score)\n",
      "-0.027877526900198582\n",
      "Average Correlation\n",
      "0.021893915951238886\n",
      "Median Correlation\n",
      "0.023402524865575224\n",
      "Variance\n",
      "0.0005008466464270914\n",
      "Std. Dev.\n",
      "0.022379603357233376\n",
      "Autocorrelation\n",
      "-0.005925907165487958\n",
      "Sharpe\n",
      "3.388922868638041\n",
      "Smart Sharpe\n",
      "3.308894104633665\n",
      "Numerai Sharpe\n",
      "1.7767784879983728\n",
      "Skewness\n",
      "-0.5496670809218124\n",
      "Excess Kurtosis\n",
      "-0.15487777242749834\n",
      "Standard Error of the Mean\n",
      "0.00430695667421858\n",
      "Annualized Sharpe\n",
      "1.7767784879983728\n",
      "Adjusted Sharpe\n",
      "2.2249130362976763\n",
      "Value at Risk (VaR) with 10% probability of occurring\n",
      "-0.021737966949264467\n",
      "Smart Sortino Ratio\n",
      "0.9415172952755326\n",
      "Sortino Ratio\n",
      "0.9469127942262014\n"
     ]
    }
   ],
   "source": [
    "import matplotlib.pyplot as plt\n",
    "from sklearn.preprocessing import minmax_scale\n",
    "\n",
    "def ar1(x):\n",
    "    return np.corrcoef(x[:-1], x[1:])[0,1]\n",
    "\n",
    "def autocorr_penalty(x):\n",
    "    n = len(x)\n",
    "    p = np.abs(ar1(x))\n",
    "    return np.sqrt(1 + 2*np.sum([((n - i)/n)*p**i for i in range(1,n)]))\n",
    "\n",
    "def smart_sharpe(x):\n",
    "    return (np.mean(x)/(np.std(x, ddof=1) * autocorr_penalty(x)) * np.sqrt(12))\n",
    "\n",
    "def numerai_sharpe(x):\n",
    "    return ((np.mean(x) - 0.010415154) / np.std(x)) * np.sqrt(12)\n",
    "\n",
    "def spearmanr(target, pred):\n",
    "    return np.corrcoef(\n",
    "        target,\n",
    "        pred.rank(pct=True, method=\"first\")\n",
    "    )[0, 1]\n",
    "\n",
    "\n",
    "era_col = df_val.era\n",
    "new_df = df_val.copy()\n",
    "new_df['era'] = era_col\n",
    "new_df[\"pred\"] = df_val.preds\n",
    "era_scores = pd.Series(index=new_df['era'].unique())\n",
    "print(\"getting per era scores\")\n",
    "for era in new_df['era'].unique():\n",
    "    era_df = new_df[new_df['era'] == era]\n",
    "    era_scores[era] = spearmanr(era_df['pred'], era_df['target'])\n",
    "era_scores.sort_values(inplace=True)\n",
    "era_scores.sort_index(inplace=True)\n",
    "era_scores.plot(kind=\"bar\")\n",
    "print(\"performance over time\")\n",
    "plt.show()\n",
    "\n",
    "print(\"Maximum Drawdown (Minimum Score)\")\n",
    "print(np.min(era_scores))\n",
    "print(\"Average Correlation\")\n",
    "print(np.mean(era_scores))\n",
    "print(\"Median Correlation\")\n",
    "print(np.median(era_scores))\n",
    "print(\"Variance\")\n",
    "print(np.var(era_scores))\n",
    "print(\"Std. Dev.\")\n",
    "print(np.std(era_scores))\n",
    "print(\"Autocorrelation\")\n",
    "print(ar1(era_scores))\n",
    "print(\"Sharpe\")\n",
    "print(np.mean(era_scores)/np.std(era_scores) * np.sqrt(12))\n",
    "print(\"Smart Sharpe\")\n",
    "print(smart_sharpe(era_scores))\n",
    "print(\"Numerai Sharpe\")\n",
    "print(numerai_sharpe(era_scores))\n",
    "import scipy \n",
    "from scipy.stats import skew, kurtosis, sem, gmean\n",
    "\n",
    "print(\"Skewness\")\n",
    "print(skew(era_scores))\n",
    "print(\"Excess Kurtosis\")\n",
    "print(kurtosis(era_scores))\n",
    "print(\"Standard Error of the Mean\")\n",
    "print(sem(era_scores))\n",
    "\n",
    "\n",
    "def annual_sharpe(x):\n",
    "    return ((np.mean(x) -0.010415154) /np.std(x)) * np.sqrt(12)\n",
    "\n",
    "print(\"Annualized Sharpe\")\n",
    "print(annual_sharpe(era_scores))\n",
    "def adj_sharpe(x):\n",
    "    return annual_sharpe(x) * (1 + ((skew(x) / 6) * annual_sharpe(x)) - ((kurtosis(x) - 3) / 24) * (annual_sharpe(x) ** 2))\n",
    "print(\"Adjusted Sharpe\")\n",
    "print(adj_sharpe(era_scores))\n",
    "\n",
    "def VaR(x):\n",
    "    return -np.mean(x) - np.sqrt(np.var(x)) * np.percentile(x, 10)\n",
    "print(\"Value at Risk (VaR) with 10% probability of occurring\")\n",
    "print(VaR(era_scores))\n",
    "def smart_sortino_ratio(x, target=0.010415154):\n",
    "    xt = x - target\n",
    "    return np.mean(xt)/(((np.sum(np.minimum(0, xt)**2)/(len(xt)-1))**.5)*autocorr_penalty(x))\n",
    "print(\"Smart Sortino Ratio\")\n",
    "print(smart_sortino_ratio(era_scores))\n",
    "def sortino_ratio(x, target=0.010415154):\n",
    "    xt = x - target\n",
    "    return np.mean(xt) / (np.sum(np.minimum(0, xt)**2)/(len(xt)-1))**.5\n",
    "print(\"Sortino Ratio\")\n",
    "print(sortino_ratio(era_scores))"
   ]
  },
  {
   "cell_type": "code",
   "execution_count": 17,
   "metadata": {},
   "outputs": [],
   "source": [
    "df_val = pd.read_feather('validation_compressed_nomi.feather')\n",
    "df_val['era'] = df_val.loc[:, 'era'].str[3:].astype(int)\n",
    "ex_preds = pd.read_csv('example_predictions.csv')\n",
    "tournament_data = pd.read_csv(\"https://numerai-public-datasets.s3-us-west-2.amazonaws.com/latest_numerai_tournament_data.csv.xz\")\n",
    "tournament_data['preds'] = ex_preds.prediction\n",
    "df_val = tournament_data[tournament_data.data_type == \"validation\"].copy()"
   ]
  },
  {
   "cell_type": "code",
   "execution_count": 22,
   "metadata": {},
   "outputs": [
    {
     "name": "stderr",
     "output_type": "stream",
     "text": [
      "C:\\Users\\jtaylo98\\Anaconda3\\envs\\main\\lib\\site-packages\\ipykernel_launcher.py:29: DeprecationWarning: The default dtype for empty Series will be 'object' instead of 'float64' in a future version. Specify a dtype explicitly to silence this warning.\n"
     ]
    },
    {
     "name": "stdout",
     "output_type": "stream",
     "text": [
      "getting per era scores\n",
      "performance over time\n"
     ]
    },
    {
     "data": {
      "image/png": "[encoded data removed]",
      "text/plain": [
       "<Figure size 432x288 with 1 Axes>"
      ]
     },
     "metadata": {
      "needs_background": "light"
     },
     "output_type": "display_data"
    },
    {
     "name": "stdout",
     "output_type": "stream",
     "text": [
      "Maximum Drawdown (Minimum Score)\n",
      "-0.034826069947569156\n",
      "Average Correlation\n",
      "0.02577288711854387\n",
      "Median Correlation\n",
      "0.02849796114018107\n",
      "Variance\n",
      "0.0007183244535607144\n",
      "Std. Dev.\n",
      "0.026801575579818333\n",
      "Autocorrelation\n",
      "0.011327574761735622\n",
      "Sharpe\n",
      "3.331143709377253\n",
      "Smart Sharpe\n",
      "3.235581264983064\n",
      "Numerai Sharpe\n",
      "1.9849858431779186\n",
      "Skewness\n",
      "-0.3148614463735574\n",
      "Excess Kurtosis\n",
      "-0.41577520831091475\n",
      "Standard Error of the Mean\n",
      "0.005157965625238071\n",
      "Annualized Sharpe\n",
      "1.9849858431779186\n",
      "Adjusted Sharpe\n",
      "2.8913592310251746\n",
      "Value at Risk (VaR) with 10% probability of occurring\n",
      "-0.02544198585836388\n",
      "Smart Sortino Ratio\n",
      "1.180835294469448\n",
      "Sortino Ratio\n",
      "1.193804602474968\n"
     ]
    }
   ],
   "source": [
    "import matplotlib.pyplot as plt\n",
    "from sklearn.preprocessing import minmax_scale\n",
    "\n",
    "def ar1(x):\n",
    "    return np.corrcoef(x[:-1], x[1:])[0,1]\n",
    "\n",
    "def autocorr_penalty(x):\n",
    "    n = len(x)\n",
    "    p = np.abs(ar1(x))\n",
    "    return np.sqrt(1 + 2*np.sum([((n - i)/n)*p**i for i in range(1,n)]))\n",
    "\n",
    "def smart_sharpe(x):\n",
    "    return (np.mean(x)/(np.std(x, ddof=1) * autocorr_penalty(x)) * np.sqrt(12))\n",
    "\n",
    "def numerai_sharpe(x):\n",
    "    return ((np.mean(x) - 0.010415154) / np.std(x)) * np.sqrt(12)\n",
    "\n",
    "def spearmanr(target, pred):\n",
    "    return np.corrcoef(\n",
    "        target,\n",
    "        pred.rank(pct=True, method=\"first\")\n",
    "    )[0, 1]\n",
    "\n",
    "\n",
    "era_col = df_val.era\n",
    "new_df = df_val.copy()\n",
    "new_df['era'] = era_col\n",
    "new_df[\"pred\"] = df_val.preds\n",
    "era_scores = pd.Series(index=new_df['era'].unique())\n",
    "print(\"getting per era scores\")\n",
    "for era in new_df['era'].unique():\n",
    "    era_df = new_df[new_df['era'] == era]\n",
    "    era_scores[era] = spearmanr(era_df['pred'], era_df['target'])\n",
    "era_scores.sort_values(inplace=True)\n",
    "era_scores.sort_index(inplace=True)\n",
    "era_scores.plot(kind=\"bar\")\n",
    "print(\"performance over time\")\n",
    "plt.show()\n",
    "\n",
    "print(\"Maximum Drawdown (Minimum Score)\")\n",
    "print(np.min(era_scores))\n",
    "print(\"Average Correlation\")\n",
    "print(np.mean(era_scores))\n",
    "print(\"Median Correlation\")\n",
    "print(np.median(era_scores))\n",
    "print(\"Variance\")\n",
    "print(np.var(era_scores))\n",
    "print(\"Std. Dev.\")\n",
    "print(np.std(era_scores))\n",
    "print(\"Autocorrelation\")\n",
    "print(ar1(era_scores))\n",
    "print(\"Sharpe\")\n",
    "print(np.mean(era_scores)/np.std(era_scores) * np.sqrt(12))\n",
    "print(\"Smart Sharpe\")\n",
    "print(smart_sharpe(era_scores))\n",
    "print(\"Numerai Sharpe\")\n",
    "print(numerai_sharpe(era_scores))\n",
    "import scipy \n",
    "from scipy.stats import skew, kurtosis, sem, gmean\n",
    "\n",
    "print(\"Skewness\")\n",
    "print(skew(era_scores))\n",
    "print(\"Excess Kurtosis\")\n",
    "print(kurtosis(era_scores))\n",
    "print(\"Standard Error of the Mean\")\n",
    "print(sem(era_scores))\n",
    "\n",
    "\n",
    "def annual_sharpe(x):\n",
    "    return ((np.mean(x) -0.010415154) /np.std(x)) * np.sqrt(12)\n",
    "\n",
    "print(\"Annualized Sharpe\")\n",
    "print(annual_sharpe(era_scores))\n",
    "def adj_sharpe(x):\n",
    "    return annual_sharpe(x) * (1 + ((skew(x) / 6) * annual_sharpe(x)) - ((kurtosis(x) - 3) / 24) * (annual_sharpe(x) ** 2))\n",
    "print(\"Adjusted Sharpe\")\n",
    "print(adj_sharpe(era_scores))\n",
    "\n",
    "def VaR(x):\n",
    "    return -np.mean(x) - np.sqrt(np.var(x)) * np.percentile(x, 10)\n",
    "print(\"Value at Risk (VaR) with 10% probability of occurring\")\n",
    "print(VaR(era_scores))\n",
    "def smart_sortino_ratio(x, target=0.010415154):\n",
    "    xt = x - target\n",
    "    return np.mean(xt)/(((np.sum(np.minimum(0, xt)**2)/(len(xt)-1))**.5)*autocorr_penalty(x))\n",
    "print(\"Smart Sortino Ratio\")\n",
    "print(smart_sortino_ratio(era_scores))\n",
    "def sortino_ratio(x, target=0.010415154):\n",
    "    xt = x - target\n",
    "    return np.mean(xt) / (np.sum(np.minimum(0, xt)**2)/(len(xt)-1))**.5\n",
    "print(\"Sortino Ratio\")\n",
    "print(sortino_ratio(era_scores))"
   ]
  },
  {
   "cell_type": "code",
   "execution_count": null,
   "metadata": {},
   "outputs": [],
   "source": []
  }
 ],
 "metadata": {
  "kernelspec": {
   "display_name": "Python 3",
   "language": "python",
   "name": "python3"
  },
  "language_info": {
   "codemirror_mode": {
    "name": "ipython",
    "version": 3
   },
   "file_extension": ".py",
   "mimetype": "text/x-python",
   "name": "python",
   "nbconvert_exporter": "python",
   "pygments_lexer": "ipython3",
   "version": "3.7.7"
  }
 },
 "nbformat": 4,
 "nbformat_minor": 4
}
