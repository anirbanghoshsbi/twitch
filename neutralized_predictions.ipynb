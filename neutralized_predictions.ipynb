{
  "nbformat": 4,
  "nbformat_minor": 0,
  "metadata": {
    "colab": {
      "name": "neutralized_predictions.ipynb",
      "provenance": [],
      "collapsed_sections": [],
      "authorship_tag": "ABX9TyN8QoqkmknbAykoUph3h+Zd",
      "include_colab_link": true
    },
    "kernelspec": {
      "name": "python3",
      "display_name": "Python 3"
    }
  },
  "cells": [
    {
      "cell_type": "markdown",
      "metadata": {
        "id": "view-in-github",
        "colab_type": "text"
      },
      "source": [
        "<a href=\"https://colab.research.google.com/github/jonrtaylor/twitch/blob/master/neutralized_predictions.ipynb\" target=\"_parent\"><img src=\"https://colab.research.google.com/assets/colab-badge.svg\" alt=\"Open In Colab\"/></a>"
      ]
    },
    {
      "cell_type": "code",
      "metadata": {
        "id": "0caBnOD8EWpA"
      },
      "source": [
        "### THIS NOTEBOOK WILL NOT RUN IN GOOGLE COLAB ###\n",
        "\n",
        "import pandas as pd\n",
        "import numpy as np\n",
        "import scipy\n",
        "\n",
        "tournament_data = pd.read_csv(\"https://numerai-public-datasets.s3-us-west-2.amazonaws.com/latest_numerai_tournament_data.csv.xz\")\n",
        "features = [c for c in tournament_data if c.startswith(\"feature\")]\n",
        "\n",
        "\n",
        "from sklearn.preprocessing import MinMaxScaler\n",
        "def _neutralize(df, preds, feats, proportion=1.0):\n",
        "    scores = df[preds]\n",
        "    exposures = df[feats].values\n",
        "    scores = scores - proportion * exposures.dot(np.linalg.pinv(exposures).dot(scores))\n",
        "    return scores / scores.std()\n",
        "def _normalize(df):\n",
        "    X = (df.rank(method=\"first\") - 0.5) / len(df)\n",
        "    return scipy.stats.norm.ppf(X)\n",
        "def normalize_and_neutralize(df, preds, feats, proportion=1.0):\n",
        "    # Convert the scores to a normal distribution\n",
        "    df[preds] = _normalize(df[preds])\n",
        "    df[preds] = _neutralize(df, preds, feats, proportion)\n",
        "    return df[preds]\n",
        "\n",
        "predfile = pd.read_csv('example_predictions_twitch.csv') #import your prediction file in this line\n",
        "\n",
        "tournament_data['preds'] = predfile.prediction_kazutsugi\n",
        "tournament_data['neutralized_preds'] = tournament_data.groupby(\"era\").apply(lambda x: normalize_and_neutralize(x, [\"preds\"], features, 1)) #set your proportion as something between 1 (fully neutralized) and something >0)\n",
        "scaler = MinMaxScaler()\n",
        "tournament_data['neutralized_preds'] = scaler.fit_transform(tournament_data[['neutralized_preds']])"
      ],
      "execution_count": null,
      "outputs": []
    },
    {
      "cell_type": "code",
      "metadata": {
        "id": "quaU-SpFMGW0"
      },
      "source": [
        "tournament_submission = tournament_data[['id', 'neutralized_preds']].copy()\n",
        "tournament_submission.columns = ['id', 'prediction']\n",
        "tournament_submission.to_csv('twitch_example_fully_neutralized.csv', index=False) #save the new prediction file in this line"
      ],
      "execution_count": null,
      "outputs": []
    }
  ]
}