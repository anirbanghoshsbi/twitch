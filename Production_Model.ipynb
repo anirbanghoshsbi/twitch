{
  "nbformat": 4,
  "nbformat_minor": 0,
  "metadata": {
    "colab": {
      "name": "Production_Model",
      "provenance": [],
      "collapsed_sections": [],
      "machine_shape": "hm",
      "include_colab_link": true
    },
    "kernelspec": {
      "name": "python3",
      "display_name": "Python 3"
    }
  },
  "cells": [
    {
      "cell_type": "markdown",
      "metadata": {
        "id": "view-in-github",
        "colab_type": "text"
      },
      "source": [
        "<a href=\"https://colab.research.google.com/github/jonrtaylor/twitch/blob/master/Production_Model.ipynb\" target=\"_parent\"><img src=\"https://colab.research.google.com/assets/colab-badge.svg\" alt=\"Open In Colab\"/></a>"
      ]
    },
    {
      "cell_type": "code",
      "metadata": {
        "id": "njZ1umQeyYFv",
        "colab_type": "code",
        "colab": {
          "base_uri": "https://localhost:8080/",
          "height": 617
        },
        "outputId": "b4d912ca-ae4f-46c5-ad61-f710b98f271c"
      },
      "source": [
        "!pip install --upgrade numerox\n",
        "import numerox as nx\n",
        "import pandas as pd\n",
        "import numpy as np\n",
        "from sklearn import linear_model\n",
        "data = nx.download('numerai_dataset.zip')\n",
        "X1_train = data['era1':'era30'].x #training data for partition 1\n",
        "X2_train = data['era31':'era60'].x #training data for partition 2\n",
        "X3_train = data['era61':'era90'].x #training data for partition 3\n",
        "X4_train = data['era91': 'era120'].x #training data for partition 4\n",
        "X_test = data['validation'].x\n",
        "y1_train = data['era1':'era30'].y['kazutsugi']\n",
        "y2_train = data['era31':'era60'].y['kazutsugi']\n",
        "y3_train = data['era61':'era90'].y['kazutsugi']\n",
        "y4_train = data['era91':'era120'].y['kazutsugi']\n",
        "y_test = data['validation'].y['kazutsugi']"
      ],
      "execution_count": 1,
      "outputs": [
        {
          "output_type": "stream",
          "text": [
            "Collecting numerox\n",
            "\u001b[?25l  Downloading https://files.pythonhosted.org/packages/69/d5/eda5d93f74e2708c221d1845cafa24b0b70fa74340eedff8be343cc94d12/numerox-4.1.7.tar.gz (1.8MB)\n",
            "\u001b[K     |████████████████████████████████| 1.8MB 7.0MB/s \n",
            "\u001b[?25hRequirement already satisfied, skipping upgrade: numpy in /usr/local/lib/python3.6/dist-packages (from numerox) (1.18.5)\n",
            "Requirement already satisfied, skipping upgrade: scipy in /usr/local/lib/python3.6/dist-packages (from numerox) (1.4.1)\n",
            "Requirement already satisfied, skipping upgrade: pandas in /usr/local/lib/python3.6/dist-packages (from numerox) (1.0.5)\n",
            "Requirement already satisfied, skipping upgrade: tables in /usr/local/lib/python3.6/dist-packages (from numerox) (3.4.4)\n",
            "Requirement already satisfied, skipping upgrade: scikit-learn in /usr/local/lib/python3.6/dist-packages (from numerox) (0.22.2.post1)\n",
            "Collecting numerapi>=2.2.4\n",
            "  Downloading https://files.pythonhosted.org/packages/e9/b0/4992d6de584c82297b6060260a21b94c05c37fb64438746057b612e10f07/numerapi-2.3.4-py3-none-any.whl\n",
            "Collecting nose\n",
            "\u001b[?25l  Downloading https://files.pythonhosted.org/packages/15/d8/dd071918c040f50fa1cf80da16423af51ff8ce4a0f2399b7bf8de45ac3d9/nose-1.3.7-py3-none-any.whl (154kB)\n",
            "\u001b[K     |████████████████████████████████| 163kB 47.9MB/s \n",
            "\u001b[?25hRequirement already satisfied, skipping upgrade: pytz>=2017.2 in /usr/local/lib/python3.6/dist-packages (from pandas->numerox) (2018.9)\n",
            "Requirement already satisfied, skipping upgrade: python-dateutil>=2.6.1 in /usr/local/lib/python3.6/dist-packages (from pandas->numerox) (2.8.1)\n",
            "Requirement already satisfied, skipping upgrade: six>=1.9.0 in /usr/local/lib/python3.6/dist-packages (from tables->numerox) (1.15.0)\n",
            "Requirement already satisfied, skipping upgrade: numexpr>=2.5.2 in /usr/local/lib/python3.6/dist-packages (from tables->numerox) (2.7.1)\n",
            "Requirement already satisfied, skipping upgrade: joblib>=0.11 in /usr/local/lib/python3.6/dist-packages (from scikit-learn->numerox) (0.16.0)\n",
            "Requirement already satisfied, skipping upgrade: tqdm>=4.29.1 in /usr/local/lib/python3.6/dist-packages (from numerapi>=2.2.4->numerox) (4.41.1)\n",
            "Requirement already satisfied, skipping upgrade: click>=7.0 in /usr/local/lib/python3.6/dist-packages (from numerapi>=2.2.4->numerox) (7.1.2)\n",
            "Requirement already satisfied, skipping upgrade: requests in /usr/local/lib/python3.6/dist-packages (from numerapi>=2.2.4->numerox) (2.23.0)\n",
            "Requirement already satisfied, skipping upgrade: chardet<4,>=3.0.2 in /usr/local/lib/python3.6/dist-packages (from requests->numerapi>=2.2.4->numerox) (3.0.4)\n",
            "Requirement already satisfied, skipping upgrade: idna<3,>=2.5 in /usr/local/lib/python3.6/dist-packages (from requests->numerapi>=2.2.4->numerox) (2.10)\n",
            "Requirement already satisfied, skipping upgrade: certifi>=2017.4.17 in /usr/local/lib/python3.6/dist-packages (from requests->numerapi>=2.2.4->numerox) (2020.6.20)\n",
            "Requirement already satisfied, skipping upgrade: urllib3!=1.25.0,!=1.25.1,<1.26,>=1.21.1 in /usr/local/lib/python3.6/dist-packages (from requests->numerapi>=2.2.4->numerox) (1.24.3)\n",
            "Building wheels for collected packages: numerox\n",
            "  Building wheel for numerox (setup.py) ... \u001b[?25l\u001b[?25hdone\n",
            "  Created wheel for numerox: filename=numerox-4.1.7-cp36-none-any.whl size=1805112 sha256=6d52ff09d47a380a4cf5603ae5e9760b55992c77e98aba2264ba11d4ca1968d3\n",
            "  Stored in directory: /root/.cache/pip/wheels/b8/d0/3c/1f032762cc54b93e3def50b4f6a49f3f0ad27c3e8d561a4c40\n",
            "Successfully built numerox\n",
            "Installing collected packages: numerapi, nose, numerox\n",
            "Successfully installed nose-1.3.7 numerapi-2.3.4 numerox-4.1.7\n"
          ],
          "name": "stdout"
        },
        {
          "output_type": "stream",
          "text": [
            "numerai_dataset.zip: 389MB [00:39, 16.3MB/s]                           "
          ],
          "name": "stderr"
        }
      ]
    },
    {
      "cell_type": "code",
      "metadata": {
        "id": "kd8CWTsEyaJY",
        "colab_type": "code",
        "colab": {}
      },
      "source": [
        "L1 = linear_model.LinearRegression()\n",
        "L2 = linear_model.LinearRegression()\n",
        "L3 = linear_model.LinearRegression()\n",
        "L4 = linear_model.LinearRegression()"
      ],
      "execution_count": 2,
      "outputs": []
    },
    {
      "cell_type": "code",
      "metadata": {
        "id": "-3V4rQQZzQgO",
        "colab_type": "code",
        "colab": {}
      },
      "source": [
        "L1.fit(X1_train, y1_train)\n",
        "L2.fit(X2_train, y2_train)\n",
        "L3.fit(X3_train, y3_train)\n",
        "L4.fit(X4_train, y4_train)\n",
        "#score function\n",
        "def correlation_score(y_true, y_pred):\n",
        "    return np.corrcoef(y_true, y_pred)[0,1]"
      ],
      "execution_count": 3,
      "outputs": []
    },
    {
      "cell_type": "code",
      "metadata": {
        "id": "hBT36hQJynmg",
        "colab_type": "code",
        "colab": {}
      },
      "source": [
        "L1_preds = L1.predict(X_test) #make predictions on the out-of-sample test set\n",
        "L2_preds = L2.predict(X_test)\n",
        "L3_preds = L3.predict(X_test)\n",
        "L4_preds = L4.predict(X_test)"
      ],
      "execution_count": 4,
      "outputs": []
    },
    {
      "cell_type": "code",
      "metadata": {
        "id": "I_sQTnfV0SZ-",
        "colab_type": "code",
        "colab": {}
      },
      "source": [
        "L1_score = correlation_score(y_test, L1_preds) #calculate correlation scores on the out-of-sample predictions\n",
        "L2_score = correlation_score(y_test, L2_preds)\n",
        "L3_score = correlation_score(y_test, L3_preds)\n",
        "L4_score = correlation_score(y_test, L4_preds)"
      ],
      "execution_count": 5,
      "outputs": []
    },
    {
      "cell_type": "code",
      "metadata": {
        "id": "mmEqQr1V0TJx",
        "colab_type": "code",
        "colab": {
          "base_uri": "https://localhost:8080/",
          "height": 90
        },
        "outputId": "1f93f970-2cb3-4d7a-9dbf-428015c889e4"
      },
      "source": [
        "print(L1_score) #each partition's out-of-sample correlation score\n",
        "print(L2_score)\n",
        "print(L3_score)\n",
        "print(L4_score)"
      ],
      "execution_count": 6,
      "outputs": [
        {
          "output_type": "stream",
          "text": [
            "0.015131133484415204\n",
            "0.012834410850005366\n",
            "0.00992985005947797\n",
            "0.007843202986115945\n"
          ],
          "name": "stdout"
        }
      ]
    },
    {
      "cell_type": "code",
      "metadata": {
        "id": "6OY8kqC4qKcR",
        "colab_type": "code",
        "colab": {
          "base_uri": "https://localhost:8080/",
          "height": 35
        },
        "outputId": "1a51145c-e26c-4dd7-99ec-9b2238fa2d6e"
      },
      "source": [
        "preds = pd.DataFrame(L1_preds)\n",
        "preds.columns = ['L1_preds']\n",
        "preds['L2_preds'] = L2_preds\n",
        "preds['L3_preds'] = L3_preds\n",
        "preds['L4_preds'] = L4_preds\n",
        "preds['averaged_preds'] = (preds.L1_preds + preds.L2_preds + preds.L3_preds + preds.L4_preds) / 4 #arithmetic average of each model's out of sample predictions"
      ],
      "execution_count": 7,
      "outputs": [
        {
          "output_type": "stream",
          "text": [
            "2020-09-08 22:33:14,086 INFO numexpr.utils: NumExpr defaulting to 4 threads.\n"
          ],
          "name": "stderr"
        }
      ]
    },
    {
      "cell_type": "code",
      "metadata": {
        "id": "kGR1YRZhrSib",
        "colab_type": "code",
        "colab": {
          "base_uri": "https://localhost:8080/",
          "height": 35
        },
        "outputId": "184c5a7f-f250-421e-b76e-9cf15e969605"
      },
      "source": [
        "averaged_vali_score = correlation_score(y_test, preds.averaged_preds) #averaged out-of-sample correlation score; should be higher than any one model's individual score\n",
        "print(averaged_vali_score)"
      ],
      "execution_count": 8,
      "outputs": [
        {
          "output_type": "stream",
          "text": [
            "0.01615743682941112\n"
          ],
          "name": "stdout"
        }
      ]
    },
    {
      "cell_type": "code",
      "metadata": {
        "id": "kO8X_-E8rf9M",
        "colab_type": "code",
        "colab": {}
      },
      "source": [
        "your_name = \"UserName\"\n",
        "tournament_name = \"kazutsugi\" #don't change\n",
        "prediction_name = \"prediction_kazutsugi\" #don't change\n",
        "preds1 = pd.DataFrame(data['tournament'].ids)\n",
        "preds1.columns = ['id']\n",
        "preds1.set_index(\"id\", inplace=True)\n",
        "preds1['L1_preds'] = L1.predict(data['tournament'].x)\n",
        "preds1['L2_preds'] = L2.predict(data['tournament'].x)\n",
        "preds1['L3_preds'] = L3.predict(data['tournament'].x)\n",
        "preds1['L4_preds'] = L4.predict(data['tournament'].x)\n",
        "preds1[prediction_name] = (preds1.L1_preds + preds1.L2_preds + preds1.L3_preds + preds1.L4_preds) / 4\n",
        "preds1[prediction_name].to_csv(tournament_name + \"_\" + your_name + \"_submission.csv\", header=True)"
      ],
      "execution_count": 9,
      "outputs": []
    },
    {
      "cell_type": "code",
      "metadata": {
        "id": "AbuF66pBGAyC",
        "colab_type": "code",
        "colab": {}
      },
      "source": [
        "#public_id = \"REPLACEME\"\n",
        "#secret_key = \"REPLACEME\"\n",
        "#napi = numerapi.NumerAPI(public_id=public_id, secret_key=secret_key)\n",
        "#submission_id = napi.upload_predictions(tournament_name + \"_\" + your_name + \"_submission.csv\")"
      ],
      "execution_count": 10,
      "outputs": []
    },
    {
      "cell_type": "code",
      "metadata": {
        "id": "ZCM_SkZHtX6J",
        "colab_type": "code",
        "colab": {}
      },
      "source": [
        "#from google.colab import files\n",
        "#files.download(tournament_name + \"_\" + your_name + \"_submission.csv\")"
      ],
      "execution_count": 11,
      "outputs": []
    }
  ]
}