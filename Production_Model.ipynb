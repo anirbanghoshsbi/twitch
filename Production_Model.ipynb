{
  "nbformat": 4,
  "nbformat_minor": 0,
  "metadata": {
    "colab": {
      "name": "Production_Model",
      "provenance": [],
      "collapsed_sections": [],
      "machine_shape": "hm",
      "include_colab_link": true
    },
    "kernelspec": {
      "name": "python3",
      "display_name": "Python 3"
    }
  },
  "cells": [
    {
      "cell_type": "markdown",
      "metadata": {
        "id": "view-in-github",
        "colab_type": "text"
      },
      "source": [
        "<a href=\"https://colab.research.google.com/github/jonrtaylor/twitch/blob/master/Production_Model.ipynb\" target=\"_parent\"><img src=\"https://colab.research.google.com/assets/colab-badge.svg\" alt=\"Open In Colab\"/></a>"
      ]
    },
    {
      "cell_type": "code",
      "metadata": {
        "id": "njZ1umQeyYFv",
        "colab": {
          "base_uri": "https://localhost:8080/",
          "height": 1000
        },
        "outputId": "4656894a-9a6d-4634-efcc-1c15cfa7f338"
      },
      "source": [
        "!pip install --upgrade numerox\n",
        "import numerox as nx\n",
        "import pandas as pd\n",
        "import numpy as np\n",
        "from sklearn import linear_model\n",
        "data = nx.download('numerai_dataset.zip')\n",
        "X1_train = data['era1':'era30'].x #training data for partition 1\n",
        "X2_train = data['era31':'era60'].x #training data for partition 2\n",
        "X3_train = data['era61':'era90'].x #training data for partition 3\n",
        "X4_train = data['era91': 'era120'].x #training data for partition 4\n",
        "X_test = data['validation'].x\n",
        "y1_train = data['era1':'era30'].df['target'].values\n",
        "y2_train = data['era31':'era60'].df['target'].values\n",
        "y3_train = data['era61':'era90'].df['target'].values\n",
        "y4_train = data['era91':'era120'].df['target'].values\n",
        "y_test = data['validation'].df['target'].values"
      ],
      "execution_count": null,
      "outputs": [
        {
          "output_type": "stream",
          "text": [
            "Requirement already up-to-date: numerox in /usr/local/lib/python3.6/dist-packages (4.1.7)\n",
            "Requirement already satisfied, skipping upgrade: scikit-learn in /usr/local/lib/python3.6/dist-packages (from numerox) (0.22.2.post1)\n",
            "Requirement already satisfied, skipping upgrade: numpy in /usr/local/lib/python3.6/dist-packages (from numerox) (1.18.5)\n",
            "Requirement already satisfied, skipping upgrade: pandas in /usr/local/lib/python3.6/dist-packages (from numerox) (1.0.5)\n",
            "Requirement already satisfied, skipping upgrade: nose in /usr/local/lib/python3.6/dist-packages (from numerox) (1.3.7)\n",
            "Requirement already satisfied, skipping upgrade: numerapi>=2.2.4 in /usr/local/lib/python3.6/dist-packages (from numerox) (2.3.4)\n",
            "Requirement already satisfied, skipping upgrade: scipy in /usr/local/lib/python3.6/dist-packages (from numerox) (1.4.1)\n",
            "Requirement already satisfied, skipping upgrade: tables in /usr/local/lib/python3.6/dist-packages (from numerox) (3.4.4)\n",
            "Requirement already satisfied, skipping upgrade: joblib>=0.11 in /usr/local/lib/python3.6/dist-packages (from scikit-learn->numerox) (0.16.0)\n",
            "Requirement already satisfied, skipping upgrade: pytz>=2017.2 in /usr/local/lib/python3.6/dist-packages (from pandas->numerox) (2018.9)\n",
            "Requirement already satisfied, skipping upgrade: python-dateutil>=2.6.1 in /usr/local/lib/python3.6/dist-packages (from pandas->numerox) (2.8.1)\n",
            "Requirement already satisfied, skipping upgrade: click>=7.0 in /usr/local/lib/python3.6/dist-packages (from numerapi>=2.2.4->numerox) (7.1.2)\n",
            "Requirement already satisfied, skipping upgrade: tqdm>=4.29.1 in /usr/local/lib/python3.6/dist-packages (from numerapi>=2.2.4->numerox) (4.41.1)\n",
            "Requirement already satisfied, skipping upgrade: requests in /usr/local/lib/python3.6/dist-packages (from numerapi>=2.2.4->numerox) (2.23.0)\n",
            "Requirement already satisfied, skipping upgrade: numexpr>=2.5.2 in /usr/local/lib/python3.6/dist-packages (from tables->numerox) (2.7.1)\n",
            "Requirement already satisfied, skipping upgrade: six>=1.9.0 in /usr/local/lib/python3.6/dist-packages (from tables->numerox) (1.15.0)\n",
            "Requirement already satisfied, skipping upgrade: certifi>=2017.4.17 in /usr/local/lib/python3.6/dist-packages (from requests->numerapi>=2.2.4->numerox) (2020.6.20)\n",
            "Requirement already satisfied, skipping upgrade: idna<3,>=2.5 in /usr/local/lib/python3.6/dist-packages (from requests->numerapi>=2.2.4->numerox) (2.10)\n",
            "Requirement already satisfied, skipping upgrade: urllib3!=1.25.0,!=1.25.1,<1.26,>=1.21.1 in /usr/local/lib/python3.6/dist-packages (from requests->numerapi>=2.2.4->numerox) (1.24.3)\n",
            "Requirement already satisfied, skipping upgrade: chardet<4,>=3.0.2 in /usr/local/lib/python3.6/dist-packages (from requests->numerapi>=2.2.4->numerox) (3.0.4)\n"
          ],
          "name": "stdout"
        },
        {
          "output_type": "stream",
          "text": [
            "\n",
            "numerai_dataset.zip:   0%|          | 0.00/389M [00:00<?, ?B/s]\u001b[A\n",
            "numerai_dataset.zip:   0%|          | 17.4k/389M [00:00<57:59, 112kB/s]\u001b[A\n",
            "numerai_dataset.zip:   0%|          | 52.2k/389M [00:00<49:29, 131kB/s]\u001b[A\n",
            "numerai_dataset.zip:   0%|          | 104k/389M [00:00<40:35, 159kB/s] \u001b[A\n",
            "numerai_dataset.zip:   0%|          | 225k/389M [00:00<30:58, 209kB/s]\u001b[A\n",
            "numerai_dataset.zip:   0%|          | 453k/389M [00:00<23:01, 281kB/s]\u001b[A\n",
            "numerai_dataset.zip:   0%|          | 923k/389M [00:00<16:45, 385kB/s]\u001b[A\n",
            "numerai_dataset.zip:   0%|          | 1.88M/389M [00:01<12:01, 536kB/s]\u001b[A\n",
            "numerai_dataset.zip:   1%|          | 3.58M/389M [00:01<08:33, 749kB/s]\u001b[A\n",
            "numerai_dataset.zip:   2%|▏         | 5.93M/389M [00:01<06:05, 1.05MB/s]\u001b[A\n",
            "numerai_dataset.zip:   2%|▏         | 7.97M/389M [00:01<04:23, 1.45MB/s]\u001b[A\n",
            "numerai_dataset.zip:   3%|▎         | 10.1M/389M [00:01<03:11, 1.97MB/s]\u001b[A\n",
            "numerai_dataset.zip:   3%|▎         | 12.2M/389M [00:01<02:21, 2.65MB/s]\u001b[A\n",
            "numerai_dataset.zip:   4%|▎         | 14.3M/389M [00:02<01:47, 3.49MB/s]\u001b[A\n",
            "numerai_dataset.zip:   4%|▍         | 16.5M/389M [00:02<01:23, 4.48MB/s]\u001b[A\n",
            "numerai_dataset.zip:   5%|▍         | 18.6M/389M [00:02<01:06, 5.59MB/s]\u001b[A\n",
            "numerai_dataset.zip:   5%|▌         | 20.7M/389M [00:02<00:54, 6.76MB/s]\u001b[A\n",
            "numerai_dataset.zip:   6%|▌         | 22.8M/389M [00:02<00:46, 7.92MB/s]\u001b[A\n",
            "numerai_dataset.zip:   6%|▋         | 24.9M/389M [00:02<00:40, 9.00MB/s]\u001b[A\n",
            "numerai_dataset.zip:   7%|▋         | 27.0M/389M [00:03<00:36, 9.98MB/s]\u001b[A\n",
            "numerai_dataset.zip:   8%|▊         | 29.1M/389M [00:03<00:33, 10.8MB/s]\u001b[A\n",
            "numerai_dataset.zip:   8%|▊         | 31.3M/389M [00:03<00:31, 11.4MB/s]\u001b[A\n",
            "numerai_dataset.zip:   9%|▊         | 33.4M/389M [00:03<00:29, 11.9MB/s]\u001b[A\n",
            "numerai_dataset.zip:   9%|▉         | 35.5M/389M [00:03<00:28, 12.3MB/s]\u001b[A\n",
            "numerai_dataset.zip:  10%|▉         | 37.6M/389M [00:03<00:28, 12.5MB/s]\u001b[A\n",
            "numerai_dataset.zip:  10%|█         | 39.7M/389M [00:03<00:27, 12.8MB/s]\u001b[A\n",
            "numerai_dataset.zip:  11%|█         | 41.8M/389M [00:04<00:26, 12.9MB/s]\u001b[A\n",
            "numerai_dataset.zip:  11%|█▏        | 43.9M/389M [00:04<00:26, 13.0MB/s]\u001b[A\n",
            "numerai_dataset.zip:  12%|█▏        | 46.1M/389M [00:04<00:26, 13.1MB/s]\u001b[A\n",
            "numerai_dataset.zip:  12%|█▏        | 48.2M/389M [00:04<00:25, 13.1MB/s]\u001b[A\n",
            "numerai_dataset.zip:  13%|█▎        | 50.3M/389M [00:04<00:25, 13.1MB/s]\u001b[A\n",
            "numerai_dataset.zip:  13%|█▎        | 52.4M/389M [00:04<00:25, 13.2MB/s]\u001b[A\n",
            "numerai_dataset.zip:  14%|█▍        | 54.5M/389M [00:05<00:25, 13.2MB/s]\u001b[A\n",
            "numerai_dataset.zip:  15%|█▍        | 56.6M/389M [00:05<00:25, 13.2MB/s]\u001b[A\n",
            "numerai_dataset.zip:  15%|█▌        | 58.7M/389M [00:05<00:24, 13.2MB/s]\u001b[A\n",
            "numerai_dataset.zip:  16%|█▌        | 60.8M/389M [00:05<00:24, 13.2MB/s]\u001b[A\n",
            "numerai_dataset.zip:  16%|█▌        | 63.0M/389M [00:05<00:24, 13.2MB/s]\u001b[A\n",
            "numerai_dataset.zip:  17%|█▋        | 65.1M/389M [00:05<00:24, 13.2MB/s]\u001b[A\n",
            "numerai_dataset.zip:  17%|█▋        | 67.2M/389M [00:06<00:24, 13.2MB/s]\u001b[A\n",
            "numerai_dataset.zip:  18%|█▊        | 69.3M/389M [00:06<00:24, 13.2MB/s]\u001b[A\n",
            "numerai_dataset.zip:  18%|█▊        | 71.4M/389M [00:06<00:23, 13.3MB/s]\u001b[A\n",
            "numerai_dataset.zip:  19%|█▉        | 73.5M/389M [00:06<00:23, 13.2MB/s]\u001b[A\n",
            "numerai_dataset.zip:  19%|█▉        | 75.7M/389M [00:06<00:23, 13.2MB/s]\u001b[A\n",
            "numerai_dataset.zip:  20%|██        | 77.8M/389M [00:06<00:23, 13.2MB/s]\u001b[A\n",
            "numerai_dataset.zip:  21%|██        | 79.9M/389M [00:07<00:23, 13.2MB/s]\u001b[A\n",
            "numerai_dataset.zip:  21%|██        | 82.0M/389M [00:07<00:23, 13.2MB/s]\u001b[A\n",
            "numerai_dataset.zip:  22%|██▏       | 84.1M/389M [00:07<00:22, 13.2MB/s]\u001b[A\n",
            "numerai_dataset.zip:  22%|██▏       | 86.2M/389M [00:07<00:22, 13.2MB/s]\u001b[A\n",
            "numerai_dataset.zip:  23%|██▎       | 88.3M/389M [00:07<00:22, 13.2MB/s]\u001b[A\n",
            "numerai_dataset.zip:  23%|██▎       | 90.5M/389M [00:07<00:22, 13.2MB/s]\u001b[A\n",
            "numerai_dataset.zip:  24%|██▍       | 92.5M/389M [00:07<00:22, 13.2MB/s]\u001b[A\n",
            "numerai_dataset.zip:  24%|██▍       | 94.7M/389M [00:08<00:22, 13.2MB/s]\u001b[A\n",
            "numerai_dataset.zip:  25%|██▍       | 96.8M/389M [00:08<00:22, 13.3MB/s]\u001b[A\n",
            "numerai_dataset.zip:  25%|██▌       | 98.8M/389M [00:08<00:22, 13.0MB/s]\u001b[A\n",
            "numerai_dataset.zip:  26%|██▌       | 101M/389M [00:08<00:21, 13.2MB/s] \u001b[A\n",
            "numerai_dataset.zip:  27%|██▋       | 103M/389M [00:08<00:21, 13.1MB/s]\u001b[A\n",
            "numerai_dataset.zip:  27%|██▋       | 105M/389M [00:08<00:21, 13.4MB/s]\u001b[A\n",
            "numerai_dataset.zip:  28%|██▊       | 108M/389M [00:09<00:20, 13.7MB/s]\u001b[A\n",
            "numerai_dataset.zip:  28%|██▊       | 110M/389M [00:09<00:20, 13.9MB/s]\u001b[A\n",
            "numerai_dataset.zip:  29%|██▉       | 112M/389M [00:09<00:19, 14.2MB/s]\u001b[A\n",
            "numerai_dataset.zip:  29%|██▉       | 115M/389M [00:09<00:19, 14.2MB/s]\u001b[A\n",
            "numerai_dataset.zip:  30%|███       | 117M/389M [00:09<00:18, 14.5MB/s]\u001b[A\n",
            "numerai_dataset.zip:  31%|███       | 119M/389M [00:09<00:19, 14.0MB/s]\u001b[A\n",
            "numerai_dataset.zip:  31%|███       | 121M/389M [00:10<00:19, 14.1MB/s]\u001b[A\n",
            "numerai_dataset.zip:  32%|███▏      | 124M/389M [00:10<00:18, 14.2MB/s]\u001b[A\n",
            "numerai_dataset.zip:  32%|███▏      | 126M/389M [00:10<00:18, 14.2MB/s]\u001b[A\n",
            "numerai_dataset.zip:  33%|███▎      | 128M/389M [00:10<00:18, 14.2MB/s]\u001b[A\n",
            "numerai_dataset.zip:  34%|███▎      | 130M/389M [00:10<00:18, 14.0MB/s]\u001b[A\n",
            "numerai_dataset.zip:  34%|███▍      | 133M/389M [00:10<00:18, 14.2MB/s]\u001b[A\n",
            "numerai_dataset.zip:  35%|███▍      | 135M/389M [00:11<00:18, 13.9MB/s]\u001b[A\n",
            "numerai_dataset.zip:  35%|███▌      | 137M/389M [00:11<00:17, 14.2MB/s]\u001b[A\n",
            "numerai_dataset.zip:  36%|███▌      | 139M/389M [00:11<00:17, 14.0MB/s]\u001b[A\n",
            "numerai_dataset.zip:  36%|███▋      | 142M/389M [00:11<00:17, 14.2MB/s]\u001b[A\n",
            "numerai_dataset.zip:  37%|███▋      | 144M/389M [00:11<00:17, 14.2MB/s]\u001b[A\n",
            "numerai_dataset.zip:  38%|███▊      | 146M/389M [00:11<00:16, 14.3MB/s]\u001b[A\n",
            "numerai_dataset.zip:  38%|███▊      | 148M/389M [00:11<00:17, 14.0MB/s]\u001b[A\n",
            "numerai_dataset.zip:  39%|███▉      | 151M/389M [00:12<00:16, 14.2MB/s]\u001b[A\n",
            "numerai_dataset.zip:  39%|███▉      | 153M/389M [00:12<00:16, 14.1MB/s]\u001b[A\n",
            "numerai_dataset.zip:  40%|███▉      | 155M/389M [00:12<00:16, 14.3MB/s]\u001b[A\n",
            "numerai_dataset.zip:  41%|████      | 158M/389M [00:12<00:16, 14.2MB/s]\u001b[A\n",
            "numerai_dataset.zip:  41%|████      | 160M/389M [00:12<00:15, 14.3MB/s]\u001b[A\n",
            "numerai_dataset.zip:  42%|████▏     | 162M/389M [00:12<00:15, 14.4MB/s]\u001b[A\n",
            "numerai_dataset.zip:  42%|████▏     | 165M/389M [00:13<00:15, 14.3MB/s]\u001b[A\n",
            "numerai_dataset.zip:  43%|████▎     | 167M/389M [00:13<00:15, 14.3MB/s]\u001b[A\n",
            "numerai_dataset.zip:  44%|████▎     | 169M/389M [00:13<00:15, 14.3MB/s]\u001b[A\n",
            "numerai_dataset.zip:  44%|████▍     | 171M/389M [00:13<00:15, 14.3MB/s]\u001b[A\n",
            "numerai_dataset.zip:  45%|████▍     | 174M/389M [00:13<00:14, 14.3MB/s]\u001b[A\n",
            "numerai_dataset.zip:  45%|████▌     | 176M/389M [00:13<00:14, 14.5MB/s]\u001b[A\n",
            "numerai_dataset.zip:  46%|████▌     | 178M/389M [00:14<00:14, 14.2MB/s]\u001b[A\n",
            "numerai_dataset.zip:  46%|████▋     | 181M/389M [00:14<00:14, 14.4MB/s]\u001b[A\n",
            "numerai_dataset.zip:  47%|████▋     | 183M/389M [00:14<00:14, 14.2MB/s]\u001b[A\n",
            "numerai_dataset.zip:  48%|████▊     | 185M/389M [00:14<00:13, 14.5MB/s]\u001b[A\n",
            "numerai_dataset.zip:  48%|████▊     | 187M/389M [00:14<00:14, 14.3MB/s]\u001b[A\n",
            "numerai_dataset.zip:  49%|████▉     | 190M/389M [00:14<00:13, 14.5MB/s]\u001b[A\n",
            "numerai_dataset.zip:  49%|████▉     | 192M/389M [00:15<00:13, 14.3MB/s]\u001b[A\n",
            "numerai_dataset.zip:  50%|█████     | 194M/389M [00:15<00:13, 14.3MB/s]\u001b[A\n",
            "numerai_dataset.zip:  51%|█████     | 197M/389M [00:15<00:13, 14.4MB/s]\u001b[A\n",
            "numerai_dataset.zip:  51%|█████     | 199M/389M [00:15<00:13, 14.2MB/s]\u001b[A\n",
            "numerai_dataset.zip:  52%|█████▏    | 201M/389M [00:15<00:13, 14.3MB/s]\u001b[A\n",
            "numerai_dataset.zip:  52%|█████▏    | 204M/389M [00:15<00:12, 14.7MB/s]\u001b[A\n",
            "numerai_dataset.zip:  53%|█████▎    | 206M/389M [00:15<00:12, 14.6MB/s]\u001b[A\n",
            "numerai_dataset.zip:  54%|█████▎    | 208M/389M [00:16<00:12, 14.9MB/s]\u001b[A\n",
            "numerai_dataset.zip:  54%|█████▍    | 211M/389M [00:16<00:12, 14.7MB/s]\u001b[A\n",
            "numerai_dataset.zip:  55%|█████▍    | 213M/389M [00:16<00:11, 15.0MB/s]\u001b[A\n",
            "numerai_dataset.zip:  55%|█████▌    | 216M/389M [00:16<00:11, 14.8MB/s]\u001b[A\n",
            "numerai_dataset.zip:  56%|█████▌    | 218M/389M [00:16<00:11, 15.1MB/s]\u001b[A\n",
            "numerai_dataset.zip:  57%|█████▋    | 221M/389M [00:16<00:11, 15.1MB/s]\u001b[A\n",
            "numerai_dataset.zip:  57%|█████▋    | 223M/389M [00:17<00:10, 15.1MB/s]\u001b[A\n",
            "numerai_dataset.zip:  58%|█████▊    | 225M/389M [00:17<00:10, 15.0MB/s]\u001b[A\n",
            "numerai_dataset.zip:  59%|█████▊    | 228M/389M [00:17<00:10, 15.0MB/s]\u001b[A\n",
            "numerai_dataset.zip:  59%|█████▉    | 230M/389M [00:17<00:10, 14.8MB/s]\u001b[A\n",
            "numerai_dataset.zip:  60%|█████▉    | 232M/389M [00:17<00:10, 15.1MB/s]\u001b[A\n",
            "numerai_dataset.zip:  60%|██████    | 235M/389M [00:17<00:10, 14.8MB/s]\u001b[A\n",
            "numerai_dataset.zip:  61%|██████    | 237M/389M [00:18<00:10, 14.8MB/s]\u001b[A\n",
            "numerai_dataset.zip:  62%|██████▏   | 240M/389M [00:18<00:09, 15.1MB/s]\u001b[A\n",
            "numerai_dataset.zip:  62%|██████▏   | 242M/389M [00:18<00:09, 14.8MB/s]\u001b[A\n",
            "numerai_dataset.zip:  63%|██████▎   | 244M/389M [00:18<00:09, 14.9MB/s]\u001b[A\n",
            "numerai_dataset.zip:  63%|██████▎   | 247M/389M [00:18<00:09, 14.8MB/s]\u001b[A\n",
            "numerai_dataset.zip:  64%|██████▍   | 249M/389M [00:18<00:09, 14.8MB/s]\u001b[A\n",
            "numerai_dataset.zip:  65%|██████▍   | 251M/389M [00:19<00:09, 14.8MB/s]\u001b[A\n",
            "numerai_dataset.zip:  65%|██████▌   | 254M/389M [00:19<00:09, 14.8MB/s]\u001b[A\n",
            "numerai_dataset.zip:  66%|██████▌   | 256M/389M [00:19<00:09, 14.7MB/s]\u001b[A\n",
            "numerai_dataset.zip:  67%|██████▋   | 258M/389M [00:19<00:08, 14.8MB/s]\u001b[A\n",
            "numerai_dataset.zip:  67%|██████▋   | 261M/389M [00:19<00:08, 15.0MB/s]\u001b[A\n",
            "numerai_dataset.zip:  68%|██████▊   | 263M/389M [00:19<00:08, 15.0MB/s]\u001b[A\n",
            "numerai_dataset.zip:  68%|██████▊   | 266M/389M [00:19<00:08, 15.0MB/s]\u001b[A\n",
            "numerai_dataset.zip:  69%|██████▉   | 268M/389M [00:20<00:07, 15.2MB/s]\u001b[A\n",
            "numerai_dataset.zip:  70%|██████▉   | 270M/389M [00:20<00:07, 15.1MB/s]\u001b[A\n",
            "numerai_dataset.zip:  70%|███████   | 273M/389M [00:20<00:07, 15.4MB/s]\u001b[A\n",
            "numerai_dataset.zip:  71%|███████   | 275M/389M [00:20<00:07, 15.1MB/s]\u001b[A\n",
            "numerai_dataset.zip:  71%|███████▏  | 278M/389M [00:20<00:07, 15.2MB/s]\u001b[A\n",
            "numerai_dataset.zip:  72%|███████▏  | 280M/389M [00:20<00:07, 15.2MB/s]\u001b[A\n",
            "numerai_dataset.zip:  73%|███████▎  | 282M/389M [00:21<00:07, 15.1MB/s]\u001b[A\n",
            "numerai_dataset.zip:  73%|███████▎  | 285M/389M [00:21<00:06, 15.4MB/s]\u001b[A\n",
            "numerai_dataset.zip:  74%|███████▍  | 287M/389M [00:21<00:06, 15.3MB/s]\u001b[A\n",
            "numerai_dataset.zip:  75%|███████▍  | 290M/389M [00:21<00:06, 15.3MB/s]\u001b[A\n",
            "numerai_dataset.zip:  75%|███████▌  | 292M/389M [00:21<00:06, 15.2MB/s]\u001b[A\n",
            "numerai_dataset.zip:  76%|███████▌  | 294M/389M [00:21<00:06, 15.2MB/s]\u001b[A\n",
            "numerai_dataset.zip:  76%|███████▋  | 297M/389M [00:21<00:06, 15.2MB/s]\u001b[A\n",
            "numerai_dataset.zip:  77%|███████▋  | 299M/389M [00:22<00:05, 15.1MB/s]\u001b[A\n",
            "numerai_dataset.zip:  78%|███████▊  | 302M/389M [00:22<00:05, 15.3MB/s]\u001b[A\n",
            "numerai_dataset.zip:  78%|███████▊  | 304M/389M [00:22<00:05, 15.1MB/s]\u001b[A\n",
            "numerai_dataset.zip:  79%|███████▉  | 306M/389M [00:22<00:05, 15.1MB/s]\u001b[A\n",
            "numerai_dataset.zip:  79%|███████▉  | 309M/389M [00:22<00:05, 15.1MB/s]\u001b[A\n",
            "numerai_dataset.zip:  80%|████████  | 311M/389M [00:22<00:05, 15.3MB/s]\u001b[A\n",
            "numerai_dataset.zip:  81%|████████  | 313M/389M [00:23<00:04, 15.0MB/s]\u001b[A\n",
            "numerai_dataset.zip:  81%|████████▏ | 316M/389M [00:23<00:04, 15.0MB/s]\u001b[A\n",
            "numerai_dataset.zip:  82%|████████▏ | 318M/389M [00:23<00:04, 15.0MB/s]\u001b[A\n",
            "numerai_dataset.zip:  82%|████████▏ | 320M/389M [00:23<00:04, 15.1MB/s]\u001b[A\n",
            "numerai_dataset.zip:  83%|████████▎ | 323M/389M [00:23<00:04, 15.3MB/s]\u001b[A\n",
            "numerai_dataset.zip:  84%|████████▎ | 325M/389M [00:23<00:04, 15.3MB/s]\u001b[A\n",
            "numerai_dataset.zip:  84%|████████▍ | 328M/389M [00:24<00:03, 15.4MB/s]\u001b[A\n",
            "numerai_dataset.zip:  85%|████████▍ | 330M/389M [00:24<00:03, 15.5MB/s]\u001b[A\n",
            "numerai_dataset.zip:  86%|████████▌ | 333M/389M [00:24<00:03, 15.4MB/s]\u001b[A\n",
            "numerai_dataset.zip:  86%|████████▌ | 335M/389M [00:24<00:03, 15.3MB/s]\u001b[A\n",
            "numerai_dataset.zip:  87%|████████▋ | 337M/389M [00:24<00:03, 15.5MB/s]\u001b[A\n",
            "numerai_dataset.zip:  87%|████████▋ | 340M/389M [00:24<00:03, 15.2MB/s]\u001b[A\n",
            "numerai_dataset.zip:  88%|████████▊ | 342M/389M [00:24<00:03, 15.3MB/s]\u001b[A\n",
            "numerai_dataset.zip:  89%|████████▊ | 345M/389M [00:25<00:02, 15.5MB/s]\u001b[A\n",
            "numerai_dataset.zip:  89%|████████▉ | 347M/389M [00:25<00:02, 15.6MB/s]\u001b[A\n",
            "numerai_dataset.zip:  90%|█████████ | 350M/389M [00:25<00:02, 15.7MB/s]\u001b[A\n",
            "numerai_dataset.zip:  91%|█████████ | 352M/389M [00:25<00:02, 15.9MB/s]\u001b[A\n",
            "numerai_dataset.zip:  91%|█████████▏| 355M/389M [00:25<00:02, 15.9MB/s]\u001b[A\n",
            "numerai_dataset.zip:  92%|█████████▏| 357M/389M [00:25<00:01, 15.8MB/s]\u001b[A\n",
            "numerai_dataset.zip:  93%|█████████▎| 360M/389M [00:26<00:01, 15.6MB/s]\u001b[A\n",
            "numerai_dataset.zip:  93%|█████████▎| 362M/389M [00:26<00:01, 15.9MB/s]\u001b[A\n",
            "numerai_dataset.zip:  94%|█████████▍| 365M/389M [00:26<00:01, 15.8MB/s]\u001b[A\n",
            "numerai_dataset.zip:  95%|█████████▍| 367M/389M [00:26<00:01, 15.8MB/s]\u001b[A\n",
            "numerai_dataset.zip:  95%|█████████▌| 370M/389M [00:26<00:01, 15.9MB/s]\u001b[A\n",
            "numerai_dataset.zip:  96%|█████████▌| 372M/389M [00:26<00:01, 15.7MB/s]\u001b[A\n",
            "numerai_dataset.zip:  96%|█████████▋| 375M/389M [00:27<00:00, 16.1MB/s]\u001b[A\n",
            "numerai_dataset.zip:  97%|█████████▋| 377M/389M [00:27<00:00, 15.7MB/s]\u001b[A\n",
            "numerai_dataset.zip:  98%|█████████▊| 380M/389M [00:27<00:00, 16.0MB/s]\u001b[A\n",
            "numerai_dataset.zip:  98%|█████████▊| 382M/389M [00:27<00:00, 15.8MB/s]\u001b[A\n",
            "numerai_dataset.zip:  99%|█████████▉| 385M/389M [00:27<00:00, 15.8MB/s]\u001b[A\n",
            "numerai_dataset.zip: 100%|█████████▉| 387M/389M [00:27<00:00, 15.9MB/s]\u001b[A\n",
            "numerai_dataset.zip: 389MB [00:46, 15.9MB/s]                           \u001b[A"
          ],
          "name": "stderr"
        }
      ]
    },
    {
      "cell_type": "code",
      "metadata": {
        "id": "kd8CWTsEyaJY"
      },
      "source": [
        "L1 = linear_model.LinearRegression()\n",
        "L2 = linear_model.LinearRegression()\n",
        "L3 = linear_model.LinearRegression()\n",
        "L4 = linear_model.LinearRegression()"
      ],
      "execution_count": null,
      "outputs": []
    },
    {
      "cell_type": "code",
      "metadata": {
        "id": "-3V4rQQZzQgO"
      },
      "source": [
        "L1.fit(X1_train, y1_train)\n",
        "L2.fit(X2_train, y2_train)\n",
        "L3.fit(X3_train, y3_train)\n",
        "L4.fit(X4_train, y4_train)\n",
        "#score function\n",
        "def correlation_score(y_true, y_pred):\n",
        "    return np.corrcoef(y_true, y_pred)[0,1]"
      ],
      "execution_count": null,
      "outputs": []
    },
    {
      "cell_type": "code",
      "metadata": {
        "id": "hBT36hQJynmg"
      },
      "source": [
        "L1_preds = L1.predict(X_test) #make predictions on the out-of-sample test set\n",
        "L2_preds = L2.predict(X_test)\n",
        "L3_preds = L3.predict(X_test)\n",
        "L4_preds = L4.predict(X_test)"
      ],
      "execution_count": null,
      "outputs": []
    },
    {
      "cell_type": "code",
      "metadata": {
        "id": "I_sQTnfV0SZ-"
      },
      "source": [
        "L1_score = correlation_score(y_test, L1_preds) #calculate correlation scores on the out-of-sample predictions\n",
        "L2_score = correlation_score(y_test, L2_preds)\n",
        "L3_score = correlation_score(y_test, L3_preds)\n",
        "L4_score = correlation_score(y_test, L4_preds)"
      ],
      "execution_count": null,
      "outputs": []
    },
    {
      "cell_type": "code",
      "metadata": {
        "id": "mmEqQr1V0TJx",
        "colab": {
          "base_uri": "https://localhost:8080/",
          "height": 87
        },
        "outputId": "cae756c8-ccd6-4dd9-a2a2-df62161e4211"
      },
      "source": [
        "print(L1_score) #each partition's out-of-sample correlation score\n",
        "print(L2_score)\n",
        "print(L3_score)\n",
        "print(L4_score)"
      ],
      "execution_count": null,
      "outputs": [
        {
          "output_type": "stream",
          "text": [
            "0.015131133484415204\n",
            "0.012834410850005366\n",
            "0.00992985005947797\n",
            "0.007843202986115945\n"
          ],
          "name": "stdout"
        }
      ]
    },
    {
      "cell_type": "code",
      "metadata": {
        "id": "6OY8kqC4qKcR"
      },
      "source": [
        "preds = pd.DataFrame(L1_preds)\n",
        "preds.columns = ['L1_preds']\n",
        "preds['L2_preds'] = L2_preds\n",
        "preds['L3_preds'] = L3_preds\n",
        "preds['L4_preds'] = L4_preds\n",
        "preds['averaged_preds'] = (preds.L1_preds + preds.L2_preds + preds.L3_preds + preds.L4_preds) / 4 #arithmetic average of each model's out of sample predictions"
      ],
      "execution_count": null,
      "outputs": []
    },
    {
      "cell_type": "code",
      "metadata": {
        "id": "kGR1YRZhrSib",
        "colab": {
          "base_uri": "https://localhost:8080/",
          "height": 35
        },
        "outputId": "a4b829d5-ff62-4c06-e41a-b9d508004909"
      },
      "source": [
        "averaged_vali_score = correlation_score(y_test, preds.averaged_preds) #averaged out-of-sample correlation score; should be higher than any one model's individual score\n",
        "print(averaged_vali_score)"
      ],
      "execution_count": null,
      "outputs": [
        {
          "output_type": "stream",
          "text": [
            "0.01615743682941112\n"
          ],
          "name": "stdout"
        }
      ]
    },
    {
      "cell_type": "code",
      "metadata": {
        "id": "kO8X_-E8rf9M"
      },
      "source": [
        "your_name = \"UserName\"\n",
        "tournament_name = \"nomi\" #don't change\n",
        "prediction_name = \"prediction\" #don't change\n",
        "preds1 = pd.DataFrame(data['tournament'].ids)\n",
        "preds1.columns = ['id']\n",
        "preds1.set_index(\"id\", inplace=True)\n",
        "preds1['L1_preds'] = L1.predict(data['tournament'].x)\n",
        "preds1['L2_preds'] = L2.predict(data['tournament'].x)\n",
        "preds1['L3_preds'] = L3.predict(data['tournament'].x)\n",
        "preds1['L4_preds'] = L4.predict(data['tournament'].x)\n",
        "preds1[prediction_name] = (preds1.L1_preds + preds1.L2_preds + preds1.L3_preds + preds1.L4_preds) / 4\n",
        "preds1[prediction_name].to_csv(tournament_name + \"_\" + your_name + \"_submission.csv\", header=True)"
      ],
      "execution_count": null,
      "outputs": []
    },
    {
      "cell_type": "code",
      "metadata": {
        "id": "AbuF66pBGAyC"
      },
      "source": [
        "#public_id = \"REPLACEME\"\n",
        "#secret_key = \"REPLACEME\"\n",
        "#napi = numerapi.NumerAPI(public_id=public_id, secret_key=secret_key)\n",
        "#submission_id = napi.upload_predictions(tournament_name + \"_\" + your_name + \"_submission.csv\")"
      ],
      "execution_count": null,
      "outputs": []
    },
    {
      "cell_type": "code",
      "metadata": {
        "id": "ZCM_SkZHtX6J"
      },
      "source": [
        "from google.colab import files\n",
        "files.download(tournament_name + \"_\" + your_name + \"_submission.csv\")"
      ],
      "execution_count": null,
      "outputs": []
    }
  ]
}