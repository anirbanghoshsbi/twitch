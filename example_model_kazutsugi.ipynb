{
  "nbformat": 4,
  "nbformat_minor": 0,
  "metadata": {
    "colab": {
      "name": "example_model_kazutsugi.ipynb",
      "provenance": [],
      "authorship_tag": "ABX9TyPXIArbgCV+hwtZ8ic5y2lf",
      "include_colab_link": true
    },
    "kernelspec": {
      "name": "python3",
      "display_name": "Python 3"
    },
    "accelerator": "GPU"
  },
  "cells": [
    {
      "cell_type": "markdown",
      "metadata": {
        "id": "view-in-github",
        "colab_type": "text"
      },
      "source": [
        "<a href=\"https://colab.research.google.com/github/jonrtaylor/twitch/blob/master/example_model_kazutsugi.ipynb\" target=\"_parent\"><img src=\"https://colab.research.google.com/assets/colab-badge.svg\" alt=\"Open In Colab\"/></a>"
      ]
    },
    {
      "cell_type": "code",
      "metadata": {
        "id": "R97r1pES25zm"
      },
      "source": [
        "import pandas as pd\n",
        "import numpy as np\n",
        "\n",
        "train_datalink = 'https://numerai-public-datasets.s3-us-west-2.amazonaws.com/latest_numerai_training_data.csv.xz'\n",
        "\n",
        "df_train = pd.read_csv(train_datalink)"
      ],
      "execution_count": null,
      "outputs": []
    },
    {
      "cell_type": "code",
      "metadata": {
        "id": "aa2SxsIphk0L"
      },
      "source": [
        "from xgboost import XGBRegressor\n",
        "\n",
        "model = XGBRegressor(max_depth = 5, learning_rate = 0.01, n_estimators = 2000, n_jobs = -1, colsample_bytree = 0.1)#, tree_method = 'gpu_hist')\n",
        "\n",
        "y = df_train.target_kazutsugi.values\n",
        "\n",
        "features = [c for c in df_train if c.startswith(\"feature\")]\n",
        "\n",
        "X = df_train[features].values\n",
        "\n",
        "model.fit(X, y)"
      ],
      "execution_count": null,
      "outputs": []
    },
    {
      "cell_type": "code",
      "metadata": {
        "id": "YqfdVR0-hk7N"
      },
      "source": [
        "def correlation_score(y_true, y_pred):\n",
        "    return np.corrcoef(y_true, y_pred)[0,1]\n",
        "df_val = pd.read_csv('numerai_training_validation_target_nomi.csv.tar.gz')\n",
        "df_val = df_val.iloc[:-1].copy()\n",
        "df_val['era'] = df_val.loc[:, 'era'].str[3:].astype(int)\n",
        "df_vali = df_val[df_val.era > 120].copy()\n",
        "y_val = df_vali.target_nomi.values\n",
        "X_val = df_vali[features].values\n",
        "preds = model.predict(X_val)"
      ],
      "execution_count": null,
      "outputs": []
    },
    {
      "cell_type": "code",
      "metadata": {
        "id": "N4UdlBfVhlCE"
      },
      "source": [
        "nomi_score = correlation_score(y_val, preds)\n",
        "print(nomi_score)"
      ],
      "execution_count": null,
      "outputs": []
    },
    {
      "cell_type": "code",
      "metadata": {
        "id": "wKKAkJx93NP4"
      },
      "source": [
        "y_valk = df_vali.target_kazutsugi.values\n",
        "\n",
        "kaz_score = correlation_score(y_valk, preds)\n",
        "print(kaz_score)"
      ],
      "execution_count": null,
      "outputs": []
    },
    {
      "cell_type": "code",
      "metadata": {
        "id": "_Rpo8x6jK7qZ"
      },
      "source": [
        "tournament_data = pd.read_csv(\"https://numerai-public-datasets.s3-us-west-2.amazonaws.com/latest_numerai_tournament_data.csv.xz\")\n",
        "X_tournament = tournament_data[features].values\n",
        "predictions = model.predict(X_tournament)\n",
        "predictions_df = tournament_data[\"id\"].to_frame()\n",
        "predictions_df[\"prediction_kazutsugi\"] = predictions\n",
        "predictions_df.to_csv('example_predictions_twitch.csv', index=False)"
      ],
      "execution_count": null,
      "outputs": []
    },
    {
      "cell_type": "code",
      "metadata": {
        "id": "osDRMO-xM536"
      },
      "source": [
        "from google.colab import files\n",
        "files.download(\"example_predictions_twitch.csv\")"
      ],
      "execution_count": null,
      "outputs": []
    }
  ]
}