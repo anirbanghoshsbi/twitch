{
  "nbformat": 4,
  "nbformat_minor": 0,
  "metadata": {
    "colab": {
      "name": "example_model_kazutsugi.ipynb",
      "provenance": [],
      "authorship_tag": "ABX9TyNNwkMCW6MWJEAPrYRtSvhq",
      "include_colab_link": true
    },
    "kernelspec": {
      "name": "python3",
      "display_name": "Python 3"
    },
    "accelerator": "GPU"
  },
  "cells": [
    {
      "cell_type": "markdown",
      "metadata": {
        "id": "view-in-github",
        "colab_type": "text"
      },
      "source": [
        "<a href=\"https://colab.research.google.com/github/jonrtaylor/twitch/blob/master/example_model_clone.ipynb\" target=\"_parent\"><img src=\"https://colab.research.google.com/assets/colab-badge.svg\" alt=\"Open In Colab\"/></a>"
      ]
    },
    {
      "cell_type": "code",
      "metadata": {
        "id": "R97r1pES25zm"
      },
      "source": [
        "import pandas as pd\n",
        "import numpy as np\n",
        "\n",
        "train_datalink = 'https://numerai-public-datasets.s3-us-west-2.amazonaws.com/latest_numerai_training_data.csv.xz'\n",
        "\n",
        "df_train = pd.read_csv(train_datalink)"
      ],
      "execution_count": 1,
      "outputs": []
    },
    {
      "cell_type": "code",
      "metadata": {
        "id": "aa2SxsIphk0L",
        "colab": {
          "base_uri": "https://localhost:8080/"
        },
        "outputId": "c2710dc6-421c-4b9f-890a-d714b7ec038c"
      },
      "source": [
        "from xgboost import XGBRegressor\n",
        "\n",
        "model = XGBRegressor(max_depth = 5, learning_rate = 0.01, n_estimators = 2000, n_jobs = -1, colsample_bytree = 0.1)#, tree_method = 'gpu_hist')\n",
        "\n",
        "y = df_train.target.values\n",
        "\n",
        "features = [c for c in df_train if c.startswith(\"feature\")]\n",
        "\n",
        "X = df_train[features].values\n",
        "\n",
        "model.fit(X, y)"
      ],
      "execution_count": 2,
      "outputs": [
        {
          "output_type": "stream",
          "text": [
            "[20:24:43] WARNING: /workspace/src/objective/regression_obj.cu:152: reg:linear is now deprecated in favor of reg:squarederror.\n"
          ],
          "name": "stdout"
        },
        {
          "output_type": "execute_result",
          "data": {
            "text/plain": [
              "XGBRegressor(base_score=0.5, booster='gbtree', colsample_bylevel=1,\n",
              "             colsample_bynode=1, colsample_bytree=0.1, gamma=0,\n",
              "             importance_type='gain', learning_rate=0.01, max_delta_step=0,\n",
              "             max_depth=5, min_child_weight=1, missing=None, n_estimators=2000,\n",
              "             n_jobs=-1, nthread=None, objective='reg:linear', random_state=0,\n",
              "             reg_alpha=0, reg_lambda=1, scale_pos_weight=1, seed=None,\n",
              "             silent=None, subsample=1, verbosity=1)"
            ]
          },
          "metadata": {
            "tags": []
          },
          "execution_count": 2
        }
      ]
    },
    {
      "cell_type": "code",
      "metadata": {
        "id": "YqfdVR0-hk7N"
      },
      "source": [
        "del df_train\n",
        "del X\n",
        "del y\n",
        "\n",
        "def correlation_score(y_true, y_pred):\n",
        "    return np.corrcoef(y_true, y_pred)[0,1]\n",
        "\n",
        "TOURNAMENT_DATAPATH = 'https://numerai-public-datasets.s3-us-west-2.amazonaws.com/latest_numerai_tournament_data.csv.xz'\n",
        "df_tournament = pd.read_csv(TOURNAMENT_DATAPATH)\n",
        "df_val = df_tournament[df_tournament.data_type == \"validation\"].copy()\n",
        "y_val = df_val.target.values\n",
        "X_val = df_val[features].values\n",
        "preds = model.predict(X_val)"
      ],
      "execution_count": null,
      "outputs": []
    },
    {
      "cell_type": "code",
      "metadata": {
        "id": "N4UdlBfVhlCE"
      },
      "source": [
        "nomi_score = correlation_score(y_val, preds)\n",
        "print(nomi_score)\n",
        "\n",
        "del df_val\n",
        "del y_val\n",
        "del X_val\n",
        "del preds"
      ],
      "execution_count": null,
      "outputs": []
    },
    {
      "cell_type": "code",
      "metadata": {
        "id": "_Rpo8x6jK7qZ"
      },
      "source": [
        "predictions = model.predict(df_tournament[features].values)\n",
        "predictions_df = df_tournament[\"id\"].to_frame()\n",
        "predictions_df[\"prediction\"] = predictions\n",
        "predictions_df.to_csv('example_predictions_twitch.csv', index=False)"
      ],
      "execution_count": null,
      "outputs": []
    },
    {
      "cell_type": "code",
      "metadata": {
        "id": "osDRMO-xM536"
      },
      "source": [
        "from google.colab import files\n",
        "files.download(\"example_predictions_twitch.csv\")"
      ],
      "execution_count": null,
      "outputs": []
    }
  ]
}