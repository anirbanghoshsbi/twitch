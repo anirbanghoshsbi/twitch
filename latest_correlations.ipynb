{
  "nbformat": 4,
  "nbformat_minor": 0,
  "metadata": {
    "colab": {
      "name": "latest_correlations.ipynb",
      "provenance": [],
      "collapsed_sections": [],
      "include_colab_link": true
    },
    "kernelspec": {
      "name": "python3",
      "display_name": "Python 3"
    }
  },
  "cells": [
    {
      "cell_type": "markdown",
      "metadata": {
        "id": "view-in-github",
        "colab_type": "text"
      },
      "source": [
        "<a href=\"https://colab.research.google.com/github/jonrtaylor/twitch/blob/master/latest_correlations.ipynb\" target=\"_parent\"><img src=\"https://colab.research.google.com/assets/colab-badge.svg\" alt=\"Open In Colab\"/></a>"
      ]
    },
    {
      "cell_type": "code",
      "metadata": {
        "colab": {
          "base_uri": "https://localhost:8080/",
          "height": 287
        },
        "id": "CJVR5qwfG5hh",
        "outputId": "09d0db07-ffcc-47a2-ce82-37ef778cc253"
      },
      "source": [
        "!pip install numerapi\n",
        "import pandas as pd\n",
        "import numerapi\n",
        "import datetime\n",
        "\n",
        "today = str(datetime.date.today())\n",
        "\n",
        "api = numerapi.NumerAPI()\n",
        "\n",
        "round_number = api.get_current_round()\n",
        "if datetime.date.today().weekday() < 3:\n",
        "    round_number -= 1\n",
        "\n",
        "df1 = pd.DataFrame(api.round_details(round_number))\n",
        "df1['round_number'] = round_number\n",
        "df2 = pd.DataFrame(api.round_details(round_number - 1))\n",
        "df2['round_number'] = round_number - 1\n",
        "df3 = pd.DataFrame(api.round_details(round_number - 2))\n",
        "df3['round_number'] = round_number - 2\n",
        "df4 = pd.DataFrame(api.round_details(round_number - 3))\n",
        "df4['round_number'] = round_number - 3\n",
        "frames = [df1, df2, df3, df4]\n",
        "df = pd.concat(frames)\n",
        "df = df[df.date == today].copy()\n",
        "names = ['arbitrage', 'arbitrage2', 'arbitrage3', 'arbitrage4', 'leverage',\n",
        "         'leverage2', 'leverage3', 'culebracapital', 'culebracapital2',\n",
        "         'culebracapital3', 'integration_test'] \n",
        "#replace model names above with whichever models you want!\n",
        "all_data = pd.DataFrame()\n",
        "for name in names:\n",
        "    name_df = df[df.username == name].copy()\n",
        "    all_data = all_data.append(name_df, ignore_index=True)\n",
        "all_data.sort_values(by=['round_number', 'correlation'], ascending=False)"
      ],
      "execution_count": null,
      "outputs": [
        {
          "output_type": "stream",
          "text": [
            "Collecting numerapi\n",
            "  Downloading https://files.pythonhosted.org/packages/81/9d/c583893e96721821560e48aea92dd22aef9fc727151f1efae8f8dc885555/numerapi-2.3.9-py3-none-any.whl\n",
            "Requirement already satisfied: pytz in /usr/local/lib/python3.6/dist-packages (from numerapi) (2018.9)\n",
            "Requirement already satisfied: requests in /usr/local/lib/python3.6/dist-packages (from numerapi) (2.23.0)\n",
            "Requirement already satisfied: python-dateutil in /usr/local/lib/python3.6/dist-packages (from numerapi) (2.8.1)\n",
            "Requirement already satisfied: tqdm>=4.29.1 in /usr/local/lib/python3.6/dist-packages (from numerapi) (4.41.1)\n",
            "Requirement already satisfied: click>=7.0 in /usr/local/lib/python3.6/dist-packages (from numerapi) (7.1.2)\n",
            "Requirement already satisfied: certifi>=2017.4.17 in /usr/local/lib/python3.6/dist-packages (from requests->numerapi) (2020.12.5)\n",
            "Requirement already satisfied: chardet<4,>=3.0.2 in /usr/local/lib/python3.6/dist-packages (from requests->numerapi) (3.0.4)\n",
            "Requirement already satisfied: urllib3!=1.25.0,!=1.25.1,<1.26,>=1.21.1 in /usr/local/lib/python3.6/dist-packages (from requests->numerapi) (1.24.3)\n",
            "Requirement already satisfied: idna<3,>=2.5 in /usr/local/lib/python3.6/dist-packages (from requests->numerapi) (2.10)\n",
            "Requirement already satisfied: six>=1.5 in /usr/local/lib/python3.6/dist-packages (from python-dateutil->numerapi) (1.15.0)\n",
            "Installing collected packages: numerapi\n",
            "Successfully installed numerapi-2.3.9\n"
          ],
          "name": "stdout"
        },
        {
          "output_type": "execute_result",
          "data": {
            "text/html": [
              "<div>\n",
              "<style scoped>\n",
              "    .dataframe tbody tr th:only-of-type {\n",
              "        vertical-align: middle;\n",
              "    }\n",
              "\n",
              "    .dataframe tbody tr th {\n",
              "        vertical-align: top;\n",
              "    }\n",
              "\n",
              "    .dataframe thead th {\n",
              "        text-align: right;\n",
              "    }\n",
              "</style>\n",
              "<table border=\"1\" class=\"dataframe\">\n",
              "  <thead>\n",
              "    <tr style=\"text-align: right;\">\n",
              "      <th></th>\n",
              "      <th>correlation</th>\n",
              "      <th>date</th>\n",
              "      <th>username</th>\n",
              "      <th>round_number</th>\n",
              "    </tr>\n",
              "  </thead>\n",
              "  <tbody>\n",
              "  </tbody>\n",
              "</table>\n",
              "</div>"
            ],
            "text/plain": [
              "Empty DataFrame\n",
              "Columns: [correlation, date, username, round_number]\n",
              "Index: []"
            ]
          },
          "metadata": {
            "tags": []
          },
          "execution_count": 1
        }
      ]
    }
  ]
}