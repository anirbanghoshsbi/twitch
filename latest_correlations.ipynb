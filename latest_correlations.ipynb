{
 "cells": [
  {
   "cell_type": "markdown",
   "metadata": {
    "colab_type": "text",
    "id": "view-in-github"
   },
   "source": [
    "<a href=\"https://colab.research.google.com/github/jonrtaylor/twitch/blob/master/latest_correlations.ipynb\" target=\"_parent\"><img src=\"https://colab.research.google.com/assets/colab-badge.svg\" alt=\"Open In Colab\"/></a>"
   ]
  },
  {
   "cell_type": "code",
   "execution_count": null,
   "metadata": {
    "colab": {
     "base_uri": "https://localhost:8080/"
    },
    "id": "CJVR5qwfG5hh",
    "outputId": "975a721e-0800-4f8e-d1d2-2e9d322c76fa"
   },
   "outputs": [
    {
     "name": "stdout",
     "output_type": "stream",
     "text": [
      "Requirement already satisfied: numerapi in g:\\dev\\anaconda3\\envs\\numerai\\lib\\site-packages (2.3.1)\n",
      "Requirement already satisfied: click>=7.0 in g:\\dev\\anaconda3\\envs\\numerai\\lib\\site-packages (from numerapi) (7.1.2)\n",
      "Requirement already satisfied: python-dateutil in g:\\dev\\anaconda3\\envs\\numerai\\lib\\site-packages (from numerapi) (2.8.1)\n",
      "Requirement already satisfied: tqdm>=4.29.1 in g:\\dev\\anaconda3\\envs\\numerai\\lib\\site-packages (from numerapi) (4.51.0)\n",
      "Requirement already satisfied: requests in g:\\dev\\anaconda3\\envs\\numerai\\lib\\site-packages (from numerapi) (2.24.0)\n",
      "Requirement already satisfied: pytz in g:\\dev\\anaconda3\\envs\\numerai\\lib\\site-packages (from numerapi) (2020.1)\n",
      "Requirement already satisfied: six>=1.5 in g:\\dev\\anaconda3\\envs\\numerai\\lib\\site-packages (from python-dateutil->numerapi) (1.15.0)\n",
      "Requirement already satisfied: certifi>=2017.4.17 in g:\\dev\\anaconda3\\envs\\numerai\\lib\\site-packages (from requests->numerapi) (2020.12.5)\n",
      "Requirement already satisfied: idna<3,>=2.5 in g:\\dev\\anaconda3\\envs\\numerai\\lib\\site-packages (from requests->numerapi) (2.10)\n",
      "Requirement already satisfied: chardet<4,>=3.0.2 in g:\\dev\\anaconda3\\envs\\numerai\\lib\\site-packages (from requests->numerapi) (3.0.4)\n",
      "Requirement already satisfied: urllib3!=1.25.0,!=1.25.1,<1.26,>=1.21.1 in g:\\dev\\anaconda3\\envs\\numerai\\lib\\site-packages (from requests->numerapi) (1.25.11)\n"
     ]
    }
   ],
   "source": [
    "!pip install numerapi\n",
    "import datetime\n",
    "import pathlib\n",
    "\n",
    "import pandas as pd\n",
    "import numerapi\n",
    "import matplotlib.pyplot as plt\n",
    "\n",
    "today = str(datetime.date.today())\n",
    "\n",
    "api = numerapi.NumerAPI()\n",
    "\n",
    "round_number = api.get_current_round()\n",
    "if datetime.date.today().weekday() < 3:\n",
    "    round_number -= 1\n",
    "\n",
    "def get_round_df(round_number, today=today):\n",
    "    cache_dir = pathlib.Path(\"daily_scores_cache\")\n",
    "    cache_dir.mkdir(exist_ok=True)\n",
    "    cache_filename = cache_dir / f\"r{round_number}_{today}.csv.xz\"\n",
    "    if cache_filename.exists():\n",
    "        df = pd.read_csv(cache_filename, index_col=0)\n",
    "        df.date = pd.to_datetime(df.date)\n",
    "        return df\n",
    "    df = pd.DataFrame(api.round_details(round_number))\n",
    "    df['round_number'] = round_number\n",
    "    cols = list(df.columns)\n",
    "    cols = [cols[1], cols[0]] + cols[2:]\n",
    "    df = df[cols]\n",
    "    if len(df[df.date == today]) > 0:\n",
    "        df.to_csv(cache_filename)\n",
    "    return df\n",
    "\n",
    "dfs = []\n",
    "# get last 4 rounds\n",
    "for i in range(4):\n",
    "    temp_df = get_round_df(round_number - i, today)\n",
    "    dfs.append(temp_df)\n",
    "\n",
    "df = pd.concat(dfs)\n",
    "\n",
    "#calculate percentile rank of correlation score by round\n",
    "df['percentile_rank'] = df.groupby(['round_number','date']).rank(pct=True)\n",
    "#filter to today and yesterday's daily scores\n",
    "days_delta = 1\n",
    "if datetime.date.today().weekday() < 2:\n",
    "    days_delta = 3\n",
    "df = df[(df.date == today) | (df.date + pd.Timedelta(days=days_delta) == today)].copy()\n",
    "\n",
    "names = ['arbitrage', 'arbitrage2', 'arbitrage3', 'arbitrage4', 'leverage',\n",
    "         'leverage2', 'leverage3', 'culebracapital', 'culebracapital2',\n",
    "         'culebracapital3', 'integration_test'] \n",
    "#replace model names above with whichever models you want!\n",
    "all_data = pd.DataFrame()\n",
    "for name in names:\n",
    "    name_df = df[df.username == name].copy()\n",
    "    all_data = all_data.append(name_df, ignore_index=True)\n",
    "#calculate differences from yesterday\n",
    "all_data[['corr_diff', 'percentile_diff']] = all_data.sort_values(by='date').groupby(['round_number','username']).diff()[['correlation', 'percentile_rank']]\n",
    "#replace with only data from today\n",
    "all_data = all_data[(all_data.date == today)].copy()"
   ]
  },
  {
   "cell_type": "code",
   "execution_count": null,
   "metadata": {},
   "outputs": [],
   "source": [
    "def color_styling(val):\n",
    "    color = 'red' if val < 0 else 'green'\n",
    "    return 'color: %s' % color"
   ]
  },
  {
   "cell_type": "code",
   "execution_count": null,
   "metadata": {
    "colab": {
     "base_uri": "https://localhost:8080/",
     "height": 204
    },
    "id": "KsMiQ1-uKK_Y",
    "outputId": "9e68958f-22d6-43bd-f575-9924373caa8d"
   },
   "outputs": [],
   "source": [
    "# view mean of all models per round\n",
    "all_data.sort_values(by=['round_number', 'correlation'], ascending=False).groupby('round_number')[['correlation','percentile_rank','corr_diff','percentile_diff']].mean().style.applymap(color_styling, ['correlation','corr_diff','percentile_diff'])"
   ]
  },
  {
   "cell_type": "code",
   "execution_count": null,
   "metadata": {
    "colab": {
     "base_uri": "https://localhost:8080/",
     "height": 1000
    },
    "id": "AVJ5HwXOKMQ_",
    "outputId": "d6e942d4-9c09-4130-cda0-25244b99e3f3"
   },
   "outputs": [],
   "source": [
    "# view raw stats of all models per round\n",
    "all_data.sort_values(by=['round_number', 'correlation'], ascending=False).reset_index(drop=True).style.applymap(color_styling, ['correlation','corr_diff','percentile_diff'])"
   ]
  },
  {
   "cell_type": "code",
   "execution_count": null,
   "metadata": {},
   "outputs": [],
   "source": [
    "print(f\"Top 10 models with highest correlation scores in r{round_number}\")\n",
    "df[(df.round_number == round_number) & (df.date == df.date.max())].sort_values(by=\"correlation\", ascending=False).iloc[:10].sort_values(by=\"percentile_rank\", ascending=False)"
   ]
  }
 ],
 "metadata": {
  "colab": {
   "collapsed_sections": [],
   "include_colab_link": true,
   "name": "latest_correlations.ipynb",
   "provenance": []
  },
  "kernelspec": {
   "display_name": "Python 3",
   "language": "python",
   "name": "python3"
  },
  "language_info": {
   "codemirror_mode": {
    "name": "ipython",
    "version": 3
   },
   "file_extension": ".py",
   "mimetype": "text/x-python",
   "name": "python",
   "nbconvert_exporter": "python",
   "pygments_lexer": "ipython3",
   "version": "3.7.8"
  }
 },
 "nbformat": 4,
 "nbformat_minor": 4
}