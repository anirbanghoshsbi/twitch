{
  "nbformat": 4,
  "nbformat_minor": 0,
  "metadata": {
    "colab": {
      "name": "Partition_1_optimizer",
      "provenance": [],
      "include_colab_link": true
    },
    "kernelspec": {
      "name": "python3",
      "display_name": "Python 3"
    },
    "accelerator": "GPU"
  },
  "cells": [
    {
      "cell_type": "markdown",
      "metadata": {
        "id": "view-in-github",
        "colab_type": "text"
      },
      "source": [
        "<a href=\"https://colab.research.google.com/github/jonrtaylor/twitch/blob/master/Partition_1_optimizer.ipynb\" target=\"_parent\"><img src=\"https://colab.research.google.com/assets/colab-badge.svg\" alt=\"Open In Colab\"/></a>"
      ]
    },
    {
      "cell_type": "code",
      "metadata": {
        "id": "njZ1umQeyYFv",
        "colab": {
          "base_uri": "https://localhost:8080/",
          "height": 609
        },
        "outputId": "34646d59-e2e9-4b56-b282-bb96c444bb2a"
      },
      "source": [
        "!pip install --upgrade numerox\n",
        "import numerox as nx\n",
        "import pandas as pd\n",
        "from sklearn import model_selection\n",
        "from sklearn import linear_model\n",
        "data = nx.download('numerai_dataset.zip')\n",
        "X1_train = data['era31':'era60'].x #X1_train is your data partition if you wanted to have 4 sub-samples of the train set; 1-30, 31-60, 61-90, 91-120\n",
        "X_test = data['validation'].x\n",
        "y1_train = data['era31':'era60'].df['target'].values\n",
        "y_test = data['validation'].df['target'].values\n",
        "era_train = data['era31':'era60'].era_float\n",
        "CV = model_selection.GroupKFold(n_splits = 3)\n",
        "grp = list(CV.split(X = X1_train, y = y1_train,  groups = era_train))"
      ],
      "execution_count": null,
      "outputs": [
        {
          "output_type": "stream",
          "text": [
            "Collecting numerox\n",
            "\u001b[?25l  Downloading https://files.pythonhosted.org/packages/69/d5/eda5d93f74e2708c221d1845cafa24b0b70fa74340eedff8be343cc94d12/numerox-4.1.7.tar.gz (1.8MB)\n",
            "\u001b[K     |████████████████████████████████| 1.8MB 5.4MB/s \n",
            "\u001b[?25hRequirement already satisfied, skipping upgrade: numpy in /usr/local/lib/python3.6/dist-packages (from numerox) (1.18.5)\n",
            "Requirement already satisfied, skipping upgrade: scipy in /usr/local/lib/python3.6/dist-packages (from numerox) (1.4.1)\n",
            "Requirement already satisfied, skipping upgrade: pandas in /usr/local/lib/python3.6/dist-packages (from numerox) (1.0.5)\n",
            "Requirement already satisfied, skipping upgrade: tables in /usr/local/lib/python3.6/dist-packages (from numerox) (3.4.4)\n",
            "Requirement already satisfied, skipping upgrade: scikit-learn in /usr/local/lib/python3.6/dist-packages (from numerox) (0.22.2.post1)\n",
            "Collecting numerapi>=2.2.4\n",
            "  Downloading https://files.pythonhosted.org/packages/e9/b0/4992d6de584c82297b6060260a21b94c05c37fb64438746057b612e10f07/numerapi-2.3.4-py3-none-any.whl\n",
            "Collecting nose\n",
            "\u001b[?25l  Downloading https://files.pythonhosted.org/packages/15/d8/dd071918c040f50fa1cf80da16423af51ff8ce4a0f2399b7bf8de45ac3d9/nose-1.3.7-py3-none-any.whl (154kB)\n",
            "\u001b[K     |████████████████████████████████| 163kB 38.1MB/s \n",
            "\u001b[?25hRequirement already satisfied, skipping upgrade: python-dateutil>=2.6.1 in /usr/local/lib/python3.6/dist-packages (from pandas->numerox) (2.8.1)\n",
            "Requirement already satisfied, skipping upgrade: pytz>=2017.2 in /usr/local/lib/python3.6/dist-packages (from pandas->numerox) (2018.9)\n",
            "Requirement already satisfied, skipping upgrade: numexpr>=2.5.2 in /usr/local/lib/python3.6/dist-packages (from tables->numerox) (2.7.1)\n",
            "Requirement already satisfied, skipping upgrade: six>=1.9.0 in /usr/local/lib/python3.6/dist-packages (from tables->numerox) (1.15.0)\n",
            "Requirement already satisfied, skipping upgrade: joblib>=0.11 in /usr/local/lib/python3.6/dist-packages (from scikit-learn->numerox) (0.16.0)\n",
            "Requirement already satisfied, skipping upgrade: tqdm>=4.29.1 in /usr/local/lib/python3.6/dist-packages (from numerapi>=2.2.4->numerox) (4.41.1)\n",
            "Requirement already satisfied, skipping upgrade: requests in /usr/local/lib/python3.6/dist-packages (from numerapi>=2.2.4->numerox) (2.23.0)\n",
            "Requirement already satisfied, skipping upgrade: click>=7.0 in /usr/local/lib/python3.6/dist-packages (from numerapi>=2.2.4->numerox) (7.1.2)\n",
            "Requirement already satisfied, skipping upgrade: urllib3!=1.25.0,!=1.25.1,<1.26,>=1.21.1 in /usr/local/lib/python3.6/dist-packages (from requests->numerapi>=2.2.4->numerox) (1.24.3)\n",
            "Requirement already satisfied, skipping upgrade: chardet<4,>=3.0.2 in /usr/local/lib/python3.6/dist-packages (from requests->numerapi>=2.2.4->numerox) (3.0.4)\n",
            "Requirement already satisfied, skipping upgrade: idna<3,>=2.5 in /usr/local/lib/python3.6/dist-packages (from requests->numerapi>=2.2.4->numerox) (2.10)\n",
            "Requirement already satisfied, skipping upgrade: certifi>=2017.4.17 in /usr/local/lib/python3.6/dist-packages (from requests->numerapi>=2.2.4->numerox) (2020.6.20)\n",
            "Building wheels for collected packages: numerox\n",
            "  Building wheel for numerox (setup.py) ... \u001b[?25l\u001b[?25hdone\n",
            "  Created wheel for numerox: filename=numerox-4.1.7-cp36-none-any.whl size=1805112 sha256=b441c755dd8986e69cb3306e3b9998d31e09a4574bd655992fa45a25b12a8059\n",
            "  Stored in directory: /root/.cache/pip/wheels/b8/d0/3c/1f032762cc54b93e3def50b4f6a49f3f0ad27c3e8d561a4c40\n",
            "Successfully built numerox\n",
            "Installing collected packages: numerapi, nose, numerox\n",
            "Successfully installed nose-1.3.7 numerapi-2.3.4 numerox-4.1.7\n"
          ],
          "name": "stdout"
        },
        {
          "output_type": "stream",
          "text": [
            "numerai_dataset.zip: 389MB [00:05, 68.1MB/s]                           \n"
          ],
          "name": "stderr"
        }
      ]
    },
    {
      "cell_type": "code",
      "metadata": {
        "id": "JXsK8dQAi_Vn",
        "colab": {
          "base_uri": "https://localhost:8080/",
          "height": 306
        },
        "outputId": "e9471260-5048-4b71-f552-538a1b345e66"
      },
      "source": [
        "REG1 = linear_model.ElasticNet(copy_X=True, fit_intercept=True, l1_ratio=0.5,\n",
        "           max_iter=1000, normalize=False, positive=False, precompute=False,\n",
        "           random_state=None, selection='cyclic', warm_start=False)\n",
        "params1 = {'alpha': [0.001, 0.01, 0.1, 1, 10], 'tol': [0.0001, 0.001, 0.01, 0.1]}\n",
        "GS1 = model_selection.GridSearchCV(estimator = REG1, param_grid = params1, cv = grp, return_train_score = True)\n",
        "GS1.fit(X1_train, y1_train)"
      ],
      "execution_count": null,
      "outputs": [
        {
          "output_type": "execute_result",
          "data": {
            "text/plain": [
              "GridSearchCV(cv=[(array([     0,      1,      2, ..., 100496, 100497, 100498]),\n",
              "                  array([ 2408,  2409,  2410, ..., 88770, 88771, 88772])),\n",
              "                 (array([ 2408,  2409,  2410, ..., 92691, 92692, 92693]),\n",
              "                  array([     0,      1,      2, ..., 100496, 100497, 100498])),\n",
              "                 (array([     0,      1,      2, ..., 100496, 100497, 100498]),\n",
              "                  array([ 4779,  4780,  4781, ..., 92691, 92692, 92693]))],\n",
              "             error_score=nan,\n",
              "             estimator=ElasticNet(alpha=1.0, copy_X=True, fit_intercept=True,\n",
              "                                  l1_ratio=0.5, max_iter=1000, normalize=False,\n",
              "                                  positive=False, precompute=False,\n",
              "                                  random_state=None, selection='cyclic',\n",
              "                                  tol=0.0001, warm_start=False),\n",
              "             iid='deprecated', n_jobs=None,\n",
              "             param_grid={'alpha': [0.001, 0.01, 0.1, 1, 10],\n",
              "                         'tol': [0.0001, 0.001, 0.01, 0.1]},\n",
              "             pre_dispatch='2*n_jobs', refit=True, return_train_score=True,\n",
              "             scoring=None, verbose=0)"
            ]
          },
          "metadata": {
            "tags": []
          },
          "execution_count": 2
        }
      ]
    },
    {
      "cell_type": "code",
      "metadata": {
        "id": "kd8CWTsEyaJY",
        "colab": {
          "base_uri": "https://localhost:8080/",
          "height": 68
        },
        "outputId": "2704cf4d-0902-48cb-c7c9-ffd59ac992a7"
      },
      "source": [
        "GS1.best_estimator_"
      ],
      "execution_count": null,
      "outputs": [
        {
          "output_type": "execute_result",
          "data": {
            "text/plain": [
              "ElasticNet(alpha=0.001, copy_X=True, fit_intercept=True, l1_ratio=0.5,\n",
              "           max_iter=1000, normalize=False, positive=False, precompute=False,\n",
              "           random_state=None, selection='cyclic', tol=0.1, warm_start=False)"
            ]
          },
          "metadata": {
            "tags": []
          },
          "execution_count": 3
        }
      ]
    },
    {
      "cell_type": "code",
      "metadata": {
        "id": "YD9IOyfsjMuS"
      },
      "source": [
        "#partition 1 settings:\n",
        "#ElasticNet(alpha=0.001, copy_X=True, fit_intercept=True, l1_ratio=0.5,\n",
        "#           max_iter=1000, normalize=False, positive=False, precompute=False,\n",
        "#           random_state=None, selection='cyclic', tol=0.1, warm_start=False)"
      ],
      "execution_count": null,
      "outputs": []
    },
    {
      "cell_type": "code",
      "metadata": {
        "id": "-3V4rQQZzQgO"
      },
      "source": [
        ""
      ],
      "execution_count": null,
      "outputs": []
    },
    {
      "cell_type": "code",
      "metadata": {
        "id": "hBT36hQJynmg"
      },
      "source": [
        ""
      ],
      "execution_count": null,
      "outputs": []
    },
    {
      "cell_type": "code",
      "metadata": {
        "id": "I_sQTnfV0SZ-"
      },
      "source": [
        ""
      ],
      "execution_count": null,
      "outputs": []
    },
    {
      "cell_type": "code",
      "metadata": {
        "id": "mmEqQr1V0TJx"
      },
      "source": [
        ""
      ],
      "execution_count": null,
      "outputs": []
    }
  ]
}