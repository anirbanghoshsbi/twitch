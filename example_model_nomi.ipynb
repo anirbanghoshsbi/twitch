{
  "nbformat": 4,
  "nbformat_minor": 0,
  "metadata": {
    "colab": {
      "name": "example_model_nomi.ipynb",
      "provenance": [],
      "authorship_tag": "ABX9TyMzFhs3Y1k9q5LEUg0+h940",
      "include_colab_link": true
    },
    "kernelspec": {
      "name": "python3",
      "display_name": "Python 3"
    },
    "accelerator": "GPU"
  },
  "cells": [
    {
      "cell_type": "markdown",
      "metadata": {
        "id": "view-in-github",
        "colab_type": "text"
      },
      "source": [
        "<a href=\"https://colab.research.google.com/github/jonrtaylor/twitch/blob/master/example_model_nomi.ipynb\" target=\"_parent\"><img src=\"https://colab.research.google.com/assets/colab-badge.svg\" alt=\"Open In Colab\"/></a>"
      ]
    },
    {
      "cell_type": "code",
      "metadata": {
        "id": "R97r1pES25zm"
      },
      "source": [
        "import pandas as pd\n",
        "import numpy as np\n",
        "\n",
        "df_train = pd.read_csv('https://cloudflare-ipfs.com/ipfs/QmX1cDy6iqKGy8B4wSx8PkwxDTgPmWuZZBTM7tL1WNizv8/numerai_training_validation_target_nomi.csv.tar.gz')"
      ],
      "execution_count": 1,
      "outputs": []
    },
    {
      "cell_type": "code",
      "metadata": {
        "id": "wKKAkJx93NP4"
      },
      "source": [
        "df_train = df_train.iloc[:-1].copy()\n",
        "\n",
        "df_train['era'] = df_train.loc[:, 'era'].str[3:].astype(int)\n",
        "df_val = df_train[df_train.era > 120].copy()"
      ],
      "execution_count": 2,
      "outputs": []
    },
    {
      "cell_type": "code",
      "metadata": {
        "id": "yE67Lb3u3PRJ"
      },
      "source": [
        "df_training = df_train[df_train.era < 121].copy()\n",
        "del df_train"
      ],
      "execution_count": 3,
      "outputs": []
    },
    {
      "cell_type": "code",
      "metadata": {
        "id": "tmBRdVQEKzUQ",
        "outputId": "0e438982-aedf-4e6d-cf5b-1f6f6681c1f3",
        "colab": {
          "base_uri": "https://localhost:8080/",
          "height": 153
        }
      },
      "source": [
        "from xgboost import XGBRegressor\n",
        "\n",
        "model = XGBRegressor(max_depth = 5, learning_rate = 0.01, n_estimators = 2000, n_jobs = -1, colsample_bytree = 0.1)#, tree_method = 'gpu_hist')\n",
        "#slight change to save resources; still works!\n",
        "#y = df_training.target_nomi.values\n",
        "\n",
        "features = [c for c in df_training if c.startswith(\"feature\")]\n",
        "\n",
        "#slight change to save resources; still works!\n",
        "#X = df_training[features].values\n",
        "\n",
        "model.fit(df_training[features].values, df_training.target_nomi.values)"
      ],
      "execution_count": 4,
      "outputs": [
        {
          "output_type": "stream",
          "text": [
            "[17:14:55] WARNING: /workspace/src/objective/regression_obj.cu:152: reg:linear is now deprecated in favor of reg:squarederror.\n"
          ],
          "name": "stdout"
        },
        {
          "output_type": "execute_result",
          "data": {
            "text/plain": [
              "XGBRegressor(base_score=0.5, booster='gbtree', colsample_bylevel=1,\n",
              "             colsample_bynode=1, colsample_bytree=0.1, gamma=0,\n",
              "             importance_type='gain', learning_rate=0.01, max_delta_step=0,\n",
              "             max_depth=5, min_child_weight=1, missing=None, n_estimators=2000,\n",
              "             n_jobs=-1, nthread=None, objective='reg:linear', random_state=0,\n",
              "             reg_alpha=0, reg_lambda=1, scale_pos_weight=1, seed=None,\n",
              "             silent=None, subsample=1, verbosity=1)"
            ]
          },
          "metadata": {
            "tags": []
          },
          "execution_count": 4
        }
      ]
    },
    {
      "cell_type": "code",
      "metadata": {
        "id": "N0p6NTP1K2Ak"
      },
      "source": [
        "def correlation_score(y_true, y_pred):\n",
        "    return np.corrcoef(y_true, y_pred)[0,1]\n",
        "#y_val = df_val.target_nomi.values\n",
        "#X_val = df_val[features].values\n",
        "preds = model.predict(df_val[features].values)"
      ],
      "execution_count": 5,
      "outputs": []
    },
    {
      "cell_type": "code",
      "metadata": {
        "id": "HY1oW_6vK4AI",
        "outputId": "339c4925-595b-4a97-8fec-cf2795e8bb6e",
        "colab": {
          "base_uri": "https://localhost:8080/",
          "height": 34
        }
      },
      "source": [
        "nomi_score = correlation_score(df_val.target_nomi.values, preds)\n",
        "print(nomi_score)"
      ],
      "execution_count": 6,
      "outputs": [
        {
          "output_type": "stream",
          "text": [
            "0.028289112027785463\n"
          ],
          "name": "stdout"
        }
      ]
    },
    {
      "cell_type": "code",
      "metadata": {
        "id": "xHvydipMK5Py"
      },
      "source": [
        "#y_valk = df_val.target_kazutsugi.values"
      ],
      "execution_count": 7,
      "outputs": []
    },
    {
      "cell_type": "code",
      "metadata": {
        "id": "cxExOodgK6h-",
        "outputId": "35a73221-118f-4c49-eb70-7fdea7aae2b0",
        "colab": {
          "base_uri": "https://localhost:8080/",
          "height": 34
        }
      },
      "source": [
        "kaz_score = correlation_score(df_val.target_kazutsugi.values, preds)\n",
        "print(kaz_score)\n",
        "del df_val\n",
        "del df_training"
      ],
      "execution_count": 8,
      "outputs": [
        {
          "output_type": "stream",
          "text": [
            "0.030594348716166283\n"
          ],
          "name": "stdout"
        }
      ]
    },
    {
      "cell_type": "code",
      "metadata": {
        "id": "_Rpo8x6jK7qZ"
      },
      "source": [
        "tournament_data = pd.read_csv(\"https://numerai-public-datasets.s3-us-west-2.amazonaws.com/latest_numerai_tournament_data.csv.xz\")\n",
        "#X_tournament = tournament_data[features].values\n",
        "predictions = model.predict(tournament_data[features].values)\n",
        "predictions_df = tournament_data[\"id\"].to_frame()\n",
        "predictions_df[\"prediction_kazutsugi\"] = predictions\n",
        "predictions_df.to_csv('example_predictions_nomi_twitch.csv', index=False)"
      ],
      "execution_count": null,
      "outputs": []
    },
    {
      "cell_type": "code",
      "metadata": {
        "id": "osDRMO-xM536"
      },
      "source": [
        "from google.colab import files\n",
        "files.download(\"example_predictions_nomi_twitch.csv\")"
      ],
      "execution_count": null,
      "outputs": []
    }
  ]
}