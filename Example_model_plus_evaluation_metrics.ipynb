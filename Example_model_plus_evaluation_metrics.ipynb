{
  "nbformat": 4,
  "nbformat_minor": 0,
  "metadata": {
    "colab": {
      "name": "Example_model_plus_evaluation_metrics.ipynb",
      "provenance": [],
      "authorship_tag": "ABX9TyN//NgVt6a9n6nt/N81b+V8",
      "include_colab_link": true
    },
    "kernelspec": {
      "name": "python3",
      "display_name": "Python 3"
    }
  },
  "cells": [
    {
      "cell_type": "markdown",
      "metadata": {
        "id": "view-in-github",
        "colab_type": "text"
      },
      "source": [
        "<a href=\"https://colab.research.google.com/github/jonrtaylor/twitch/blob/master/Example_model_plus_evaluation_metrics.ipynb\" target=\"_parent\"><img src=\"https://colab.research.google.com/assets/colab-badge.svg\" alt=\"Open In Colab\"/></a>"
      ]
    },
    {
      "cell_type": "code",
      "metadata": {
        "id": "lhwgGmG0Yt3Q"
      },
      "source": [
        "import pandas as pd\n",
        "import numpy as np\n",
        "from xgboost import XGBRegressor\n",
        "\n",
        "train_datalink = 'https://numerai-public-datasets.s3-us-west-2.amazonaws.com/latest_numerai_training_data.csv.xz'\n",
        "\n",
        "df_train = pd.read_csv(train_datalink)\n",
        "\n",
        "features = [c for c in df_train if c.startswith(\"feature\")]"
      ],
      "execution_count": null,
      "outputs": []
    },
    {
      "cell_type": "code",
      "metadata": {
        "id": "v9I8KoO0YzX4",
        "colab": {
          "base_uri": "https://localhost:8080/",
          "height": 153
        },
        "outputId": "59edf776-2bb6-4fed-ff05-e2da5092758f"
      },
      "source": [
        "model = XGBRegressor(max_depth = 5, learning_rate = 0.01, n_estimators = 2000, n_jobs = -1, colsample_bytree = 0.1)#, tree_method = 'gpu_hist')\n",
        "\n",
        "model.fit(df_train[features], df_train.target)"
      ],
      "execution_count": null,
      "outputs": [
        {
          "output_type": "stream",
          "text": [
            "[21:47:48] WARNING: /workspace/src/objective/regression_obj.cu:152: reg:linear is now deprecated in favor of reg:squarederror.\n"
          ],
          "name": "stdout"
        },
        {
          "output_type": "execute_result",
          "data": {
            "text/plain": [
              "XGBRegressor(base_score=0.5, booster='gbtree', colsample_bylevel=1,\n",
              "             colsample_bynode=1, colsample_bytree=0.1, gamma=0,\n",
              "             importance_type='gain', learning_rate=0.01, max_delta_step=0,\n",
              "             max_depth=5, min_child_weight=1, missing=None, n_estimators=2000,\n",
              "             n_jobs=-1, nthread=None, objective='reg:linear', random_state=0,\n",
              "             reg_alpha=0, reg_lambda=1, scale_pos_weight=1, seed=None,\n",
              "             silent=None, subsample=1, verbosity=1)"
            ]
          },
          "metadata": {
            "tags": []
          },
          "execution_count": 2
        }
      ]
    },
    {
      "cell_type": "code",
      "metadata": {
        "id": "TJucmwWWY1Jq",
        "colab": {
          "base_uri": "https://localhost:8080/",
          "height": 231
        },
        "outputId": "e269c309-56d7-4246-c783-2dd70b8f0dff"
      },
      "source": [
        "#del df_train\n",
        "\n",
        "def correlation_score(y_true, y_pred):\n",
        "    return np.corrcoef(y_true, y_pred)[0,1]\n",
        "\n",
        "\n",
        "tournament_data = pd.read_csv(\"https://numerai-public-datasets.s3-us-west-2.amazonaws.com/latest_numerai_tournament_data.csv.xz\")\n",
        "df_val = tournament_data[tournament.data_type == \"validation\"].copy()\n",
        "df_val['era'] = df_val.loc[:, 'era'].str[3:].astype(int)\n",
        "del tournament_data\n",
        "preds = model.predict(df_val[features])"
      ],
      "execution_count": null,
      "outputs": [
        {
          "output_type": "error",
          "ename": "NameError",
          "evalue": "ignored",
          "traceback": [
            "\u001b[0;31m---------------------------------------------------------------------------\u001b[0m",
            "\u001b[0;31mNameError\u001b[0m                                 Traceback (most recent call last)",
            "\u001b[0;32m<ipython-input-1-1787dfb88f2b>\u001b[0m in \u001b[0;36m<module>\u001b[0;34m()\u001b[0m\n\u001b[1;32m      5\u001b[0m \u001b[0;34m\u001b[0m\u001b[0m\n\u001b[1;32m      6\u001b[0m \u001b[0;34m\u001b[0m\u001b[0m\n\u001b[0;32m----> 7\u001b[0;31m \u001b[0mtournament_data\u001b[0m \u001b[0;34m=\u001b[0m \u001b[0mpd\u001b[0m\u001b[0;34m.\u001b[0m\u001b[0mread_csv\u001b[0m\u001b[0;34m(\u001b[0m\u001b[0;34m\"https://numerai-public-datasets.s3-us-west-2.amazonaws.com/latest_numerai_tournament_data.csv.xz\"\u001b[0m\u001b[0;34m)\u001b[0m\u001b[0;34m\u001b[0m\u001b[0;34m\u001b[0m\u001b[0m\n\u001b[0m\u001b[1;32m      8\u001b[0m \u001b[0mdf_val\u001b[0m \u001b[0;34m=\u001b[0m \u001b[0mtournament_data\u001b[0m\u001b[0;34m[\u001b[0m\u001b[0mtournament\u001b[0m\u001b[0;34m.\u001b[0m\u001b[0mdata_type\u001b[0m \u001b[0;34m==\u001b[0m \u001b[0;34m\"validation\"\u001b[0m\u001b[0;34m]\u001b[0m\u001b[0;34m.\u001b[0m\u001b[0mcopy\u001b[0m\u001b[0;34m(\u001b[0m\u001b[0;34m)\u001b[0m\u001b[0;34m\u001b[0m\u001b[0;34m\u001b[0m\u001b[0m\n\u001b[1;32m      9\u001b[0m \u001b[0mdf_val\u001b[0m\u001b[0;34m[\u001b[0m\u001b[0;34m'era'\u001b[0m\u001b[0;34m]\u001b[0m \u001b[0;34m=\u001b[0m \u001b[0mdf_val\u001b[0m\u001b[0;34m.\u001b[0m\u001b[0mloc\u001b[0m\u001b[0;34m[\u001b[0m\u001b[0;34m:\u001b[0m\u001b[0;34m,\u001b[0m \u001b[0;34m'era'\u001b[0m\u001b[0;34m]\u001b[0m\u001b[0;34m.\u001b[0m\u001b[0mstr\u001b[0m\u001b[0;34m[\u001b[0m\u001b[0;36m3\u001b[0m\u001b[0;34m:\u001b[0m\u001b[0;34m]\u001b[0m\u001b[0;34m.\u001b[0m\u001b[0mastype\u001b[0m\u001b[0;34m(\u001b[0m\u001b[0mint\u001b[0m\u001b[0;34m)\u001b[0m\u001b[0;34m\u001b[0m\u001b[0;34m\u001b[0m\u001b[0m\n",
            "\u001b[0;31mNameError\u001b[0m: name 'pd' is not defined"
          ]
        }
      ]
    },
    {
      "cell_type": "code",
      "metadata": {
        "id": "ROBcI3gMY3wU"
      },
      "source": [
        "nomi_score = correlation_score(df_val.target, preds)\n",
        "print(nomi_score)"
      ],
      "execution_count": null,
      "outputs": []
    },
    {
      "cell_type": "code",
      "metadata": {
        "id": "j53suKozY3o4"
      },
      "source": [
        "import matplotlib.pyplot as plt\n",
        "from sklearn.preprocessing import minmax_scale\n",
        "\n",
        "def ar1(x):\n",
        "    return np.corrcoef(x[:-1], x[1:])[0,1]\n",
        "\n",
        "def autocorr_penalty(x):\n",
        "    n = len(x)\n",
        "    p = np.abs(ar1(x))\n",
        "    return np.sqrt(1 + 2*np.sum([((n - i)/n)*p**i for i in range(1,n)]))\n",
        "\n",
        "def smart_sharpe(x):\n",
        "    return (np.mean(x)/(np.std(x, ddof=1) * autocorr_penalty(x)) * np.sqrt(12))\n",
        "\n",
        "def numerai_sharpe(x):\n",
        "    return ((np.mean(x) - 0.010415154) / np.std(x)) * np.sqrt(12)\n",
        "\n",
        "def spearmanr(target, pred):\n",
        "    return np.corrcoef(\n",
        "        target,\n",
        "        pred.rank(pct=True, method=\"first\")\n",
        "    )[0, 1]\n",
        "\n",
        "\n",
        "era_col = df_val.era\n",
        "new_df = df_val.copy()\n",
        "new_df['era'] = era_col\n",
        "new_df[\"pred\"] = preds\n",
        "era_scores = pd.Series(index=new_df['era'].unique())\n",
        "print(\"getting per era scores\")\n",
        "for era in new_df['era'].unique():\n",
        "    era_df = new_df[new_df['era'] == era]\n",
        "    era_scores[era] = spearmanr(era_df['pred'], era_df['target'])\n",
        "era_scores.sort_values(inplace=True)\n",
        "era_scores.sort_index(inplace=True)\n",
        "era_scores.plot(kind=\"bar\")\n",
        "print(\"performance over time\")\n",
        "plt.show()\n",
        "\n",
        "print(\"Maximum Drawdown (Minimum Score)\")\n",
        "print(np.min(era_scores))\n",
        "print(\"Average Correlation\")\n",
        "print(np.mean(era_scores))\n",
        "print(\"Median Correlation\")\n",
        "print(np.median(era_scores))\n",
        "print(\"Variance\")\n",
        "print(np.var(era_scores))\n",
        "print(\"Std. Dev.\")\n",
        "print(np.std(era_scores))\n",
        "print(\"Autocorrelation\")\n",
        "print(ar1(era_scores))\n",
        "print(\"Sharpe\")\n",
        "print(np.mean(era_scores)/np.std(era_scores) * np.sqrt(12))\n",
        "print(\"Smart Sharpe\")\n",
        "print(smart_sharpe(era_scores))\n",
        "print(\"Numerai Sharpe\")\n",
        "print(numerai_sharpe(era_scores))\n",
        "import scipy\n",
        "from scipy.stats import skew, kurtosis, sem, gmean\n",
        "\n",
        "print(\"Skewness\")\n",
        "print(skew(era_scores))\n",
        "print(\"Excess Kurtosis\")\n",
        "print(kurtosis(era_scores))\n",
        "print(\"Standard Error of the Mean\")\n",
        "print(sem(era_scores))\n",
        "\n",
        "\n",
        "def annual_sharpe(x):\n",
        "    return ((np.mean(x) -0.010415154) /np.std(x)) * np.sqrt(12)\n",
        "\n",
        "print(\"Annualized Sharpe\")\n",
        "print(annual_sharpe(era_scores))\n",
        "def adj_sharpe(x):\n",
        "    return annual_sharpe(x) * (1 + ((skew(x) / 6) * annual_sharpe(x)) - (kurtosis(x) / 24) * (annual_sharpe(x) ** 2))\n",
        "print(\"Adjusted Sharpe\")\n",
        "print(adj_sharpe(era_scores))\n",
        "\n",
        "def VaR(x):\n",
        "    return -np.mean(x) - np.sqrt(np.var(x)) * np.percentile(x, 10)\n",
        "print(\"Value at Risk (VaR) with 10% probability of occurring\")\n",
        "print(VaR(era_scores))\n",
        "def smart_sortino_ratio(x, target=0.010415154):\n",
        "    xt = x - target\n",
        "    return np.mean(xt)/(((np.sum(np.minimum(0, xt)**2)/(len(xt)-1))**.5)*autocorr_penalty(x))\n",
        "print(\"Smart Sortino Ratio\")\n",
        "print(smart_sortino_ratio(era_scores))\n",
        "def sortino_ratio(x, target=0.010415154):\n",
        "    xt = x - target\n",
        "    return np.mean(xt) / (np.sum(np.minimum(0, xt)**2)/(len(xt)-1))**.5\n",
        "print(\"Sortino Ratio\")\n",
        "print(sortino_ratio(era_scores))"
      ],
      "execution_count": null,
      "outputs": []
    },
    {
      "cell_type": "code",
      "metadata": {
        "id": "IKVRdxlAY68s"
      },
      "source": [
        ""
      ],
      "execution_count": null,
      "outputs": []
    },
    {
      "cell_type": "code",
      "metadata": {
        "id": "klIpDPP-Y6_3"
      },
      "source": [
        ""
      ],
      "execution_count": null,
      "outputs": []
    },
    {
      "cell_type": "code",
      "metadata": {
        "id": "dpZ782CcY7DF"
      },
      "source": [
        ""
      ],
      "execution_count": null,
      "outputs": []
    }
  ]
}