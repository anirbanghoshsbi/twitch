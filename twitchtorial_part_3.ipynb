{
  "nbformat": 4,
  "nbformat_minor": 0,
  "metadata": {
    "colab": {
      "name": "twitchtorial_part_3.ipynb",
      "provenance": [],
      "authorship_tag": "ABX9TyPe77QTnswaq7iABZ4JYsF2",
      "include_colab_link": true
    },
    "kernelspec": {
      "name": "python3",
      "display_name": "Python 3"
    }
  },
  "cells": [
    {
      "cell_type": "markdown",
      "metadata": {
        "id": "view-in-github",
        "colab_type": "text"
      },
      "source": [
        "<a href=\"https://colab.research.google.com/github/jonrtaylor/twitch/blob/master/twitchtorial_part_3.ipynb\" target=\"_parent\"><img src=\"https://colab.research.google.com/assets/colab-badge.svg\" alt=\"Open In Colab\"/></a>"
      ]
    },
    {
      "cell_type": "code",
      "metadata": {
        "id": "wTf93KFvMAeX"
      },
      "source": [
        "import pandas as pd\n",
        "import numpy as np\n",
        "\n",
        "TRAINING_DATAPATH = 'https://numerai-public-datasets.s3-us-west-2.amazonaws.com/latest_numerai_training_data.csv.xz'\n",
        "TOURNAMENT_DATAPATH = 'https://numerai-public-datasets.s3-us-west-2.amazonaws.com/latest_numerai_tournament_data.csv.xz'\n",
        "\n",
        "df_train = pd.read_csv(TRAINING_DATAPATH)\n",
        "df_tournament = pd.read_csv(TOURNAMENT_DATAPATH)"
      ],
      "execution_count": 1,
      "outputs": []
    },
    {
      "cell_type": "code",
      "metadata": {
        "id": "X8lhzXniMIKV",
        "colab": {
          "base_uri": "https://localhost:8080/"
        },
        "outputId": "6edd42a7-5b4e-42f7-f418-5c5676bae3e9"
      },
      "source": [
        "from collections import Counter\n",
        "import re\n",
        "\n",
        "# Feature columns\n",
        "features = df_train.columns[df_train.columns.str.startswith('feature')]\n",
        "\n",
        "groupCount = Counter()\n",
        "for feature in features:\n",
        "    _, group_n = feature.split('_')\n",
        "    group, n = re.split(r'\\d+', group_n)\n",
        "    groupCount[group] += 1\n",
        "groupCount"
      ],
      "execution_count": 2,
      "outputs": [
        {
          "output_type": "execute_result",
          "data": {
            "text/plain": [
              "Counter({'charisma': 86,\n",
              "         'constitution': 114,\n",
              "         'dexterity': 14,\n",
              "         'intelligence': 12,\n",
              "         'strength': 38,\n",
              "         'wisdom': 46})"
            ]
          },
          "metadata": {
            "tags": []
          },
          "execution_count": 2
        }
      ]
    },
    {
      "cell_type": "code",
      "metadata": {
        "id": "otqzoj9WMVcG",
        "colab": {
          "base_uri": "https://localhost:8080/",
          "height": 656
        },
        "outputId": "b4b85fee-ab9d-4a3b-a238-cd665d3f7c63"
      },
      "source": [
        "import matplotlib.pyplot as plt\n",
        "import seaborn as sns\n",
        "plt.style.use('seaborn')\n",
        "eraCount = Counter()\n",
        "for era in df_train['era']:\n",
        "    eraCount[era] += 1\n",
        "eraCount = pd.DataFrame.from_dict(eraCount, orient='index', columns=['Observations'])\n",
        "eraCount.plot(legend=None)\n",
        "plt.xlabel('Era')\n",
        "plt.ylabel('Observations')\n",
        "plt.title('Observations by Era')\n",
        "eraCount.describe()"
      ],
      "execution_count": 3,
      "outputs": [
        {
          "output_type": "execute_result",
          "data": {
            "text/html": [
              "<div>\n",
              "<style scoped>\n",
              "    .dataframe tbody tr th:only-of-type {\n",
              "        vertical-align: middle;\n",
              "    }\n",
              "\n",
              "    .dataframe tbody tr th {\n",
              "        vertical-align: top;\n",
              "    }\n",
              "\n",
              "    .dataframe thead th {\n",
              "        text-align: right;\n",
              "    }\n",
              "</style>\n",
              "<table border=\"1\" class=\"dataframe\">\n",
              "  <thead>\n",
              "    <tr style=\"text-align: right;\">\n",
              "      <th></th>\n",
              "      <th>Observations</th>\n",
              "    </tr>\n",
              "  </thead>\n",
              "  <tbody>\n",
              "    <tr>\n",
              "      <th>count</th>\n",
              "      <td>120.000000</td>\n",
              "    </tr>\n",
              "    <tr>\n",
              "      <th>mean</th>\n",
              "      <td>4181.733333</td>\n",
              "    </tr>\n",
              "    <tr>\n",
              "      <th>std</th>\n",
              "      <td>583.884482</td>\n",
              "    </tr>\n",
              "    <tr>\n",
              "      <th>min</th>\n",
              "      <td>2371.000000</td>\n",
              "    </tr>\n",
              "    <tr>\n",
              "      <th>25%</th>\n",
              "      <td>3929.250000</td>\n",
              "    </tr>\n",
              "    <tr>\n",
              "      <th>50%</th>\n",
              "      <td>4388.500000</td>\n",
              "    </tr>\n",
              "    <tr>\n",
              "      <th>75%</th>\n",
              "      <td>4582.750000</td>\n",
              "    </tr>\n",
              "    <tr>\n",
              "      <th>max</th>\n",
              "      <td>4893.000000</td>\n",
              "    </tr>\n",
              "  </tbody>\n",
              "</table>\n",
              "</div>"
            ],
            "text/plain": [
              "       Observations\n",
              "count    120.000000\n",
              "mean    4181.733333\n",
              "std      583.884482\n",
              "min     2371.000000\n",
              "25%     3929.250000\n",
              "50%     4388.500000\n",
              "75%     4582.750000\n",
              "max     4893.000000"
            ]
          },
          "metadata": {
            "tags": []
          },
          "execution_count": 3
        },
        {
          "output_type": "display_data",
          "data": {
            "image/png": "[encoded data removed]",
            "text/plain": [
              "<Figure size 576x396 with 1 Axes>"
            ]
          },
          "metadata": {
            "tags": []
          }
        }
      ]
    },
    {
      "cell_type": "code",
      "metadata": {
        "id": "v2G5nHwvNMW5",
        "colab": {
          "base_uri": "https://localhost:8080/",
          "height": 346
        },
        "outputId": "3d1bc8f1-45e0-472b-e067-85ef4e03f40e"
      },
      "source": [
        "df_train[features].describe()"
      ],
      "execution_count": 4,
      "outputs": [
        {
          "output_type": "execute_result",
          "data": {
            "text/html": [
              "<div>\n",
              "<style scoped>\n",
              "    .dataframe tbody tr th:only-of-type {\n",
              "        vertical-align: middle;\n",
              "    }\n",
              "\n",
              "    .dataframe tbody tr th {\n",
              "        vertical-align: top;\n",
              "    }\n",
              "\n",
              "    .dataframe thead th {\n",
              "        text-align: right;\n",
              "    }\n",
              "</style>\n",
              "<table border=\"1\" class=\"dataframe\">\n",
              "  <thead>\n",
              "    <tr style=\"text-align: right;\">\n",
              "      <th></th>\n",
              "      <th>feature_intelligence1</th>\n",
              "      <th>feature_intelligence2</th>\n",
              "      <th>feature_intelligence3</th>\n",
              "      <th>feature_intelligence4</th>\n",
              "      <th>feature_intelligence5</th>\n",
              "      <th>feature_intelligence6</th>\n",
              "      <th>feature_intelligence7</th>\n",
              "      <th>feature_intelligence8</th>\n",
              "      <th>feature_intelligence9</th>\n",
              "      <th>feature_intelligence10</th>\n",
              "      <th>feature_intelligence11</th>\n",
              "      <th>feature_intelligence12</th>\n",
              "      <th>feature_charisma1</th>\n",
              "      <th>feature_charisma2</th>\n",
              "      <th>feature_charisma3</th>\n",
              "      <th>feature_charisma4</th>\n",
              "      <th>feature_charisma5</th>\n",
              "      <th>feature_charisma6</th>\n",
              "      <th>feature_charisma7</th>\n",
              "      <th>feature_charisma8</th>\n",
              "      <th>feature_charisma9</th>\n",
              "      <th>feature_charisma10</th>\n",
              "      <th>feature_charisma11</th>\n",
              "      <th>feature_charisma12</th>\n",
              "      <th>feature_charisma13</th>\n",
              "      <th>feature_charisma14</th>\n",
              "      <th>feature_charisma15</th>\n",
              "      <th>feature_charisma16</th>\n",
              "      <th>feature_charisma17</th>\n",
              "      <th>feature_charisma18</th>\n",
              "      <th>feature_charisma19</th>\n",
              "      <th>feature_charisma20</th>\n",
              "      <th>feature_charisma21</th>\n",
              "      <th>feature_charisma22</th>\n",
              "      <th>feature_charisma23</th>\n",
              "      <th>feature_charisma24</th>\n",
              "      <th>feature_charisma25</th>\n",
              "      <th>feature_charisma26</th>\n",
              "      <th>feature_charisma27</th>\n",
              "      <th>feature_charisma28</th>\n",
              "      <th>...</th>\n",
              "      <th>feature_wisdom7</th>\n",
              "      <th>feature_wisdom8</th>\n",
              "      <th>feature_wisdom9</th>\n",
              "      <th>feature_wisdom10</th>\n",
              "      <th>feature_wisdom11</th>\n",
              "      <th>feature_wisdom12</th>\n",
              "      <th>feature_wisdom13</th>\n",
              "      <th>feature_wisdom14</th>\n",
              "      <th>feature_wisdom15</th>\n",
              "      <th>feature_wisdom16</th>\n",
              "      <th>feature_wisdom17</th>\n",
              "      <th>feature_wisdom18</th>\n",
              "      <th>feature_wisdom19</th>\n",
              "      <th>feature_wisdom20</th>\n",
              "      <th>feature_wisdom21</th>\n",
              "      <th>feature_wisdom22</th>\n",
              "      <th>feature_wisdom23</th>\n",
              "      <th>feature_wisdom24</th>\n",
              "      <th>feature_wisdom25</th>\n",
              "      <th>feature_wisdom26</th>\n",
              "      <th>feature_wisdom27</th>\n",
              "      <th>feature_wisdom28</th>\n",
              "      <th>feature_wisdom29</th>\n",
              "      <th>feature_wisdom30</th>\n",
              "      <th>feature_wisdom31</th>\n",
              "      <th>feature_wisdom32</th>\n",
              "      <th>feature_wisdom33</th>\n",
              "      <th>feature_wisdom34</th>\n",
              "      <th>feature_wisdom35</th>\n",
              "      <th>feature_wisdom36</th>\n",
              "      <th>feature_wisdom37</th>\n",
              "      <th>feature_wisdom38</th>\n",
              "      <th>feature_wisdom39</th>\n",
              "      <th>feature_wisdom40</th>\n",
              "      <th>feature_wisdom41</th>\n",
              "      <th>feature_wisdom42</th>\n",
              "      <th>feature_wisdom43</th>\n",
              "      <th>feature_wisdom44</th>\n",
              "      <th>feature_wisdom45</th>\n",
              "      <th>feature_wisdom46</th>\n",
              "    </tr>\n",
              "  </thead>\n",
              "  <tbody>\n",
              "    <tr>\n",
              "      <th>count</th>\n",
              "      <td>501808.000000</td>\n",
              "      <td>501808.000000</td>\n",
              "      <td>501808.000000</td>\n",
              "      <td>501808.000000</td>\n",
              "      <td>501808.000000</td>\n",
              "      <td>501808.000000</td>\n",
              "      <td>501808.000000</td>\n",
              "      <td>501808.000000</td>\n",
              "      <td>501808.000000</td>\n",
              "      <td>501808.000000</td>\n",
              "      <td>501808.000000</td>\n",
              "      <td>501808.000000</td>\n",
              "      <td>501808.000000</td>\n",
              "      <td>501808.000000</td>\n",
              "      <td>501808.000000</td>\n",
              "      <td>501808.000000</td>\n",
              "      <td>501808.000000</td>\n",
              "      <td>501808.000000</td>\n",
              "      <td>501808.000000</td>\n",
              "      <td>501808.000000</td>\n",
              "      <td>501808.000000</td>\n",
              "      <td>501808.000000</td>\n",
              "      <td>501808.000000</td>\n",
              "      <td>501808.000000</td>\n",
              "      <td>501808.000000</td>\n",
              "      <td>501808.000000</td>\n",
              "      <td>501808.000000</td>\n",
              "      <td>501808.000000</td>\n",
              "      <td>501808.000000</td>\n",
              "      <td>501808.000000</td>\n",
              "      <td>501808.000000</td>\n",
              "      <td>501808.000000</td>\n",
              "      <td>501808.000000</td>\n",
              "      <td>501808.000000</td>\n",
              "      <td>501808.000000</td>\n",
              "      <td>501808.000000</td>\n",
              "      <td>501808.000000</td>\n",
              "      <td>501808.000000</td>\n",
              "      <td>501808.000000</td>\n",
              "      <td>501808.000000</td>\n",
              "      <td>...</td>\n",
              "      <td>501808.000000</td>\n",
              "      <td>501808.000000</td>\n",
              "      <td>501808.000000</td>\n",
              "      <td>501808.000000</td>\n",
              "      <td>501808.000000</td>\n",
              "      <td>501808.000000</td>\n",
              "      <td>501808.000000</td>\n",
              "      <td>501808.000000</td>\n",
              "      <td>501808.000000</td>\n",
              "      <td>501808.000000</td>\n",
              "      <td>501808.000000</td>\n",
              "      <td>501808.000000</td>\n",
              "      <td>501808.000000</td>\n",
              "      <td>501808.000000</td>\n",
              "      <td>501808.000000</td>\n",
              "      <td>501808.000000</td>\n",
              "      <td>501808.000000</td>\n",
              "      <td>501808.000000</td>\n",
              "      <td>501808.000000</td>\n",
              "      <td>501808.000000</td>\n",
              "      <td>501808.000000</td>\n",
              "      <td>501808.000000</td>\n",
              "      <td>501808.000000</td>\n",
              "      <td>501808.000000</td>\n",
              "      <td>501808.000000</td>\n",
              "      <td>501808.000000</td>\n",
              "      <td>501808.000000</td>\n",
              "      <td>501808.000000</td>\n",
              "      <td>501808.000000</td>\n",
              "      <td>501808.000000</td>\n",
              "      <td>501808.000000</td>\n",
              "      <td>501808.000000</td>\n",
              "      <td>501808.000000</td>\n",
              "      <td>501808.000000</td>\n",
              "      <td>501808.000000</td>\n",
              "      <td>501808.000000</td>\n",
              "      <td>501808.000000</td>\n",
              "      <td>501808.000000</td>\n",
              "      <td>501808.000000</td>\n",
              "      <td>501808.000000</td>\n",
              "    </tr>\n",
              "    <tr>\n",
              "      <th>mean</th>\n",
              "      <td>0.499981</td>\n",
              "      <td>0.499979</td>\n",
              "      <td>0.499979</td>\n",
              "      <td>0.499981</td>\n",
              "      <td>0.499977</td>\n",
              "      <td>0.499977</td>\n",
              "      <td>0.499977</td>\n",
              "      <td>0.499981</td>\n",
              "      <td>0.499980</td>\n",
              "      <td>0.499980</td>\n",
              "      <td>0.499981</td>\n",
              "      <td>0.499977</td>\n",
              "      <td>0.499968</td>\n",
              "      <td>0.499976</td>\n",
              "      <td>0.499974</td>\n",
              "      <td>0.499977</td>\n",
              "      <td>0.499976</td>\n",
              "      <td>0.499971</td>\n",
              "      <td>0.499974</td>\n",
              "      <td>0.499974</td>\n",
              "      <td>0.499986</td>\n",
              "      <td>0.499977</td>\n",
              "      <td>0.499979</td>\n",
              "      <td>0.499980</td>\n",
              "      <td>0.499977</td>\n",
              "      <td>0.499972</td>\n",
              "      <td>0.499974</td>\n",
              "      <td>0.499977</td>\n",
              "      <td>0.499977</td>\n",
              "      <td>0.499974</td>\n",
              "      <td>0.499968</td>\n",
              "      <td>0.499981</td>\n",
              "      <td>0.499983</td>\n",
              "      <td>0.499979</td>\n",
              "      <td>0.499977</td>\n",
              "      <td>0.499976</td>\n",
              "      <td>0.499982</td>\n",
              "      <td>0.499981</td>\n",
              "      <td>0.499976</td>\n",
              "      <td>0.499976</td>\n",
              "      <td>...</td>\n",
              "      <td>0.499975</td>\n",
              "      <td>0.499982</td>\n",
              "      <td>0.499973</td>\n",
              "      <td>0.499969</td>\n",
              "      <td>0.499976</td>\n",
              "      <td>0.499971</td>\n",
              "      <td>0.499978</td>\n",
              "      <td>0.499981</td>\n",
              "      <td>0.499979</td>\n",
              "      <td>0.499979</td>\n",
              "      <td>0.499981</td>\n",
              "      <td>0.499969</td>\n",
              "      <td>0.499969</td>\n",
              "      <td>0.499981</td>\n",
              "      <td>0.499974</td>\n",
              "      <td>0.499973</td>\n",
              "      <td>0.499976</td>\n",
              "      <td>0.499974</td>\n",
              "      <td>0.499969</td>\n",
              "      <td>0.499982</td>\n",
              "      <td>0.499979</td>\n",
              "      <td>0.499974</td>\n",
              "      <td>0.499981</td>\n",
              "      <td>0.499979</td>\n",
              "      <td>0.499979</td>\n",
              "      <td>0.499976</td>\n",
              "      <td>0.499974</td>\n",
              "      <td>0.499978</td>\n",
              "      <td>0.499981</td>\n",
              "      <td>0.499982</td>\n",
              "      <td>0.499979</td>\n",
              "      <td>0.499982</td>\n",
              "      <td>0.499982</td>\n",
              "      <td>0.499974</td>\n",
              "      <td>0.499980</td>\n",
              "      <td>0.499982</td>\n",
              "      <td>0.499980</td>\n",
              "      <td>0.499974</td>\n",
              "      <td>0.499979</td>\n",
              "      <td>0.499971</td>\n",
              "    </tr>\n",
              "    <tr>\n",
              "      <th>std</th>\n",
              "      <td>0.353596</td>\n",
              "      <td>0.353593</td>\n",
              "      <td>0.353593</td>\n",
              "      <td>0.353596</td>\n",
              "      <td>0.353587</td>\n",
              "      <td>0.353587</td>\n",
              "      <td>0.353587</td>\n",
              "      <td>0.353596</td>\n",
              "      <td>0.352099</td>\n",
              "      <td>0.352099</td>\n",
              "      <td>0.353596</td>\n",
              "      <td>0.353587</td>\n",
              "      <td>0.352986</td>\n",
              "      <td>0.334986</td>\n",
              "      <td>0.337437</td>\n",
              "      <td>0.338557</td>\n",
              "      <td>0.313514</td>\n",
              "      <td>0.353014</td>\n",
              "      <td>0.320992</td>\n",
              "      <td>0.291361</td>\n",
              "      <td>0.353473</td>\n",
              "      <td>0.348416</td>\n",
              "      <td>0.343023</td>\n",
              "      <td>0.343407</td>\n",
              "      <td>0.340066</td>\n",
              "      <td>0.336707</td>\n",
              "      <td>0.291361</td>\n",
              "      <td>0.337442</td>\n",
              "      <td>0.338557</td>\n",
              "      <td>0.353060</td>\n",
              "      <td>0.352986</td>\n",
              "      <td>0.343146</td>\n",
              "      <td>0.341998</td>\n",
              "      <td>0.288122</td>\n",
              "      <td>0.333733</td>\n",
              "      <td>0.334986</td>\n",
              "      <td>0.265371</td>\n",
              "      <td>0.339712</td>\n",
              "      <td>0.288295</td>\n",
              "      <td>0.344535</td>\n",
              "      <td>...</td>\n",
              "      <td>0.352542</td>\n",
              "      <td>0.350824</td>\n",
              "      <td>0.353485</td>\n",
              "      <td>0.349533</td>\n",
              "      <td>0.332947</td>\n",
              "      <td>0.353419</td>\n",
              "      <td>0.344672</td>\n",
              "      <td>0.353596</td>\n",
              "      <td>0.353143</td>\n",
              "      <td>0.347689</td>\n",
              "      <td>0.353596</td>\n",
              "      <td>0.351413</td>\n",
              "      <td>0.349533</td>\n",
              "      <td>0.353596</td>\n",
              "      <td>0.348778</td>\n",
              "      <td>0.353485</td>\n",
              "      <td>0.302390</td>\n",
              "      <td>0.341651</td>\n",
              "      <td>0.351413</td>\n",
              "      <td>0.350824</td>\n",
              "      <td>0.353143</td>\n",
              "      <td>0.348778</td>\n",
              "      <td>0.353596</td>\n",
              "      <td>0.347689</td>\n",
              "      <td>0.352772</td>\n",
              "      <td>0.302390</td>\n",
              "      <td>0.341651</td>\n",
              "      <td>0.344672</td>\n",
              "      <td>0.353596</td>\n",
              "      <td>0.352151</td>\n",
              "      <td>0.352772</td>\n",
              "      <td>0.353139</td>\n",
              "      <td>0.353139</td>\n",
              "      <td>0.351328</td>\n",
              "      <td>0.350662</td>\n",
              "      <td>0.352151</td>\n",
              "      <td>0.352965</td>\n",
              "      <td>0.351328</td>\n",
              "      <td>0.347689</td>\n",
              "      <td>0.353419</td>\n",
              "    </tr>\n",
              "    <tr>\n",
              "      <th>min</th>\n",
              "      <td>0.000000</td>\n",
              "      <td>0.000000</td>\n",
              "      <td>0.000000</td>\n",
              "      <td>0.000000</td>\n",
              "      <td>0.000000</td>\n",
              "      <td>0.000000</td>\n",
              "      <td>0.000000</td>\n",
              "      <td>0.000000</td>\n",
              "      <td>0.000000</td>\n",
              "      <td>0.000000</td>\n",
              "      <td>0.000000</td>\n",
              "      <td>0.000000</td>\n",
              "      <td>0.000000</td>\n",
              "      <td>0.000000</td>\n",
              "      <td>0.000000</td>\n",
              "      <td>0.000000</td>\n",
              "      <td>0.000000</td>\n",
              "      <td>0.000000</td>\n",
              "      <td>0.000000</td>\n",
              "      <td>0.000000</td>\n",
              "      <td>0.000000</td>\n",
              "      <td>0.000000</td>\n",
              "      <td>0.000000</td>\n",
              "      <td>0.000000</td>\n",
              "      <td>0.000000</td>\n",
              "      <td>0.000000</td>\n",
              "      <td>0.000000</td>\n",
              "      <td>0.000000</td>\n",
              "      <td>0.000000</td>\n",
              "      <td>0.000000</td>\n",
              "      <td>0.000000</td>\n",
              "      <td>0.000000</td>\n",
              "      <td>0.000000</td>\n",
              "      <td>0.000000</td>\n",
              "      <td>0.000000</td>\n",
              "      <td>0.000000</td>\n",
              "      <td>0.000000</td>\n",
              "      <td>0.000000</td>\n",
              "      <td>0.000000</td>\n",
              "      <td>0.000000</td>\n",
              "      <td>...</td>\n",
              "      <td>0.000000</td>\n",
              "      <td>0.000000</td>\n",
              "      <td>0.000000</td>\n",
              "      <td>0.000000</td>\n",
              "      <td>0.000000</td>\n",
              "      <td>0.000000</td>\n",
              "      <td>0.000000</td>\n",
              "      <td>0.000000</td>\n",
              "      <td>0.000000</td>\n",
              "      <td>0.000000</td>\n",
              "      <td>0.000000</td>\n",
              "      <td>0.000000</td>\n",
              "      <td>0.000000</td>\n",
              "      <td>0.000000</td>\n",
              "      <td>0.000000</td>\n",
              "      <td>0.000000</td>\n",
              "      <td>0.000000</td>\n",
              "      <td>0.000000</td>\n",
              "      <td>0.000000</td>\n",
              "      <td>0.000000</td>\n",
              "      <td>0.000000</td>\n",
              "      <td>0.000000</td>\n",
              "      <td>0.000000</td>\n",
              "      <td>0.000000</td>\n",
              "      <td>0.000000</td>\n",
              "      <td>0.000000</td>\n",
              "      <td>0.000000</td>\n",
              "      <td>0.000000</td>\n",
              "      <td>0.000000</td>\n",
              "      <td>0.000000</td>\n",
              "      <td>0.000000</td>\n",
              "      <td>0.000000</td>\n",
              "      <td>0.000000</td>\n",
              "      <td>0.000000</td>\n",
              "      <td>0.000000</td>\n",
              "      <td>0.000000</td>\n",
              "      <td>0.000000</td>\n",
              "      <td>0.000000</td>\n",
              "      <td>0.000000</td>\n",
              "      <td>0.000000</td>\n",
              "    </tr>\n",
              "    <tr>\n",
              "      <th>25%</th>\n",
              "      <td>0.250000</td>\n",
              "      <td>0.250000</td>\n",
              "      <td>0.250000</td>\n",
              "      <td>0.250000</td>\n",
              "      <td>0.250000</td>\n",
              "      <td>0.250000</td>\n",
              "      <td>0.250000</td>\n",
              "      <td>0.250000</td>\n",
              "      <td>0.250000</td>\n",
              "      <td>0.250000</td>\n",
              "      <td>0.250000</td>\n",
              "      <td>0.250000</td>\n",
              "      <td>0.250000</td>\n",
              "      <td>0.250000</td>\n",
              "      <td>0.250000</td>\n",
              "      <td>0.250000</td>\n",
              "      <td>0.250000</td>\n",
              "      <td>0.250000</td>\n",
              "      <td>0.250000</td>\n",
              "      <td>0.250000</td>\n",
              "      <td>0.250000</td>\n",
              "      <td>0.250000</td>\n",
              "      <td>0.250000</td>\n",
              "      <td>0.250000</td>\n",
              "      <td>0.250000</td>\n",
              "      <td>0.250000</td>\n",
              "      <td>0.250000</td>\n",
              "      <td>0.250000</td>\n",
              "      <td>0.250000</td>\n",
              "      <td>0.250000</td>\n",
              "      <td>0.250000</td>\n",
              "      <td>0.250000</td>\n",
              "      <td>0.250000</td>\n",
              "      <td>0.250000</td>\n",
              "      <td>0.250000</td>\n",
              "      <td>0.250000</td>\n",
              "      <td>0.500000</td>\n",
              "      <td>0.250000</td>\n",
              "      <td>0.250000</td>\n",
              "      <td>0.250000</td>\n",
              "      <td>...</td>\n",
              "      <td>0.250000</td>\n",
              "      <td>0.250000</td>\n",
              "      <td>0.250000</td>\n",
              "      <td>0.250000</td>\n",
              "      <td>0.250000</td>\n",
              "      <td>0.250000</td>\n",
              "      <td>0.250000</td>\n",
              "      <td>0.250000</td>\n",
              "      <td>0.250000</td>\n",
              "      <td>0.250000</td>\n",
              "      <td>0.250000</td>\n",
              "      <td>0.250000</td>\n",
              "      <td>0.250000</td>\n",
              "      <td>0.250000</td>\n",
              "      <td>0.250000</td>\n",
              "      <td>0.250000</td>\n",
              "      <td>0.250000</td>\n",
              "      <td>0.250000</td>\n",
              "      <td>0.250000</td>\n",
              "      <td>0.250000</td>\n",
              "      <td>0.250000</td>\n",
              "      <td>0.250000</td>\n",
              "      <td>0.250000</td>\n",
              "      <td>0.250000</td>\n",
              "      <td>0.250000</td>\n",
              "      <td>0.250000</td>\n",
              "      <td>0.250000</td>\n",
              "      <td>0.250000</td>\n",
              "      <td>0.250000</td>\n",
              "      <td>0.250000</td>\n",
              "      <td>0.250000</td>\n",
              "      <td>0.250000</td>\n",
              "      <td>0.250000</td>\n",
              "      <td>0.250000</td>\n",
              "      <td>0.250000</td>\n",
              "      <td>0.250000</td>\n",
              "      <td>0.250000</td>\n",
              "      <td>0.250000</td>\n",
              "      <td>0.250000</td>\n",
              "      <td>0.250000</td>\n",
              "    </tr>\n",
              "    <tr>\n",
              "      <th>50%</th>\n",
              "      <td>0.500000</td>\n",
              "      <td>0.500000</td>\n",
              "      <td>0.500000</td>\n",
              "      <td>0.500000</td>\n",
              "      <td>0.500000</td>\n",
              "      <td>0.500000</td>\n",
              "      <td>0.500000</td>\n",
              "      <td>0.500000</td>\n",
              "      <td>0.500000</td>\n",
              "      <td>0.500000</td>\n",
              "      <td>0.500000</td>\n",
              "      <td>0.500000</td>\n",
              "      <td>0.500000</td>\n",
              "      <td>0.500000</td>\n",
              "      <td>0.500000</td>\n",
              "      <td>0.500000</td>\n",
              "      <td>0.500000</td>\n",
              "      <td>0.500000</td>\n",
              "      <td>0.500000</td>\n",
              "      <td>0.500000</td>\n",
              "      <td>0.500000</td>\n",
              "      <td>0.500000</td>\n",
              "      <td>0.500000</td>\n",
              "      <td>0.500000</td>\n",
              "      <td>0.500000</td>\n",
              "      <td>0.500000</td>\n",
              "      <td>0.500000</td>\n",
              "      <td>0.500000</td>\n",
              "      <td>0.500000</td>\n",
              "      <td>0.500000</td>\n",
              "      <td>0.500000</td>\n",
              "      <td>0.500000</td>\n",
              "      <td>0.500000</td>\n",
              "      <td>0.500000</td>\n",
              "      <td>0.500000</td>\n",
              "      <td>0.500000</td>\n",
              "      <td>0.500000</td>\n",
              "      <td>0.500000</td>\n",
              "      <td>0.500000</td>\n",
              "      <td>0.500000</td>\n",
              "      <td>...</td>\n",
              "      <td>0.500000</td>\n",
              "      <td>0.500000</td>\n",
              "      <td>0.500000</td>\n",
              "      <td>0.500000</td>\n",
              "      <td>0.500000</td>\n",
              "      <td>0.500000</td>\n",
              "      <td>0.500000</td>\n",
              "      <td>0.500000</td>\n",
              "      <td>0.500000</td>\n",
              "      <td>0.500000</td>\n",
              "      <td>0.500000</td>\n",
              "      <td>0.500000</td>\n",
              "      <td>0.500000</td>\n",
              "      <td>0.500000</td>\n",
              "      <td>0.500000</td>\n",
              "      <td>0.500000</td>\n",
              "      <td>0.500000</td>\n",
              "      <td>0.500000</td>\n",
              "      <td>0.500000</td>\n",
              "      <td>0.500000</td>\n",
              "      <td>0.500000</td>\n",
              "      <td>0.500000</td>\n",
              "      <td>0.500000</td>\n",
              "      <td>0.500000</td>\n",
              "      <td>0.500000</td>\n",
              "      <td>0.500000</td>\n",
              "      <td>0.500000</td>\n",
              "      <td>0.500000</td>\n",
              "      <td>0.500000</td>\n",
              "      <td>0.500000</td>\n",
              "      <td>0.500000</td>\n",
              "      <td>0.500000</td>\n",
              "      <td>0.500000</td>\n",
              "      <td>0.500000</td>\n",
              "      <td>0.500000</td>\n",
              "      <td>0.500000</td>\n",
              "      <td>0.500000</td>\n",
              "      <td>0.500000</td>\n",
              "      <td>0.500000</td>\n",
              "      <td>0.500000</td>\n",
              "    </tr>\n",
              "    <tr>\n",
              "      <th>75%</th>\n",
              "      <td>0.750000</td>\n",
              "      <td>0.750000</td>\n",
              "      <td>0.750000</td>\n",
              "      <td>0.750000</td>\n",
              "      <td>0.750000</td>\n",
              "      <td>0.750000</td>\n",
              "      <td>0.750000</td>\n",
              "      <td>0.750000</td>\n",
              "      <td>0.750000</td>\n",
              "      <td>0.750000</td>\n",
              "      <td>0.750000</td>\n",
              "      <td>0.750000</td>\n",
              "      <td>0.750000</td>\n",
              "      <td>0.750000</td>\n",
              "      <td>0.750000</td>\n",
              "      <td>0.750000</td>\n",
              "      <td>0.750000</td>\n",
              "      <td>0.750000</td>\n",
              "      <td>0.750000</td>\n",
              "      <td>0.750000</td>\n",
              "      <td>0.750000</td>\n",
              "      <td>0.750000</td>\n",
              "      <td>0.750000</td>\n",
              "      <td>0.750000</td>\n",
              "      <td>0.750000</td>\n",
              "      <td>0.750000</td>\n",
              "      <td>0.750000</td>\n",
              "      <td>0.750000</td>\n",
              "      <td>0.750000</td>\n",
              "      <td>0.750000</td>\n",
              "      <td>0.750000</td>\n",
              "      <td>0.750000</td>\n",
              "      <td>0.750000</td>\n",
              "      <td>0.750000</td>\n",
              "      <td>0.750000</td>\n",
              "      <td>0.750000</td>\n",
              "      <td>0.500000</td>\n",
              "      <td>0.750000</td>\n",
              "      <td>0.750000</td>\n",
              "      <td>0.750000</td>\n",
              "      <td>...</td>\n",
              "      <td>0.750000</td>\n",
              "      <td>0.750000</td>\n",
              "      <td>0.750000</td>\n",
              "      <td>0.750000</td>\n",
              "      <td>0.750000</td>\n",
              "      <td>0.750000</td>\n",
              "      <td>0.750000</td>\n",
              "      <td>0.750000</td>\n",
              "      <td>0.750000</td>\n",
              "      <td>0.750000</td>\n",
              "      <td>0.750000</td>\n",
              "      <td>0.750000</td>\n",
              "      <td>0.750000</td>\n",
              "      <td>0.750000</td>\n",
              "      <td>0.750000</td>\n",
              "      <td>0.750000</td>\n",
              "      <td>0.750000</td>\n",
              "      <td>0.750000</td>\n",
              "      <td>0.750000</td>\n",
              "      <td>0.750000</td>\n",
              "      <td>0.750000</td>\n",
              "      <td>0.750000</td>\n",
              "      <td>0.750000</td>\n",
              "      <td>0.750000</td>\n",
              "      <td>0.750000</td>\n",
              "      <td>0.750000</td>\n",
              "      <td>0.750000</td>\n",
              "      <td>0.750000</td>\n",
              "      <td>0.750000</td>\n",
              "      <td>0.750000</td>\n",
              "      <td>0.750000</td>\n",
              "      <td>0.750000</td>\n",
              "      <td>0.750000</td>\n",
              "      <td>0.750000</td>\n",
              "      <td>0.750000</td>\n",
              "      <td>0.750000</td>\n",
              "      <td>0.750000</td>\n",
              "      <td>0.750000</td>\n",
              "      <td>0.750000</td>\n",
              "      <td>0.750000</td>\n",
              "    </tr>\n",
              "    <tr>\n",
              "      <th>max</th>\n",
              "      <td>1.000000</td>\n",
              "      <td>1.000000</td>\n",
              "      <td>1.000000</td>\n",
              "      <td>1.000000</td>\n",
              "      <td>1.000000</td>\n",
              "      <td>1.000000</td>\n",
              "      <td>1.000000</td>\n",
              "      <td>1.000000</td>\n",
              "      <td>1.000000</td>\n",
              "      <td>1.000000</td>\n",
              "      <td>1.000000</td>\n",
              "      <td>1.000000</td>\n",
              "      <td>1.000000</td>\n",
              "      <td>1.000000</td>\n",
              "      <td>1.000000</td>\n",
              "      <td>1.000000</td>\n",
              "      <td>1.000000</td>\n",
              "      <td>1.000000</td>\n",
              "      <td>1.000000</td>\n",
              "      <td>1.000000</td>\n",
              "      <td>1.000000</td>\n",
              "      <td>1.000000</td>\n",
              "      <td>1.000000</td>\n",
              "      <td>1.000000</td>\n",
              "      <td>1.000000</td>\n",
              "      <td>1.000000</td>\n",
              "      <td>1.000000</td>\n",
              "      <td>1.000000</td>\n",
              "      <td>1.000000</td>\n",
              "      <td>1.000000</td>\n",
              "      <td>1.000000</td>\n",
              "      <td>1.000000</td>\n",
              "      <td>1.000000</td>\n",
              "      <td>1.000000</td>\n",
              "      <td>1.000000</td>\n",
              "      <td>1.000000</td>\n",
              "      <td>1.000000</td>\n",
              "      <td>1.000000</td>\n",
              "      <td>1.000000</td>\n",
              "      <td>1.000000</td>\n",
              "      <td>...</td>\n",
              "      <td>1.000000</td>\n",
              "      <td>1.000000</td>\n",
              "      <td>1.000000</td>\n",
              "      <td>1.000000</td>\n",
              "      <td>1.000000</td>\n",
              "      <td>1.000000</td>\n",
              "      <td>1.000000</td>\n",
              "      <td>1.000000</td>\n",
              "      <td>1.000000</td>\n",
              "      <td>1.000000</td>\n",
              "      <td>1.000000</td>\n",
              "      <td>1.000000</td>\n",
              "      <td>1.000000</td>\n",
              "      <td>1.000000</td>\n",
              "      <td>1.000000</td>\n",
              "      <td>1.000000</td>\n",
              "      <td>1.000000</td>\n",
              "      <td>1.000000</td>\n",
              "      <td>1.000000</td>\n",
              "      <td>1.000000</td>\n",
              "      <td>1.000000</td>\n",
              "      <td>1.000000</td>\n",
              "      <td>1.000000</td>\n",
              "      <td>1.000000</td>\n",
              "      <td>1.000000</td>\n",
              "      <td>1.000000</td>\n",
              "      <td>1.000000</td>\n",
              "      <td>1.000000</td>\n",
              "      <td>1.000000</td>\n",
              "      <td>1.000000</td>\n",
              "      <td>1.000000</td>\n",
              "      <td>1.000000</td>\n",
              "      <td>1.000000</td>\n",
              "      <td>1.000000</td>\n",
              "      <td>1.000000</td>\n",
              "      <td>1.000000</td>\n",
              "      <td>1.000000</td>\n",
              "      <td>1.000000</td>\n",
              "      <td>1.000000</td>\n",
              "      <td>1.000000</td>\n",
              "    </tr>\n",
              "  </tbody>\n",
              "</table>\n",
              "<p>8 rows × 310 columns</p>\n",
              "</div>"
            ],
            "text/plain": [
              "       feature_intelligence1  ...  feature_wisdom46\n",
              "count          501808.000000  ...     501808.000000\n",
              "mean                0.499981  ...          0.499971\n",
              "std                 0.353596  ...          0.353419\n",
              "min                 0.000000  ...          0.000000\n",
              "25%                 0.250000  ...          0.250000\n",
              "50%                 0.500000  ...          0.500000\n",
              "75%                 0.750000  ...          0.750000\n",
              "max                 1.000000  ...          1.000000\n",
              "\n",
              "[8 rows x 310 columns]"
            ]
          },
          "metadata": {
            "tags": []
          },
          "execution_count": 4
        }
      ]
    },
    {
      "cell_type": "code",
      "metadata": {
        "id": "0DSMYyV5NPqQ",
        "colab": {
          "base_uri": "https://localhost:8080/",
          "height": 297
        },
        "outputId": "3cbd7d19-6e41-4d9e-e79c-b3c7bcc5e31c"
      },
      "source": [
        "# Target column\n",
        "target = df_train.columns[df_train.columns.str.startswith('target')]\n",
        "\n",
        "df_train[target].describe()"
      ],
      "execution_count": 5,
      "outputs": [
        {
          "output_type": "execute_result",
          "data": {
            "text/html": [
              "<div>\n",
              "<style scoped>\n",
              "    .dataframe tbody tr th:only-of-type {\n",
              "        vertical-align: middle;\n",
              "    }\n",
              "\n",
              "    .dataframe tbody tr th {\n",
              "        vertical-align: top;\n",
              "    }\n",
              "\n",
              "    .dataframe thead th {\n",
              "        text-align: right;\n",
              "    }\n",
              "</style>\n",
              "<table border=\"1\" class=\"dataframe\">\n",
              "  <thead>\n",
              "    <tr style=\"text-align: right;\">\n",
              "      <th></th>\n",
              "      <th>target</th>\n",
              "    </tr>\n",
              "  </thead>\n",
              "  <tbody>\n",
              "    <tr>\n",
              "      <th>count</th>\n",
              "      <td>501808.000000</td>\n",
              "    </tr>\n",
              "    <tr>\n",
              "      <th>mean</th>\n",
              "      <td>0.499997</td>\n",
              "    </tr>\n",
              "    <tr>\n",
              "      <th>std</th>\n",
              "      <td>0.223268</td>\n",
              "    </tr>\n",
              "    <tr>\n",
              "      <th>min</th>\n",
              "      <td>0.000000</td>\n",
              "    </tr>\n",
              "    <tr>\n",
              "      <th>25%</th>\n",
              "      <td>0.500000</td>\n",
              "    </tr>\n",
              "    <tr>\n",
              "      <th>50%</th>\n",
              "      <td>0.500000</td>\n",
              "    </tr>\n",
              "    <tr>\n",
              "      <th>75%</th>\n",
              "      <td>0.500000</td>\n",
              "    </tr>\n",
              "    <tr>\n",
              "      <th>max</th>\n",
              "      <td>1.000000</td>\n",
              "    </tr>\n",
              "  </tbody>\n",
              "</table>\n",
              "</div>"
            ],
            "text/plain": [
              "              target\n",
              "count  501808.000000\n",
              "mean        0.499997\n",
              "std         0.223268\n",
              "min         0.000000\n",
              "25%         0.500000\n",
              "50%         0.500000\n",
              "75%         0.500000\n",
              "max         1.000000"
            ]
          },
          "metadata": {
            "tags": []
          },
          "execution_count": 5
        }
      ]
    },
    {
      "cell_type": "code",
      "metadata": {
        "id": "4J1uwKJKNTvi",
        "colab": {
          "base_uri": "https://localhost:8080/",
          "height": 204
        },
        "outputId": "3cacfb0c-de2b-47f7-b95c-a3afd6605356"
      },
      "source": [
        "# Number of observations per target value\n",
        "df_train[target].apply(lambda x: x.value_counts())"
      ],
      "execution_count": 6,
      "outputs": [
        {
          "output_type": "execute_result",
          "data": {
            "text/html": [
              "<div>\n",
              "<style scoped>\n",
              "    .dataframe tbody tr th:only-of-type {\n",
              "        vertical-align: middle;\n",
              "    }\n",
              "\n",
              "    .dataframe tbody tr th {\n",
              "        vertical-align: top;\n",
              "    }\n",
              "\n",
              "    .dataframe thead th {\n",
              "        text-align: right;\n",
              "    }\n",
              "</style>\n",
              "<table border=\"1\" class=\"dataframe\">\n",
              "  <thead>\n",
              "    <tr style=\"text-align: right;\">\n",
              "      <th></th>\n",
              "      <th>target</th>\n",
              "    </tr>\n",
              "  </thead>\n",
              "  <tbody>\n",
              "    <tr>\n",
              "      <th>0.50</th>\n",
              "      <td>251677</td>\n",
              "    </tr>\n",
              "    <tr>\n",
              "      <th>0.25</th>\n",
              "      <td>100053</td>\n",
              "    </tr>\n",
              "    <tr>\n",
              "      <th>0.75</th>\n",
              "      <td>100045</td>\n",
              "    </tr>\n",
              "    <tr>\n",
              "      <th>1.00</th>\n",
              "      <td>25017</td>\n",
              "    </tr>\n",
              "    <tr>\n",
              "      <th>0.00</th>\n",
              "      <td>25016</td>\n",
              "    </tr>\n",
              "  </tbody>\n",
              "</table>\n",
              "</div>"
            ],
            "text/plain": [
              "      target\n",
              "0.50  251677\n",
              "0.25  100053\n",
              "0.75  100045\n",
              "1.00   25017\n",
              "0.00   25016"
            ]
          },
          "metadata": {
            "tags": []
          },
          "execution_count": 6
        }
      ]
    },
    {
      "cell_type": "code",
      "metadata": {
        "id": "WJjf3Hc4NWDo",
        "colab": {
          "base_uri": "https://localhost:8080/",
          "height": 430
        },
        "outputId": "ba247bcc-4a72-4e07-a24c-89248be21cb5"
      },
      "source": [
        "# Distribution of target values\n",
        "sns.distplot(df_train[target], hist=True, kde=True, bins=15)\n",
        "plt.xlabel('Target Value')\n",
        "plt.ylabel('Density')\n",
        "plt.title('Distribution of Targets')\n",
        "plt.show()"
      ],
      "execution_count": 7,
      "outputs": [
        {
          "output_type": "stream",
          "text": [
            "/usr/local/lib/python3.6/dist-packages/seaborn/distributions.py:2551: FutureWarning: `distplot` is a deprecated function and will be removed in a future version. Please adapt your code to use either `displot` (a figure-level function with similar flexibility) or `histplot` (an axes-level function for histograms).\n",
            "  warnings.warn(msg, FutureWarning)\n"
          ],
          "name": "stderr"
        },
        {
          "output_type": "display_data",
          "data": {
            "image/png": "[encoded data removed]",
            "text/plain": [
              "<Figure size 576x396 with 1 Axes>"
            ]
          },
          "metadata": {
            "tags": []
          }
        }
      ]
    },
    {
      "cell_type": "code",
      "metadata": {
        "id": "Kq7BUps8NWF4"
      },
      "source": [
        "df_train[features] = df_train[features].astype(np.float16)\n",
        "df_train[target] = df_train[target].astype(np.float16)"
      ],
      "execution_count": 8,
      "outputs": []
    },
    {
      "cell_type": "code",
      "metadata": {
        "id": "FwX16rieNWIt",
        "colab": {
          "base_uri": "https://localhost:8080/"
        },
        "outputId": "4dc25e27-9693-4f99-afd5-243b265f81bb"
      },
      "source": [
        "df_train.info()"
      ],
      "execution_count": 9,
      "outputs": [
        {
          "output_type": "stream",
          "text": [
            "<class 'pandas.core.frame.DataFrame'>\n",
            "RangeIndex: 501808 entries, 0 to 501807\n",
            "Columns: 314 entries, id to target\n",
            "dtypes: float16(311), object(3)\n",
            "memory usage: 309.2+ MB\n"
          ],
          "name": "stdout"
        }
      ]
    },
    {
      "cell_type": "code",
      "metadata": {
        "id": "C7jEPgWJNWLR",
        "colab": {
          "base_uri": "https://localhost:8080/"
        },
        "outputId": "c6a08cb1-cb2f-456e-a6dd-7e492b69b806"
      },
      "source": [
        "df_tournament.info()\n",
        "\n",
        "# Counts of different data types\n",
        "df_tournament['data_type'].value_counts()"
      ],
      "execution_count": 10,
      "outputs": [
        {
          "output_type": "stream",
          "text": [
            "<class 'pandas.core.frame.DataFrame'>\n",
            "RangeIndex: 1581162 entries, 0 to 1581161\n",
            "Columns: 314 entries, id to target\n",
            "dtypes: float64(311), object(3)\n",
            "memory usage: 3.7+ GB\n"
          ],
          "name": "stdout"
        },
        {
          "output_type": "execute_result",
          "data": {
            "text/plain": [
              "test          1438254\n",
              "validation     137779\n",
              "live             5129\n",
              "Name: data_type, dtype: int64"
            ]
          },
          "metadata": {
            "tags": []
          },
          "execution_count": 10
        }
      ]
    },
    {
      "cell_type": "code",
      "metadata": {
        "id": "zPlpHMx1KrPY"
      },
      "source": [
        "df_tournament[features] = df_tournament[features].astype(np.float16)"
      ],
      "execution_count": 11,
      "outputs": []
    },
    {
      "cell_type": "code",
      "metadata": {
        "id": "DrwORuxPMYM3",
        "colab": {
          "base_uri": "https://localhost:8080/"
        },
        "outputId": "965eee94-ee84-4536-85e5-9e3e9b1fa5b0"
      },
      "source": [
        "df_tournament.info()"
      ],
      "execution_count": 12,
      "outputs": [
        {
          "output_type": "stream",
          "text": [
            "<class 'pandas.core.frame.DataFrame'>\n",
            "RangeIndex: 1581162 entries, 0 to 1581161\n",
            "Columns: 314 entries, id to target\n",
            "dtypes: float16(310), float64(1), object(3)\n",
            "memory usage: 983.2+ MB\n"
          ],
          "name": "stdout"
        }
      ]
    },
    {
      "cell_type": "code",
      "metadata": {
        "id": "G7EUXBtrNWNt",
        "colab": {
          "base_uri": "https://localhost:8080/",
          "height": 253
        },
        "outputId": "c855a950-490e-4e6a-f33a-66a2cbe7eb82"
      },
      "source": [
        "df_tournament.head()"
      ],
      "execution_count": 13,
      "outputs": [
        {
          "output_type": "execute_result",
          "data": {
            "text/html": [
              "<div>\n",
              "<style scoped>\n",
              "    .dataframe tbody tr th:only-of-type {\n",
              "        vertical-align: middle;\n",
              "    }\n",
              "\n",
              "    .dataframe tbody tr th {\n",
              "        vertical-align: top;\n",
              "    }\n",
              "\n",
              "    .dataframe thead th {\n",
              "        text-align: right;\n",
              "    }\n",
              "</style>\n",
              "<table border=\"1\" class=\"dataframe\">\n",
              "  <thead>\n",
              "    <tr style=\"text-align: right;\">\n",
              "      <th></th>\n",
              "      <th>id</th>\n",
              "      <th>era</th>\n",
              "      <th>data_type</th>\n",
              "      <th>feature_intelligence1</th>\n",
              "      <th>feature_intelligence2</th>\n",
              "      <th>feature_intelligence3</th>\n",
              "      <th>feature_intelligence4</th>\n",
              "      <th>feature_intelligence5</th>\n",
              "      <th>feature_intelligence6</th>\n",
              "      <th>feature_intelligence7</th>\n",
              "      <th>feature_intelligence8</th>\n",
              "      <th>feature_intelligence9</th>\n",
              "      <th>feature_intelligence10</th>\n",
              "      <th>feature_intelligence11</th>\n",
              "      <th>feature_intelligence12</th>\n",
              "      <th>feature_charisma1</th>\n",
              "      <th>feature_charisma2</th>\n",
              "      <th>feature_charisma3</th>\n",
              "      <th>feature_charisma4</th>\n",
              "      <th>feature_charisma5</th>\n",
              "      <th>feature_charisma6</th>\n",
              "      <th>feature_charisma7</th>\n",
              "      <th>feature_charisma8</th>\n",
              "      <th>feature_charisma9</th>\n",
              "      <th>feature_charisma10</th>\n",
              "      <th>feature_charisma11</th>\n",
              "      <th>feature_charisma12</th>\n",
              "      <th>feature_charisma13</th>\n",
              "      <th>feature_charisma14</th>\n",
              "      <th>feature_charisma15</th>\n",
              "      <th>feature_charisma16</th>\n",
              "      <th>feature_charisma17</th>\n",
              "      <th>feature_charisma18</th>\n",
              "      <th>feature_charisma19</th>\n",
              "      <th>feature_charisma20</th>\n",
              "      <th>feature_charisma21</th>\n",
              "      <th>feature_charisma22</th>\n",
              "      <th>feature_charisma23</th>\n",
              "      <th>feature_charisma24</th>\n",
              "      <th>feature_charisma25</th>\n",
              "      <th>...</th>\n",
              "      <th>feature_wisdom8</th>\n",
              "      <th>feature_wisdom9</th>\n",
              "      <th>feature_wisdom10</th>\n",
              "      <th>feature_wisdom11</th>\n",
              "      <th>feature_wisdom12</th>\n",
              "      <th>feature_wisdom13</th>\n",
              "      <th>feature_wisdom14</th>\n",
              "      <th>feature_wisdom15</th>\n",
              "      <th>feature_wisdom16</th>\n",
              "      <th>feature_wisdom17</th>\n",
              "      <th>feature_wisdom18</th>\n",
              "      <th>feature_wisdom19</th>\n",
              "      <th>feature_wisdom20</th>\n",
              "      <th>feature_wisdom21</th>\n",
              "      <th>feature_wisdom22</th>\n",
              "      <th>feature_wisdom23</th>\n",
              "      <th>feature_wisdom24</th>\n",
              "      <th>feature_wisdom25</th>\n",
              "      <th>feature_wisdom26</th>\n",
              "      <th>feature_wisdom27</th>\n",
              "      <th>feature_wisdom28</th>\n",
              "      <th>feature_wisdom29</th>\n",
              "      <th>feature_wisdom30</th>\n",
              "      <th>feature_wisdom31</th>\n",
              "      <th>feature_wisdom32</th>\n",
              "      <th>feature_wisdom33</th>\n",
              "      <th>feature_wisdom34</th>\n",
              "      <th>feature_wisdom35</th>\n",
              "      <th>feature_wisdom36</th>\n",
              "      <th>feature_wisdom37</th>\n",
              "      <th>feature_wisdom38</th>\n",
              "      <th>feature_wisdom39</th>\n",
              "      <th>feature_wisdom40</th>\n",
              "      <th>feature_wisdom41</th>\n",
              "      <th>feature_wisdom42</th>\n",
              "      <th>feature_wisdom43</th>\n",
              "      <th>feature_wisdom44</th>\n",
              "      <th>feature_wisdom45</th>\n",
              "      <th>feature_wisdom46</th>\n",
              "      <th>target</th>\n",
              "    </tr>\n",
              "  </thead>\n",
              "  <tbody>\n",
              "    <tr>\n",
              "      <th>0</th>\n",
              "      <td>n0003aa52cab36c2</td>\n",
              "      <td>era121</td>\n",
              "      <td>validation</td>\n",
              "      <td>0.25</td>\n",
              "      <td>0.75</td>\n",
              "      <td>0.50</td>\n",
              "      <td>0.50</td>\n",
              "      <td>0.0</td>\n",
              "      <td>0.75</td>\n",
              "      <td>0.5</td>\n",
              "      <td>0.25</td>\n",
              "      <td>0.50</td>\n",
              "      <td>0.5</td>\n",
              "      <td>0.25</td>\n",
              "      <td>0.0</td>\n",
              "      <td>0.25</td>\n",
              "      <td>0.50</td>\n",
              "      <td>0.25</td>\n",
              "      <td>0.00</td>\n",
              "      <td>0.25</td>\n",
              "      <td>1.00</td>\n",
              "      <td>1.00</td>\n",
              "      <td>0.25</td>\n",
              "      <td>1.00</td>\n",
              "      <td>1.00</td>\n",
              "      <td>0.25</td>\n",
              "      <td>0.25</td>\n",
              "      <td>0.0</td>\n",
              "      <td>0.50</td>\n",
              "      <td>0.25</td>\n",
              "      <td>0.75</td>\n",
              "      <td>0.00</td>\n",
              "      <td>0.50</td>\n",
              "      <td>0.25</td>\n",
              "      <td>0.25</td>\n",
              "      <td>0.25</td>\n",
              "      <td>0.50</td>\n",
              "      <td>0.00</td>\n",
              "      <td>0.50</td>\n",
              "      <td>1.00</td>\n",
              "      <td>...</td>\n",
              "      <td>0.00</td>\n",
              "      <td>0.0</td>\n",
              "      <td>0.25</td>\n",
              "      <td>0.5</td>\n",
              "      <td>0.25</td>\n",
              "      <td>0.25</td>\n",
              "      <td>0.00</td>\n",
              "      <td>0.25</td>\n",
              "      <td>0.00</td>\n",
              "      <td>0.25</td>\n",
              "      <td>0.50</td>\n",
              "      <td>0.50</td>\n",
              "      <td>0.50</td>\n",
              "      <td>0.50</td>\n",
              "      <td>0.00</td>\n",
              "      <td>0.25</td>\n",
              "      <td>0.75</td>\n",
              "      <td>0.25</td>\n",
              "      <td>0.25</td>\n",
              "      <td>0.50</td>\n",
              "      <td>0.25</td>\n",
              "      <td>0.00</td>\n",
              "      <td>0.25</td>\n",
              "      <td>0.50</td>\n",
              "      <td>0.25</td>\n",
              "      <td>0.5</td>\n",
              "      <td>0.25</td>\n",
              "      <td>0.25</td>\n",
              "      <td>1.00</td>\n",
              "      <td>0.75</td>\n",
              "      <td>0.75</td>\n",
              "      <td>0.75</td>\n",
              "      <td>1.00</td>\n",
              "      <td>0.75</td>\n",
              "      <td>0.50</td>\n",
              "      <td>0.5</td>\n",
              "      <td>1.0</td>\n",
              "      <td>0.00</td>\n",
              "      <td>0.00</td>\n",
              "      <td>0.25</td>\n",
              "    </tr>\n",
              "    <tr>\n",
              "      <th>1</th>\n",
              "      <td>n000920ed083903f</td>\n",
              "      <td>era121</td>\n",
              "      <td>validation</td>\n",
              "      <td>0.75</td>\n",
              "      <td>0.50</td>\n",
              "      <td>0.75</td>\n",
              "      <td>1.00</td>\n",
              "      <td>0.5</td>\n",
              "      <td>0.00</td>\n",
              "      <td>0.0</td>\n",
              "      <td>0.75</td>\n",
              "      <td>0.25</td>\n",
              "      <td>0.0</td>\n",
              "      <td>0.75</td>\n",
              "      <td>0.5</td>\n",
              "      <td>0.00</td>\n",
              "      <td>0.25</td>\n",
              "      <td>0.50</td>\n",
              "      <td>0.00</td>\n",
              "      <td>1.00</td>\n",
              "      <td>0.25</td>\n",
              "      <td>0.25</td>\n",
              "      <td>1.00</td>\n",
              "      <td>1.00</td>\n",
              "      <td>0.25</td>\n",
              "      <td>0.75</td>\n",
              "      <td>0.00</td>\n",
              "      <td>0.0</td>\n",
              "      <td>0.75</td>\n",
              "      <td>1.00</td>\n",
              "      <td>1.00</td>\n",
              "      <td>0.00</td>\n",
              "      <td>0.25</td>\n",
              "      <td>0.00</td>\n",
              "      <td>0.00</td>\n",
              "      <td>0.25</td>\n",
              "      <td>0.25</td>\n",
              "      <td>0.25</td>\n",
              "      <td>0.00</td>\n",
              "      <td>1.00</td>\n",
              "      <td>...</td>\n",
              "      <td>0.50</td>\n",
              "      <td>0.5</td>\n",
              "      <td>0.25</td>\n",
              "      <td>1.0</td>\n",
              "      <td>0.50</td>\n",
              "      <td>0.25</td>\n",
              "      <td>0.00</td>\n",
              "      <td>0.25</td>\n",
              "      <td>0.50</td>\n",
              "      <td>0.25</td>\n",
              "      <td>1.00</td>\n",
              "      <td>0.25</td>\n",
              "      <td>0.00</td>\n",
              "      <td>0.50</td>\n",
              "      <td>0.75</td>\n",
              "      <td>0.75</td>\n",
              "      <td>0.50</td>\n",
              "      <td>1.00</td>\n",
              "      <td>1.00</td>\n",
              "      <td>0.25</td>\n",
              "      <td>0.50</td>\n",
              "      <td>0.25</td>\n",
              "      <td>0.50</td>\n",
              "      <td>0.50</td>\n",
              "      <td>0.50</td>\n",
              "      <td>0.5</td>\n",
              "      <td>0.25</td>\n",
              "      <td>0.25</td>\n",
              "      <td>0.75</td>\n",
              "      <td>0.50</td>\n",
              "      <td>0.50</td>\n",
              "      <td>0.50</td>\n",
              "      <td>0.75</td>\n",
              "      <td>1.00</td>\n",
              "      <td>0.75</td>\n",
              "      <td>0.5</td>\n",
              "      <td>0.5</td>\n",
              "      <td>0.50</td>\n",
              "      <td>0.50</td>\n",
              "      <td>0.50</td>\n",
              "    </tr>\n",
              "    <tr>\n",
              "      <th>2</th>\n",
              "      <td>n0038e640522c4a6</td>\n",
              "      <td>era121</td>\n",
              "      <td>validation</td>\n",
              "      <td>1.00</td>\n",
              "      <td>0.00</td>\n",
              "      <td>0.00</td>\n",
              "      <td>1.00</td>\n",
              "      <td>1.0</td>\n",
              "      <td>1.00</td>\n",
              "      <td>1.0</td>\n",
              "      <td>1.00</td>\n",
              "      <td>0.50</td>\n",
              "      <td>0.5</td>\n",
              "      <td>1.00</td>\n",
              "      <td>1.0</td>\n",
              "      <td>1.00</td>\n",
              "      <td>0.75</td>\n",
              "      <td>0.50</td>\n",
              "      <td>0.50</td>\n",
              "      <td>1.00</td>\n",
              "      <td>1.00</td>\n",
              "      <td>0.50</td>\n",
              "      <td>0.50</td>\n",
              "      <td>0.00</td>\n",
              "      <td>1.00</td>\n",
              "      <td>0.50</td>\n",
              "      <td>1.00</td>\n",
              "      <td>0.5</td>\n",
              "      <td>1.00</td>\n",
              "      <td>0.50</td>\n",
              "      <td>1.00</td>\n",
              "      <td>0.25</td>\n",
              "      <td>1.00</td>\n",
              "      <td>1.00</td>\n",
              "      <td>1.00</td>\n",
              "      <td>0.50</td>\n",
              "      <td>1.00</td>\n",
              "      <td>1.00</td>\n",
              "      <td>0.75</td>\n",
              "      <td>1.00</td>\n",
              "      <td>...</td>\n",
              "      <td>0.25</td>\n",
              "      <td>0.5</td>\n",
              "      <td>0.00</td>\n",
              "      <td>0.0</td>\n",
              "      <td>0.00</td>\n",
              "      <td>0.25</td>\n",
              "      <td>0.25</td>\n",
              "      <td>0.00</td>\n",
              "      <td>0.50</td>\n",
              "      <td>0.00</td>\n",
              "      <td>0.00</td>\n",
              "      <td>0.00</td>\n",
              "      <td>0.25</td>\n",
              "      <td>0.00</td>\n",
              "      <td>0.25</td>\n",
              "      <td>0.50</td>\n",
              "      <td>0.00</td>\n",
              "      <td>0.00</td>\n",
              "      <td>0.00</td>\n",
              "      <td>0.00</td>\n",
              "      <td>0.00</td>\n",
              "      <td>0.00</td>\n",
              "      <td>0.50</td>\n",
              "      <td>0.00</td>\n",
              "      <td>0.75</td>\n",
              "      <td>0.0</td>\n",
              "      <td>0.00</td>\n",
              "      <td>0.25</td>\n",
              "      <td>0.00</td>\n",
              "      <td>0.00</td>\n",
              "      <td>0.00</td>\n",
              "      <td>0.00</td>\n",
              "      <td>0.50</td>\n",
              "      <td>0.25</td>\n",
              "      <td>0.00</td>\n",
              "      <td>0.0</td>\n",
              "      <td>0.5</td>\n",
              "      <td>0.50</td>\n",
              "      <td>0.00</td>\n",
              "      <td>1.00</td>\n",
              "    </tr>\n",
              "    <tr>\n",
              "      <th>3</th>\n",
              "      <td>n004ac94a87dc54b</td>\n",
              "      <td>era121</td>\n",
              "      <td>validation</td>\n",
              "      <td>0.75</td>\n",
              "      <td>1.00</td>\n",
              "      <td>1.00</td>\n",
              "      <td>0.50</td>\n",
              "      <td>0.0</td>\n",
              "      <td>0.00</td>\n",
              "      <td>0.0</td>\n",
              "      <td>0.50</td>\n",
              "      <td>0.75</td>\n",
              "      <td>1.0</td>\n",
              "      <td>0.75</td>\n",
              "      <td>0.0</td>\n",
              "      <td>0.50</td>\n",
              "      <td>0.00</td>\n",
              "      <td>0.50</td>\n",
              "      <td>0.75</td>\n",
              "      <td>0.50</td>\n",
              "      <td>0.75</td>\n",
              "      <td>0.25</td>\n",
              "      <td>0.75</td>\n",
              "      <td>0.25</td>\n",
              "      <td>0.75</td>\n",
              "      <td>0.25</td>\n",
              "      <td>0.75</td>\n",
              "      <td>1.0</td>\n",
              "      <td>0.50</td>\n",
              "      <td>0.50</td>\n",
              "      <td>0.75</td>\n",
              "      <td>0.50</td>\n",
              "      <td>1.00</td>\n",
              "      <td>0.50</td>\n",
              "      <td>0.25</td>\n",
              "      <td>0.75</td>\n",
              "      <td>0.25</td>\n",
              "      <td>0.75</td>\n",
              "      <td>0.25</td>\n",
              "      <td>0.75</td>\n",
              "      <td>...</td>\n",
              "      <td>0.00</td>\n",
              "      <td>0.0</td>\n",
              "      <td>0.00</td>\n",
              "      <td>0.0</td>\n",
              "      <td>0.00</td>\n",
              "      <td>0.00</td>\n",
              "      <td>0.00</td>\n",
              "      <td>0.00</td>\n",
              "      <td>0.25</td>\n",
              "      <td>0.00</td>\n",
              "      <td>0.25</td>\n",
              "      <td>0.00</td>\n",
              "      <td>0.00</td>\n",
              "      <td>0.25</td>\n",
              "      <td>0.00</td>\n",
              "      <td>0.00</td>\n",
              "      <td>0.00</td>\n",
              "      <td>0.00</td>\n",
              "      <td>0.75</td>\n",
              "      <td>0.00</td>\n",
              "      <td>0.00</td>\n",
              "      <td>0.25</td>\n",
              "      <td>0.25</td>\n",
              "      <td>0.00</td>\n",
              "      <td>0.00</td>\n",
              "      <td>0.0</td>\n",
              "      <td>0.00</td>\n",
              "      <td>0.00</td>\n",
              "      <td>0.00</td>\n",
              "      <td>0.00</td>\n",
              "      <td>0.00</td>\n",
              "      <td>0.00</td>\n",
              "      <td>0.00</td>\n",
              "      <td>0.25</td>\n",
              "      <td>0.00</td>\n",
              "      <td>0.0</td>\n",
              "      <td>0.0</td>\n",
              "      <td>0.25</td>\n",
              "      <td>0.25</td>\n",
              "      <td>0.50</td>\n",
              "    </tr>\n",
              "    <tr>\n",
              "      <th>4</th>\n",
              "      <td>n0052fe97ea0c05f</td>\n",
              "      <td>era121</td>\n",
              "      <td>validation</td>\n",
              "      <td>0.25</td>\n",
              "      <td>0.50</td>\n",
              "      <td>0.50</td>\n",
              "      <td>0.25</td>\n",
              "      <td>1.0</td>\n",
              "      <td>0.50</td>\n",
              "      <td>0.5</td>\n",
              "      <td>0.25</td>\n",
              "      <td>0.25</td>\n",
              "      <td>0.5</td>\n",
              "      <td>0.50</td>\n",
              "      <td>1.0</td>\n",
              "      <td>1.00</td>\n",
              "      <td>1.00</td>\n",
              "      <td>1.00</td>\n",
              "      <td>0.75</td>\n",
              "      <td>0.50</td>\n",
              "      <td>0.50</td>\n",
              "      <td>0.50</td>\n",
              "      <td>0.75</td>\n",
              "      <td>0.00</td>\n",
              "      <td>0.00</td>\n",
              "      <td>0.00</td>\n",
              "      <td>0.25</td>\n",
              "      <td>0.0</td>\n",
              "      <td>0.00</td>\n",
              "      <td>0.75</td>\n",
              "      <td>0.25</td>\n",
              "      <td>1.00</td>\n",
              "      <td>0.25</td>\n",
              "      <td>1.00</td>\n",
              "      <td>0.75</td>\n",
              "      <td>0.00</td>\n",
              "      <td>1.00</td>\n",
              "      <td>0.75</td>\n",
              "      <td>0.75</td>\n",
              "      <td>0.75</td>\n",
              "      <td>...</td>\n",
              "      <td>0.00</td>\n",
              "      <td>0.5</td>\n",
              "      <td>0.50</td>\n",
              "      <td>0.0</td>\n",
              "      <td>0.75</td>\n",
              "      <td>0.50</td>\n",
              "      <td>0.75</td>\n",
              "      <td>0.25</td>\n",
              "      <td>0.25</td>\n",
              "      <td>0.25</td>\n",
              "      <td>0.00</td>\n",
              "      <td>0.25</td>\n",
              "      <td>0.50</td>\n",
              "      <td>0.25</td>\n",
              "      <td>1.00</td>\n",
              "      <td>1.00</td>\n",
              "      <td>1.00</td>\n",
              "      <td>0.00</td>\n",
              "      <td>0.25</td>\n",
              "      <td>0.00</td>\n",
              "      <td>0.00</td>\n",
              "      <td>0.25</td>\n",
              "      <td>0.25</td>\n",
              "      <td>0.75</td>\n",
              "      <td>1.00</td>\n",
              "      <td>1.0</td>\n",
              "      <td>0.75</td>\n",
              "      <td>0.75</td>\n",
              "      <td>0.50</td>\n",
              "      <td>0.50</td>\n",
              "      <td>0.50</td>\n",
              "      <td>0.75</td>\n",
              "      <td>0.00</td>\n",
              "      <td>0.00</td>\n",
              "      <td>0.75</td>\n",
              "      <td>1.0</td>\n",
              "      <td>0.0</td>\n",
              "      <td>0.25</td>\n",
              "      <td>1.00</td>\n",
              "      <td>0.75</td>\n",
              "    </tr>\n",
              "  </tbody>\n",
              "</table>\n",
              "<p>5 rows × 314 columns</p>\n",
              "</div>"
            ],
            "text/plain": [
              "                 id     era  ... feature_wisdom46  target\n",
              "0  n0003aa52cab36c2  era121  ...             0.00    0.25\n",
              "1  n000920ed083903f  era121  ...             0.50    0.50\n",
              "2  n0038e640522c4a6  era121  ...             0.00    1.00\n",
              "3  n004ac94a87dc54b  era121  ...             0.25    0.50\n",
              "4  n0052fe97ea0c05f  era121  ...             1.00    0.75\n",
              "\n",
              "[5 rows x 314 columns]"
            ]
          },
          "metadata": {
            "tags": []
          },
          "execution_count": 13
        }
      ]
    },
    {
      "cell_type": "code",
      "metadata": {
        "id": "VJlC49aANB_v"
      },
      "source": [
        "df_train[\"erano\"] = df_train.era.str.slice(3).astype(int)\n",
        "eras = df_train.erano\n",
        "target = \"target\""
      ],
      "execution_count": 14,
      "outputs": []
    },
    {
      "cell_type": "code",
      "metadata": {
        "id": "GA5j2kirNWQR"
      },
      "source": [
        "def numerai_score(y_true, y_pred):\n",
        "    rank_pred = y_pred.groupby(eras).apply(lambda x: x.rank(pct=True, method=\"first\"))\n",
        "    return np.corrcoef(y_true, rank_pred)[0,1]\n",
        "\n",
        "# It can also be convenient while working to evaluate based on the regular (pearson) correlation\n",
        "def correlation_score(y_true, y_pred):\n",
        "    return np.corrcoef(y_true, y_pred)[0,1]"
      ],
      "execution_count": 15,
      "outputs": []
    },
    {
      "cell_type": "code",
      "metadata": {
        "id": "Fz6sy21IMqyU"
      },
      "source": [
        "feature_corrs = df_train[features].corr()"
      ],
      "execution_count": 16,
      "outputs": []
    },
    {
      "cell_type": "code",
      "metadata": {
        "id": "WHz_YeOzMtnh",
        "colab": {
          "base_uri": "https://localhost:8080/"
        },
        "outputId": "97b4d795-2fa6-434f-bf00-aa8cf8595a4e"
      },
      "source": [
        "feature_corrs.stack().head()"
      ],
      "execution_count": 17,
      "outputs": [
        {
          "output_type": "execute_result",
          "data": {
            "text/plain": [
              "feature_intelligence1  feature_intelligence1    1.000000\n",
              "                       feature_intelligence2   -0.014157\n",
              "                       feature_intelligence3   -0.024404\n",
              "                       feature_intelligence4    0.652596\n",
              "                       feature_intelligence5    0.069868\n",
              "dtype: float64"
            ]
          },
          "metadata": {
            "tags": []
          },
          "execution_count": 17
        }
      ]
    },
    {
      "cell_type": "code",
      "metadata": {
        "id": "4yC7z2b_MvbH",
        "colab": {
          "base_uri": "https://localhost:8080/"
        },
        "outputId": "9351da0e-6b5a-4fd7-d7a2-c0b99b468616"
      },
      "source": [
        "tdf = feature_corrs.stack()\n",
        "tdf = tdf[tdf.index.get_level_values(0) < tdf.index.get_level_values(1)]\n",
        "tdf.sort_values()"
      ],
      "execution_count": 18,
      "outputs": [
        {
          "output_type": "execute_result",
          "data": {
            "text/plain": [
              "feature_constitution112  feature_constitution9    -0.855008\n",
              "feature_constitution33   feature_constitution46   -0.830310\n",
              "feature_constitution112  feature_constitution60   -0.820694\n",
              "feature_constitution46   feature_constitution87   -0.815888\n",
              "feature_constitution112  feature_constitution33   -0.759084\n",
              "                                                     ...   \n",
              "feature_constitution27   feature_constitution7     0.948920\n",
              "feature_constitution13   feature_constitution79    0.949139\n",
              "feature_wisdom31         feature_wisdom39          0.954984\n",
              "feature_wisdom46         feature_wisdom7           0.963706\n",
              "feature_wisdom12         feature_wisdom2           0.968062\n",
              "Length: 47895, dtype: float64"
            ]
          },
          "metadata": {
            "tags": []
          },
          "execution_count": 18
        }
      ]
    },
    {
      "cell_type": "code",
      "metadata": {
        "id": "s3nGHT4pMy18"
      },
      "source": [
        "df1 = df_train[eras<=eras.median()]\n",
        "df2 = df_train[eras>eras.median()]"
      ],
      "execution_count": 19,
      "outputs": []
    },
    {
      "cell_type": "code",
      "metadata": {
        "id": "3GpYLiJlM0-J"
      },
      "source": [
        "corr1 = df1[features].corr().unstack()\n",
        "corr1 = corr1[corr1.index.get_level_values(0) < corr1.index.get_level_values(1)]"
      ],
      "execution_count": 20,
      "outputs": []
    },
    {
      "cell_type": "code",
      "metadata": {
        "id": "W-MYapG7M1A1"
      },
      "source": [
        "corr2 = df2[features].corr().unstack()\n",
        "corr2 = corr2[corr2.index.get_level_values(0) < corr2.index.get_level_values(1)]"
      ],
      "execution_count": 21,
      "outputs": []
    },
    {
      "cell_type": "code",
      "metadata": {
        "id": "NBoEFW6UM1Ey",
        "colab": {
          "base_uri": "https://localhost:8080/",
          "height": 419
        },
        "outputId": "32d7f13d-5e8c-448a-96c8-9064dc4644ae"
      },
      "source": [
        "tdf = pd.DataFrame({\n",
        "    \"corr1\": corr1,\n",
        "    \"corr2\": corr2,\n",
        "})\n",
        "tdf[\"corr_diff\"] = tdf.corr2 - tdf.corr1\n",
        "tdf.sort_values(by=\"corr_diff\")"
      ],
      "execution_count": 22,
      "outputs": [
        {
          "output_type": "execute_result",
          "data": {
            "text/html": [
              "<div>\n",
              "<style scoped>\n",
              "    .dataframe tbody tr th:only-of-type {\n",
              "        vertical-align: middle;\n",
              "    }\n",
              "\n",
              "    .dataframe tbody tr th {\n",
              "        vertical-align: top;\n",
              "    }\n",
              "\n",
              "    .dataframe thead th {\n",
              "        text-align: right;\n",
              "    }\n",
              "</style>\n",
              "<table border=\"1\" class=\"dataframe\">\n",
              "  <thead>\n",
              "    <tr style=\"text-align: right;\">\n",
              "      <th></th>\n",
              "      <th></th>\n",
              "      <th>corr1</th>\n",
              "      <th>corr2</th>\n",
              "      <th>corr_diff</th>\n",
              "    </tr>\n",
              "  </thead>\n",
              "  <tbody>\n",
              "    <tr>\n",
              "      <th>feature_intelligence11</th>\n",
              "      <th>feature_intelligence9</th>\n",
              "      <td>0.091352</td>\n",
              "      <td>-0.128851</td>\n",
              "      <td>-0.220203</td>\n",
              "    </tr>\n",
              "    <tr>\n",
              "      <th>feature_dexterity12</th>\n",
              "      <th>feature_intelligence10</th>\n",
              "      <td>0.548931</td>\n",
              "      <td>0.343117</td>\n",
              "      <td>-0.205814</td>\n",
              "    </tr>\n",
              "    <tr>\n",
              "      <th>feature_dexterity9</th>\n",
              "      <th>feature_intelligence11</th>\n",
              "      <td>0.078715</td>\n",
              "      <td>-0.127070</td>\n",
              "      <td>-0.205785</td>\n",
              "    </tr>\n",
              "    <tr>\n",
              "      <th>feature_dexterity1</th>\n",
              "      <th>feature_dexterity12</th>\n",
              "      <td>0.653528</td>\n",
              "      <td>0.447942</td>\n",
              "      <td>-0.205587</td>\n",
              "    </tr>\n",
              "    <tr>\n",
              "      <th>feature_intelligence10</th>\n",
              "      <th>feature_intelligence11</th>\n",
              "      <td>0.075022</td>\n",
              "      <td>-0.130511</td>\n",
              "      <td>-0.205534</td>\n",
              "    </tr>\n",
              "    <tr>\n",
              "      <th>...</th>\n",
              "      <th>...</th>\n",
              "      <td>...</td>\n",
              "      <td>...</td>\n",
              "      <td>...</td>\n",
              "    </tr>\n",
              "    <tr>\n",
              "      <th>feature_intelligence8</th>\n",
              "      <th>feature_wisdom22</th>\n",
              "      <td>-0.088346</td>\n",
              "      <td>0.117772</td>\n",
              "      <td>0.206119</td>\n",
              "    </tr>\n",
              "    <tr>\n",
              "      <th rowspan=\"2\" valign=\"top\">feature_intelligence4</th>\n",
              "      <th>feature_wisdom43</th>\n",
              "      <td>-0.102438</td>\n",
              "      <td>0.103758</td>\n",
              "      <td>0.206197</td>\n",
              "    </tr>\n",
              "    <tr>\n",
              "      <th>feature_wisdom33</th>\n",
              "      <td>-0.078930</td>\n",
              "      <td>0.133664</td>\n",
              "      <td>0.212593</td>\n",
              "    </tr>\n",
              "    <tr>\n",
              "      <th rowspan=\"2\" valign=\"top\">feature_intelligence8</th>\n",
              "      <th>feature_wisdom43</th>\n",
              "      <td>-0.121306</td>\n",
              "      <td>0.115194</td>\n",
              "      <td>0.236501</td>\n",
              "    </tr>\n",
              "    <tr>\n",
              "      <th>feature_wisdom33</th>\n",
              "      <td>-0.091759</td>\n",
              "      <td>0.150549</td>\n",
              "      <td>0.242308</td>\n",
              "    </tr>\n",
              "  </tbody>\n",
              "</table>\n",
              "<p>47895 rows × 3 columns</p>\n",
              "</div>"
            ],
            "text/plain": [
              "                                                  corr1     corr2  corr_diff\n",
              "feature_intelligence11 feature_intelligence9   0.091352 -0.128851  -0.220203\n",
              "feature_dexterity12    feature_intelligence10  0.548931  0.343117  -0.205814\n",
              "feature_dexterity9     feature_intelligence11  0.078715 -0.127070  -0.205785\n",
              "feature_dexterity1     feature_dexterity12     0.653528  0.447942  -0.205587\n",
              "feature_intelligence10 feature_intelligence11  0.075022 -0.130511  -0.205534\n",
              "...                                                 ...       ...        ...\n",
              "feature_intelligence8  feature_wisdom22       -0.088346  0.117772   0.206119\n",
              "feature_intelligence4  feature_wisdom43       -0.102438  0.103758   0.206197\n",
              "                       feature_wisdom33       -0.078930  0.133664   0.212593\n",
              "feature_intelligence8  feature_wisdom43       -0.121306  0.115194   0.236501\n",
              "                       feature_wisdom33       -0.091759  0.150549   0.242308\n",
              "\n",
              "[47895 rows x 3 columns]"
            ]
          },
          "metadata": {
            "tags": []
          },
          "execution_count": 22
        }
      ]
    },
    {
      "cell_type": "code",
      "metadata": {
        "id": "XflogCcwM1H8"
      },
      "source": [
        "feature_scores = {\n",
        "    feature: numerai_score(df_train[target], df_train[feature])\n",
        "    for feature in features\n",
        "}"
      ],
      "execution_count": 23,
      "outputs": []
    },
    {
      "cell_type": "code",
      "metadata": {
        "id": "CY2SUHCDM1Kl",
        "colab": {
          "base_uri": "https://localhost:8080/",
          "height": 225
        },
        "outputId": "a7d9c031-77b6-488a-ec7d-07f4b0146879"
      },
      "source": [
        "pd.Series(feature_scores).sort_values()"
      ],
      "execution_count": null,
      "outputs": [
        {
          "output_type": "execute_result",
          "data": {
            "text/plain": [
              "feature_dexterity7    -0.014545\n",
              "feature_dexterity4    -0.013817\n",
              "feature_dexterity6    -0.013403\n",
              "feature_dexterity11   -0.012352\n",
              "feature_dexterity14   -0.010608\n",
              "                         ...   \n",
              "feature_charisma6      0.011300\n",
              "feature_strength14     0.011317\n",
              "feature_strength4      0.011407\n",
              "feature_charisma54     0.011528\n",
              "feature_strength34     0.012132\n",
              "Length: 310, dtype: float64"
            ]
          },
          "metadata": {
            "tags": []
          },
          "execution_count": 99
        }
      ]
    },
    {
      "cell_type": "code",
      "metadata": {
        "id": "ZPvzmWGYM1Nc",
        "colab": {
          "base_uri": "https://localhost:8080/",
          "height": 366
        },
        "outputId": "f58899b9-699e-4871-e37c-3afdd38fee0d"
      },
      "source": [
        "# Single features do not work consistently though\n",
        "by_era_correlation = pd.Series({\n",
        "    era: np.corrcoef(tdf[target], tdf[\"feature_strength34\"])[0,1]\n",
        "    for era, tdf in df_train.groupby(eras)\n",
        "})\n",
        "by_era_correlation.plot()"
      ],
      "execution_count": 24,
      "outputs": [
        {
          "output_type": "execute_result",
          "data": {
            "text/plain": [
              "<matplotlib.axes._subplots.AxesSubplot at 0x7fa95b14fb38>"
            ]
          },
          "metadata": {
            "tags": []
          },
          "execution_count": 24
        },
        {
          "output_type": "display_data",
          "data": {
            "image/png": "[encoded data removed]",
            "text/plain": [
              "<Figure size 576x396 with 1 Axes>"
            ]
          },
          "metadata": {
            "tags": []
          }
        }
      ]
    },
    {
      "cell_type": "code",
      "metadata": {
        "id": "fRXR9gxHdrPa",
        "colab": {
          "base_uri": "https://localhost:8080/",
          "height": 364
        },
        "outputId": "01784687-0d17-4b15-fc26-2edf30837858"
      },
      "source": [
        "# With a rolling 10 era average you can see some trends\n",
        "by_era_correlation.rolling(10).mean().plot()"
      ],
      "execution_count": 25,
      "outputs": [
        {
          "output_type": "execute_result",
          "data": {
            "text/plain": [
              "<matplotlib.axes._subplots.AxesSubplot at 0x7fa95b14f7f0>"
            ]
          },
          "metadata": {
            "tags": []
          },
          "execution_count": 25
        },
        {
          "output_type": "display_data",
          "data": {
            "image/png": "[encoded data removed]",
            "text/plain": [
              "<Figure size 576x396 with 1 Axes>"
            ]
          },
          "metadata": {
            "tags": []
          }
        }
      ]
    },
    {
      "cell_type": "code",
      "metadata": {
        "id": "Ja8sE2SvdrWh"
      },
      "source": [
        "df1 = df_train[eras<=eras.median()]\n",
        "df2 = df_train[eras>eras.median()]"
      ],
      "execution_count": 26,
      "outputs": []
    },
    {
      "cell_type": "code",
      "metadata": {
        "id": "rj7RKeZYdrar",
        "colab": {
          "base_uri": "https://localhost:8080/"
        },
        "outputId": "44090903-d9fc-4845-aa40-be442ece32e3"
      },
      "source": [
        "import sklearn\n",
        "from sklearn import linear_model\n",
        "\n",
        "linear1 = linear_model.LinearRegression()\n",
        "linear1.fit(df1[features], df1[target])\n",
        "linear2 = linear_model.LinearRegression()\n",
        "linear2.fit(df2[features], df2[target])"
      ],
      "execution_count": 27,
      "outputs": [
        {
          "output_type": "execute_result",
          "data": {
            "text/plain": [
              "LinearRegression(copy_X=True, fit_intercept=True, n_jobs=None, normalize=False)"
            ]
          },
          "metadata": {
            "tags": []
          },
          "execution_count": 27
        }
      ]
    },
    {
      "cell_type": "code",
      "metadata": {
        "id": "dFyfUm1YdrgN",
        "colab": {
          "base_uri": "https://localhost:8080/",
          "height": 111
        },
        "outputId": "5c3dfb5b-abef-4b21-b3f4-043531eb6e8d"
      },
      "source": [
        "r2 = [\n",
        "    [\n",
        "        model.score(dfX[features], dfX[target])\n",
        "        for dfX in [df1, df2]\n",
        "    ]\n",
        "    for model in [linear1, linear2]\n",
        "]\n",
        "pd.DataFrame(r2, columns=[\"eval_on_1\", \"eval_on_2\"], index=[\"train_on_1\", \"train_on_2\"])"
      ],
      "execution_count": 28,
      "outputs": [
        {
          "output_type": "execute_result",
          "data": {
            "text/html": [
              "<div>\n",
              "<style scoped>\n",
              "    .dataframe tbody tr th:only-of-type {\n",
              "        vertical-align: middle;\n",
              "    }\n",
              "\n",
              "    .dataframe tbody tr th {\n",
              "        vertical-align: top;\n",
              "    }\n",
              "\n",
              "    .dataframe thead th {\n",
              "        text-align: right;\n",
              "    }\n",
              "</style>\n",
              "<table border=\"1\" class=\"dataframe\">\n",
              "  <thead>\n",
              "    <tr style=\"text-align: right;\">\n",
              "      <th></th>\n",
              "      <th>eval_on_1</th>\n",
              "      <th>eval_on_2</th>\n",
              "    </tr>\n",
              "  </thead>\n",
              "  <tbody>\n",
              "    <tr>\n",
              "      <th>train_on_1</th>\n",
              "      <td>0.004093</td>\n",
              "      <td>-0.000543</td>\n",
              "    </tr>\n",
              "    <tr>\n",
              "      <th>train_on_2</th>\n",
              "      <td>0.000575</td>\n",
              "      <td>0.003155</td>\n",
              "    </tr>\n",
              "  </tbody>\n",
              "</table>\n",
              "</div>"
            ],
            "text/plain": [
              "            eval_on_1  eval_on_2\n",
              "train_on_1   0.004093  -0.000543\n",
              "train_on_2   0.000575   0.003155"
            ]
          },
          "metadata": {
            "tags": []
          },
          "execution_count": 28
        }
      ]
    },
    {
      "cell_type": "code",
      "metadata": {
        "id": "OMNJDuRZdrjY",
        "colab": {
          "base_uri": "https://localhost:8080/",
          "height": 111
        },
        "outputId": "18c7c3d9-c521-447f-923a-3231c0f1439c"
      },
      "source": [
        "# Note in particular that the correlation of (train_on_1, eval_on_2) is quite decent\n",
        "corrs = [\n",
        "    [\n",
        "        numerai_score(dfX[target], pd.Series(model.predict(dfX[features]), index=dfX.index))\n",
        "        for dfX in [df1, df2]\n",
        "    ]\n",
        "    for model in [linear1, linear2]\n",
        "]\n",
        "pd.DataFrame(corrs, columns=[\"eval_on_1\", \"eval_on_2\"], index=[\"train_on_1\", \"train_on_2\"])"
      ],
      "execution_count": 29,
      "outputs": [
        {
          "output_type": "execute_result",
          "data": {
            "text/html": [
              "<div>\n",
              "<style scoped>\n",
              "    .dataframe tbody tr th:only-of-type {\n",
              "        vertical-align: middle;\n",
              "    }\n",
              "\n",
              "    .dataframe tbody tr th {\n",
              "        vertical-align: top;\n",
              "    }\n",
              "\n",
              "    .dataframe thead th {\n",
              "        text-align: right;\n",
              "    }\n",
              "</style>\n",
              "<table border=\"1\" class=\"dataframe\">\n",
              "  <thead>\n",
              "    <tr style=\"text-align: right;\">\n",
              "      <th></th>\n",
              "      <th>eval_on_1</th>\n",
              "      <th>eval_on_2</th>\n",
              "    </tr>\n",
              "  </thead>\n",
              "  <tbody>\n",
              "    <tr>\n",
              "      <th>train_on_1</th>\n",
              "      <td>0.062752</td>\n",
              "      <td>0.028026</td>\n",
              "    </tr>\n",
              "    <tr>\n",
              "      <th>train_on_2</th>\n",
              "      <td>0.032871</td>\n",
              "      <td>0.054796</td>\n",
              "    </tr>\n",
              "  </tbody>\n",
              "</table>\n",
              "</div>"
            ],
            "text/plain": [
              "            eval_on_1  eval_on_2\n",
              "train_on_1   0.062752   0.028026\n",
              "train_on_2   0.032871   0.054796"
            ]
          },
          "metadata": {
            "tags": []
          },
          "execution_count": 29
        }
      ]
    },
    {
      "cell_type": "code",
      "metadata": {
        "id": "ELrW9JSydroO",
        "colab": {
          "base_uri": "https://localhost:8080/"
        },
        "outputId": "570ef72a-a2e8-4310-e7b5-68efd92d1be3"
      },
      "source": [
        "# Train a standard logistic regression as a classifier\n",
        "logistic = linear_model.LogisticRegression()\n",
        "logistic.fit(df_train[features], (df_train[target]*4).astype(int))\n",
        "logistic.score(df_train[features], (df_train[target]*4).astype(int))"
      ],
      "execution_count": 30,
      "outputs": [
        {
          "output_type": "stream",
          "text": [
            "/usr/local/lib/python3.6/dist-packages/sklearn/linear_model/_logistic.py:940: ConvergenceWarning: lbfgs failed to converge (status=1):\n",
            "STOP: TOTAL NO. of ITERATIONS REACHED LIMIT.\n",
            "\n",
            "Increase the number of iterations (max_iter) or scale the data as shown in:\n",
            "    https://scikit-learn.org/stable/modules/preprocessing.html\n",
            "Please also refer to the documentation for alternative solver options:\n",
            "    https://scikit-learn.org/stable/modules/linear_model.html#logistic-regression\n",
            "  extra_warning_msg=_LOGISTIC_SOLVER_CONVERGENCE_MSG)\n"
          ],
          "name": "stderr"
        },
        {
          "output_type": "execute_result",
          "data": {
            "text/plain": [
              "0.5012315467270351"
            ]
          },
          "metadata": {
            "tags": []
          },
          "execution_count": 30
        }
      ]
    },
    {
      "cell_type": "code",
      "metadata": {
        "id": "TS7rznzydruw",
        "colab": {
          "base_uri": "https://localhost:8080/",
          "height": 432
        },
        "outputId": "7c958ef2-c13c-4ef9-9b57-4a5f752011e9"
      },
      "source": [
        "# The first and last class are highly correlated\n",
        "corrs=np.corrcoef(logistic.predict_proba(df_train[features]).T)\n",
        "plt.imshow(corrs, vmin=-1, vmax=1, cmap=\"RdYlGn\")\n",
        "corrs"
      ],
      "execution_count": 31,
      "outputs": [
        {
          "output_type": "execute_result",
          "data": {
            "text/plain": [
              "array([[ 1.        ,  0.468153  , -0.90388078,  0.42196909,  0.94725182],\n",
              "       [ 0.468153  ,  1.        , -0.70471613,  0.5172056 ,  0.42842077],\n",
              "       [-0.90388078, -0.70471613,  1.        , -0.71842962, -0.91441732],\n",
              "       [ 0.42196909,  0.5172056 , -0.71842962,  1.        ,  0.49885231],\n",
              "       [ 0.94725182,  0.42842077, -0.91441732,  0.49885231,  1.        ]])"
            ]
          },
          "metadata": {
            "tags": []
          },
          "execution_count": 31
        },
        {
          "output_type": "display_data",
          "data": {
            "image/png": "[encoded data removed]",
            "text/plain": [
              "<Figure size 576x396 with 1 Axes>"
            ]
          },
          "metadata": {
            "tags": []
          }
        }
      ]
    },
    {
      "cell_type": "code",
      "metadata": {
        "id": "ehuCQkj2wW7q",
        "colab": {
          "base_uri": "https://localhost:8080/"
        },
        "outputId": "b9142772-8e05-486c-d6cb-ac94ccf4fbcf"
      },
      "source": [
        "# In-sample correlation is 5.4%\n",
        "preds = pd.Series(logistic.predict_proba(df_train[features]).dot(logistic.classes_), index=df_train.index)\n",
        "numerai_score(df_train[target], preds)"
      ],
      "execution_count": 32,
      "outputs": [
        {
          "output_type": "execute_result",
          "data": {
            "text/plain": [
              "0.05065880622014569"
            ]
          },
          "metadata": {
            "tags": []
          },
          "execution_count": 32
        }
      ]
    },
    {
      "cell_type": "code",
      "metadata": {
        "id": "RnKWYHtFwXDi",
        "colab": {
          "base_uri": "https://localhost:8080/"
        },
        "outputId": "d10307bd-4ca1-4c29-b124-8eb7ca07c194"
      },
      "source": [
        "# A standard linear model has a slightly higher correlation\n",
        "linear = linear_model.LinearRegression()\n",
        "linear.fit(df_train[features], df_train[target])\n",
        "linear.score(df_train[features], df_train[target])\n",
        "preds = pd.Series(linear.predict(df_train[features]), index=df_train.index)\n",
        "numerai_score(df_train[target], preds)"
      ],
      "execution_count": 33,
      "outputs": [
        {
          "output_type": "execute_result",
          "data": {
            "text/plain": [
              "0.051078050416014494"
            ]
          },
          "metadata": {
            "tags": []
          },
          "execution_count": 33
        }
      ]
    },
    {
      "cell_type": "code",
      "metadata": {
        "id": "2rq3y20DwXKF"
      },
      "source": [
        "from sklearn import model_selection\n",
        "\n",
        "crossvalidators = [\n",
        "    model_selection.KFold(5),\n",
        "    model_selection.KFold(5, shuffle=True),\n",
        "    model_selection.GroupKFold(5),\n",
        "    model_selection.TimeSeriesSplit(5)\n",
        "]"
      ],
      "execution_count": 34,
      "outputs": []
    },
    {
      "cell_type": "code",
      "metadata": {
        "id": "93V1kLuHw0Md"
      },
      "source": [
        "def correlation_score(y_true, y_pred):\n",
        "    return np.corrcoef(y_true, y_pred)[0,1]"
      ],
      "execution_count": 35,
      "outputs": []
    },
    {
      "cell_type": "code",
      "metadata": {
        "id": "SnPXUhyww248",
        "colab": {
          "base_uri": "https://localhost:8080/"
        },
        "outputId": "d24a70d3-6231-4ad9-d547-d434c4078a20"
      },
      "source": [
        "from sklearn import metrics\n",
        "for cv in crossvalidators:\n",
        "    print(cv)\n",
        "    print(np.mean(\n",
        "            model_selection.cross_val_score(\n",
        "            linear_model.LinearRegression(),\n",
        "            df_train[features],\n",
        "            df_train[target],\n",
        "            cv=cv,\n",
        "            n_jobs=1,\n",
        "            groups=eras,\n",
        "            scoring=metrics.make_scorer(correlation_score, greater_is_better=True)\n",
        "        )))\n",
        "    print()"
      ],
      "execution_count": 36,
      "outputs": [
        {
          "output_type": "stream",
          "text": [
            "KFold(n_splits=5, random_state=None, shuffle=False)\n",
            "0.03332625076616511\n",
            "\n",
            "KFold(n_splits=5, random_state=None, shuffle=True)\n",
            "0.039963222353490396\n",
            "\n",
            "GroupKFold(n_splits=5)\n",
            "0.03475937249063586\n",
            "\n",
            "TimeSeriesSplit(max_train_size=None, n_splits=5)\n",
            "0.030947840978488895\n",
            "\n"
          ],
          "name": "stdout"
        }
      ]
    },
    {
      "cell_type": "code",
      "metadata": {
        "id": "IS_Xuxo2xJDc",
        "colab": {
          "base_uri": "https://localhost:8080/"
        },
        "outputId": "3238c248-a8fc-4253-d49b-fed7e2d38a6d"
      },
      "source": [
        "eras10 = (eras // 10) * 10\n",
        "eras10.value_counts()"
      ],
      "execution_count": 37,
      "outputs": [
        {
          "output_type": "execute_result",
          "data": {
            "text/plain": [
              "50     48186\n",
              "60     46831\n",
              "100    46107\n",
              "90     45609\n",
              "110    45070\n",
              "80     43971\n",
              "40     43439\n",
              "30     41101\n",
              "70     40403\n",
              "20     37444\n",
              "10     34600\n",
              "0      24515\n",
              "120     4532\n",
              "Name: erano, dtype: int64"
            ]
          },
          "metadata": {
            "tags": []
          },
          "execution_count": 37
        }
      ]
    },
    {
      "cell_type": "code",
      "metadata": {
        "id": "Gp3hQemTxJKU",
        "colab": {
          "base_uri": "https://localhost:8080/"
        },
        "outputId": "1243c063-f487-48de-ce6e-ccd27c0855dc"
      },
      "source": [
        "results10 = []\n",
        "for train_era, tdf in df_train[eras10<120].groupby(eras10):\n",
        "    print(train_era)\n",
        "    model = linear_model.LinearRegression()\n",
        "    model.fit(tdf[features], tdf[target])\n",
        "    for test_era, tdf in df_train[eras10<120].groupby(eras10):\n",
        "        results10.append([\n",
        "            train_era,\n",
        "            test_era,\n",
        "            correlation_score(tdf[target], model.predict(tdf[features]))\n",
        "        ])"
      ],
      "execution_count": 38,
      "outputs": [
        {
          "output_type": "stream",
          "text": [
            "0\n",
            "10\n",
            "20\n",
            "30\n",
            "40\n",
            "50\n",
            "60\n",
            "70\n",
            "80\n",
            "90\n",
            "100\n",
            "110\n"
          ],
          "name": "stdout"
        }
      ]
    },
    {
      "cell_type": "code",
      "metadata": {
        "id": "-czM2DG2xJRf",
        "colab": {
          "base_uri": "https://localhost:8080/",
          "height": 452
        },
        "outputId": "d9d2db3c-54dd-4f51-9d33-e60974cf6907"
      },
      "source": [
        "results_df = pd.DataFrame(\n",
        "    results10,\n",
        "    columns=[\"train_era\", \"test_era\", \"score\"]\n",
        ").pivot(index=\"train_era\", columns=\"test_era\", values=\"score\")\n",
        "results_df"
      ],
      "execution_count": 39,
      "outputs": [
        {
          "output_type": "execute_result",
          "data": {
            "text/html": [
              "<div>\n",
              "<style scoped>\n",
              "    .dataframe tbody tr th:only-of-type {\n",
              "        vertical-align: middle;\n",
              "    }\n",
              "\n",
              "    .dataframe tbody tr th {\n",
              "        vertical-align: top;\n",
              "    }\n",
              "\n",
              "    .dataframe thead th {\n",
              "        text-align: right;\n",
              "    }\n",
              "</style>\n",
              "<table border=\"1\" class=\"dataframe\">\n",
              "  <thead>\n",
              "    <tr style=\"text-align: right;\">\n",
              "      <th>test_era</th>\n",
              "      <th>0</th>\n",
              "      <th>10</th>\n",
              "      <th>20</th>\n",
              "      <th>30</th>\n",
              "      <th>40</th>\n",
              "      <th>50</th>\n",
              "      <th>60</th>\n",
              "      <th>70</th>\n",
              "      <th>80</th>\n",
              "      <th>90</th>\n",
              "      <th>100</th>\n",
              "      <th>110</th>\n",
              "    </tr>\n",
              "    <tr>\n",
              "      <th>train_era</th>\n",
              "      <th></th>\n",
              "      <th></th>\n",
              "      <th></th>\n",
              "      <th></th>\n",
              "      <th></th>\n",
              "      <th></th>\n",
              "      <th></th>\n",
              "      <th></th>\n",
              "      <th></th>\n",
              "      <th></th>\n",
              "      <th></th>\n",
              "      <th></th>\n",
              "    </tr>\n",
              "  </thead>\n",
              "  <tbody>\n",
              "    <tr>\n",
              "      <th>0</th>\n",
              "      <td>0.146150</td>\n",
              "      <td>0.032129</td>\n",
              "      <td>0.035402</td>\n",
              "      <td>0.028768</td>\n",
              "      <td>0.022199</td>\n",
              "      <td>0.007013</td>\n",
              "      <td>0.000145</td>\n",
              "      <td>0.031190</td>\n",
              "      <td>0.027709</td>\n",
              "      <td>0.031402</td>\n",
              "      <td>0.020474</td>\n",
              "      <td>0.000846</td>\n",
              "    </tr>\n",
              "    <tr>\n",
              "      <th>10</th>\n",
              "      <td>0.042176</td>\n",
              "      <td>0.114813</td>\n",
              "      <td>0.028706</td>\n",
              "      <td>0.029850</td>\n",
              "      <td>0.033694</td>\n",
              "      <td>0.004719</td>\n",
              "      <td>0.007919</td>\n",
              "      <td>0.022929</td>\n",
              "      <td>0.021418</td>\n",
              "      <td>0.030493</td>\n",
              "      <td>0.020959</td>\n",
              "      <td>0.014461</td>\n",
              "    </tr>\n",
              "    <tr>\n",
              "      <th>20</th>\n",
              "      <td>0.043150</td>\n",
              "      <td>0.033498</td>\n",
              "      <td>0.113055</td>\n",
              "      <td>0.036623</td>\n",
              "      <td>0.016749</td>\n",
              "      <td>0.005657</td>\n",
              "      <td>-0.000921</td>\n",
              "      <td>0.019247</td>\n",
              "      <td>0.012808</td>\n",
              "      <td>0.026045</td>\n",
              "      <td>0.022043</td>\n",
              "      <td>0.009032</td>\n",
              "    </tr>\n",
              "    <tr>\n",
              "      <th>30</th>\n",
              "      <td>0.035717</td>\n",
              "      <td>0.033931</td>\n",
              "      <td>0.039603</td>\n",
              "      <td>0.109884</td>\n",
              "      <td>0.040289</td>\n",
              "      <td>0.020827</td>\n",
              "      <td>0.016016</td>\n",
              "      <td>0.033713</td>\n",
              "      <td>0.026079</td>\n",
              "      <td>0.035938</td>\n",
              "      <td>0.013354</td>\n",
              "      <td>0.007314</td>\n",
              "    </tr>\n",
              "    <tr>\n",
              "      <th>40</th>\n",
              "      <td>0.035735</td>\n",
              "      <td>0.041718</td>\n",
              "      <td>0.020463</td>\n",
              "      <td>0.040350</td>\n",
              "      <td>0.100257</td>\n",
              "      <td>0.014421</td>\n",
              "      <td>0.008110</td>\n",
              "      <td>0.028111</td>\n",
              "      <td>0.023099</td>\n",
              "      <td>0.029044</td>\n",
              "      <td>0.012403</td>\n",
              "      <td>0.015087</td>\n",
              "    </tr>\n",
              "    <tr>\n",
              "      <th>50</th>\n",
              "      <td>0.015032</td>\n",
              "      <td>0.009597</td>\n",
              "      <td>0.006857</td>\n",
              "      <td>0.024269</td>\n",
              "      <td>0.015133</td>\n",
              "      <td>0.104185</td>\n",
              "      <td>0.011908</td>\n",
              "      <td>0.011568</td>\n",
              "      <td>0.004707</td>\n",
              "      <td>0.018199</td>\n",
              "      <td>0.012944</td>\n",
              "      <td>0.017232</td>\n",
              "    </tr>\n",
              "    <tr>\n",
              "      <th>60</th>\n",
              "      <td>0.006904</td>\n",
              "      <td>0.015985</td>\n",
              "      <td>0.004195</td>\n",
              "      <td>0.019559</td>\n",
              "      <td>0.012405</td>\n",
              "      <td>0.009676</td>\n",
              "      <td>0.101631</td>\n",
              "      <td>0.012528</td>\n",
              "      <td>0.009854</td>\n",
              "      <td>-0.001292</td>\n",
              "      <td>0.006891</td>\n",
              "      <td>0.011598</td>\n",
              "    </tr>\n",
              "    <tr>\n",
              "      <th>70</th>\n",
              "      <td>0.034285</td>\n",
              "      <td>0.025224</td>\n",
              "      <td>0.022038</td>\n",
              "      <td>0.028531</td>\n",
              "      <td>0.023215</td>\n",
              "      <td>0.001983</td>\n",
              "      <td>0.008260</td>\n",
              "      <td>0.121686</td>\n",
              "      <td>0.027489</td>\n",
              "      <td>0.029857</td>\n",
              "      <td>0.017433</td>\n",
              "      <td>0.003416</td>\n",
              "    </tr>\n",
              "    <tr>\n",
              "      <th>80</th>\n",
              "      <td>0.039583</td>\n",
              "      <td>0.026868</td>\n",
              "      <td>0.011519</td>\n",
              "      <td>0.021709</td>\n",
              "      <td>0.017747</td>\n",
              "      <td>0.002520</td>\n",
              "      <td>0.005699</td>\n",
              "      <td>0.027230</td>\n",
              "      <td>0.104300</td>\n",
              "      <td>0.028776</td>\n",
              "      <td>0.016033</td>\n",
              "      <td>0.006889</td>\n",
              "    </tr>\n",
              "    <tr>\n",
              "      <th>90</th>\n",
              "      <td>0.032820</td>\n",
              "      <td>0.029052</td>\n",
              "      <td>0.022923</td>\n",
              "      <td>0.031348</td>\n",
              "      <td>0.019984</td>\n",
              "      <td>0.010041</td>\n",
              "      <td>-0.004109</td>\n",
              "      <td>0.026778</td>\n",
              "      <td>0.023067</td>\n",
              "      <td>0.112866</td>\n",
              "      <td>0.017206</td>\n",
              "      <td>0.010063</td>\n",
              "    </tr>\n",
              "    <tr>\n",
              "      <th>100</th>\n",
              "      <td>0.028338</td>\n",
              "      <td>0.017983</td>\n",
              "      <td>0.021720</td>\n",
              "      <td>0.009919</td>\n",
              "      <td>0.007791</td>\n",
              "      <td>0.012095</td>\n",
              "      <td>0.007808</td>\n",
              "      <td>0.020565</td>\n",
              "      <td>0.010922</td>\n",
              "      <td>0.019488</td>\n",
              "      <td>0.100101</td>\n",
              "      <td>0.014869</td>\n",
              "    </tr>\n",
              "    <tr>\n",
              "      <th>110</th>\n",
              "      <td>0.001811</td>\n",
              "      <td>0.018358</td>\n",
              "      <td>0.009416</td>\n",
              "      <td>0.006702</td>\n",
              "      <td>0.014735</td>\n",
              "      <td>0.016499</td>\n",
              "      <td>0.011062</td>\n",
              "      <td>0.005973</td>\n",
              "      <td>0.008529</td>\n",
              "      <td>0.017795</td>\n",
              "      <td>0.013131</td>\n",
              "      <td>0.094399</td>\n",
              "    </tr>\n",
              "  </tbody>\n",
              "</table>\n",
              "</div>"
            ],
            "text/plain": [
              "test_era        0         10        20   ...       90        100       110\n",
              "train_era                                ...                              \n",
              "0          0.146150  0.032129  0.035402  ...  0.031402  0.020474  0.000846\n",
              "10         0.042176  0.114813  0.028706  ...  0.030493  0.020959  0.014461\n",
              "20         0.043150  0.033498  0.113055  ...  0.026045  0.022043  0.009032\n",
              "30         0.035717  0.033931  0.039603  ...  0.035938  0.013354  0.007314\n",
              "40         0.035735  0.041718  0.020463  ...  0.029044  0.012403  0.015087\n",
              "50         0.015032  0.009597  0.006857  ...  0.018199  0.012944  0.017232\n",
              "60         0.006904  0.015985  0.004195  ... -0.001292  0.006891  0.011598\n",
              "70         0.034285  0.025224  0.022038  ...  0.029857  0.017433  0.003416\n",
              "80         0.039583  0.026868  0.011519  ...  0.028776  0.016033  0.006889\n",
              "90         0.032820  0.029052  0.022923  ...  0.112866  0.017206  0.010063\n",
              "100        0.028338  0.017983  0.021720  ...  0.019488  0.100101  0.014869\n",
              "110        0.001811  0.018358  0.009416  ...  0.017795  0.013131  0.094399\n",
              "\n",
              "[12 rows x 12 columns]"
            ]
          },
          "metadata": {
            "tags": []
          },
          "execution_count": 39
        }
      ]
    },
    {
      "cell_type": "code",
      "metadata": {
        "id": "JaUGb5JWxdd_",
        "colab": {
          "base_uri": "https://localhost:8080/",
          "height": 880
        },
        "outputId": "4b18ffc3-032c-4937-abc6-66bc36a988fd"
      },
      "source": [
        "# Each row here is the training block of eras, each column is a testing block of eras.\n",
        "# Note that there is a period in the middle that does not seem to be relevant to other eras, and the\n",
        "#  overall performance seems to decrease a bit over time.\n",
        "plt.figure(figsize=(15,15))\n",
        "plt.imshow(results_df, vmin=-0.04, vmax=0.04, cmap=\"RdYlGn\")"
      ],
      "execution_count": 40,
      "outputs": [
        {
          "output_type": "execute_result",
          "data": {
            "text/plain": [
              "<matplotlib.image.AxesImage at 0x7fa95e7c3ac8>"
            ]
          },
          "metadata": {
            "tags": []
          },
          "execution_count": 40
        },
        {
          "output_type": "display_data",
          "data": {
            "image/png": "[encoded data removed]",
            "text/plain": [
              "<Figure size 1080x1080 with 1 Axes>"
            ]
          },
          "metadata": {
            "tags": []
          }
        }
      ]
    }
  ]
}